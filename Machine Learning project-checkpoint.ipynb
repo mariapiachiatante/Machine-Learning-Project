{
 "cells": [
  {
   "cell_type": "code",
   "execution_count": 1,
   "metadata": {},
   "outputs": [],
   "source": [
    "import pandas as pd\n",
    "import numpy as np\n",
    "import matplotlib \n",
    "import matplotlib.pyplot as plt\n",
    "import random"
   ]
  },
  {
   "cell_type": "code",
   "execution_count": 2,
   "metadata": {},
   "outputs": [],
   "source": [
    "housing = pd.read_csv(\"C:/Users/chiat/Desktop/Mary/unimi/machine learning/cal-housing.csv\")"
   ]
  },
  {
   "cell_type": "code",
   "execution_count": 3,
   "metadata": {},
   "outputs": [
    {
     "name": "stdout",
     "output_type": "stream",
     "text": [
      "<class 'pandas.core.frame.DataFrame'>\n",
      "RangeIndex: 20640 entries, 0 to 20639\n",
      "Data columns (total 10 columns):\n",
      "longitude             20640 non-null float64\n",
      "latitude              20640 non-null float64\n",
      "housing_median_age    20640 non-null float64\n",
      "total_rooms           20640 non-null float64\n",
      "total_bedrooms        20433 non-null float64\n",
      "population            20640 non-null float64\n",
      "households            20640 non-null float64\n",
      "median_income         20640 non-null float64\n",
      "median_house_value    20640 non-null float64\n",
      "ocean_proximity       20640 non-null object\n",
      "dtypes: float64(9), object(1)\n",
      "memory usage: 1.6+ MB\n"
     ]
    }
   ],
   "source": [
    "housing.info()"
   ]
  },
  {
   "cell_type": "code",
   "execution_count": 4,
   "metadata": {},
   "outputs": [
    {
     "data": {
      "text/html": [
       "<div>\n",
       "<style scoped>\n",
       "    .dataframe tbody tr th:only-of-type {\n",
       "        vertical-align: middle;\n",
       "    }\n",
       "\n",
       "    .dataframe tbody tr th {\n",
       "        vertical-align: top;\n",
       "    }\n",
       "\n",
       "    .dataframe thead th {\n",
       "        text-align: right;\n",
       "    }\n",
       "</style>\n",
       "<table border=\"1\" class=\"dataframe\">\n",
       "  <thead>\n",
       "    <tr style=\"text-align: right;\">\n",
       "      <th></th>\n",
       "      <th>longitude</th>\n",
       "      <th>latitude</th>\n",
       "      <th>housing_median_age</th>\n",
       "      <th>total_rooms</th>\n",
       "      <th>total_bedrooms</th>\n",
       "      <th>population</th>\n",
       "      <th>households</th>\n",
       "      <th>median_income</th>\n",
       "      <th>median_house_value</th>\n",
       "      <th>ocean_proximity</th>\n",
       "    </tr>\n",
       "  </thead>\n",
       "  <tbody>\n",
       "    <tr>\n",
       "      <th>0</th>\n",
       "      <td>-122.23</td>\n",
       "      <td>37.88</td>\n",
       "      <td>41.0</td>\n",
       "      <td>880.0</td>\n",
       "      <td>129.0</td>\n",
       "      <td>322.0</td>\n",
       "      <td>126.0</td>\n",
       "      <td>8.3252</td>\n",
       "      <td>452600.0</td>\n",
       "      <td>NEAR BAY</td>\n",
       "    </tr>\n",
       "    <tr>\n",
       "      <th>1</th>\n",
       "      <td>-122.22</td>\n",
       "      <td>37.86</td>\n",
       "      <td>21.0</td>\n",
       "      <td>7099.0</td>\n",
       "      <td>1106.0</td>\n",
       "      <td>2401.0</td>\n",
       "      <td>1138.0</td>\n",
       "      <td>8.3014</td>\n",
       "      <td>358500.0</td>\n",
       "      <td>NEAR BAY</td>\n",
       "    </tr>\n",
       "    <tr>\n",
       "      <th>2</th>\n",
       "      <td>-122.24</td>\n",
       "      <td>37.85</td>\n",
       "      <td>52.0</td>\n",
       "      <td>1467.0</td>\n",
       "      <td>190.0</td>\n",
       "      <td>496.0</td>\n",
       "      <td>177.0</td>\n",
       "      <td>7.2574</td>\n",
       "      <td>352100.0</td>\n",
       "      <td>NEAR BAY</td>\n",
       "    </tr>\n",
       "    <tr>\n",
       "      <th>3</th>\n",
       "      <td>-122.25</td>\n",
       "      <td>37.85</td>\n",
       "      <td>52.0</td>\n",
       "      <td>1274.0</td>\n",
       "      <td>235.0</td>\n",
       "      <td>558.0</td>\n",
       "      <td>219.0</td>\n",
       "      <td>5.6431</td>\n",
       "      <td>341300.0</td>\n",
       "      <td>NEAR BAY</td>\n",
       "    </tr>\n",
       "    <tr>\n",
       "      <th>4</th>\n",
       "      <td>-122.25</td>\n",
       "      <td>37.85</td>\n",
       "      <td>52.0</td>\n",
       "      <td>1627.0</td>\n",
       "      <td>280.0</td>\n",
       "      <td>565.0</td>\n",
       "      <td>259.0</td>\n",
       "      <td>3.8462</td>\n",
       "      <td>342200.0</td>\n",
       "      <td>NEAR BAY</td>\n",
       "    </tr>\n",
       "  </tbody>\n",
       "</table>\n",
       "</div>"
      ],
      "text/plain": [
       "   longitude  latitude  housing_median_age  total_rooms  total_bedrooms  \\\n",
       "0    -122.23     37.88                41.0        880.0           129.0   \n",
       "1    -122.22     37.86                21.0       7099.0          1106.0   \n",
       "2    -122.24     37.85                52.0       1467.0           190.0   \n",
       "3    -122.25     37.85                52.0       1274.0           235.0   \n",
       "4    -122.25     37.85                52.0       1627.0           280.0   \n",
       "\n",
       "   population  households  median_income  median_house_value ocean_proximity  \n",
       "0       322.0       126.0         8.3252            452600.0        NEAR BAY  \n",
       "1      2401.0      1138.0         8.3014            358500.0        NEAR BAY  \n",
       "2       496.0       177.0         7.2574            352100.0        NEAR BAY  \n",
       "3       558.0       219.0         5.6431            341300.0        NEAR BAY  \n",
       "4       565.0       259.0         3.8462            342200.0        NEAR BAY  "
      ]
     },
     "execution_count": 4,
     "metadata": {},
     "output_type": "execute_result"
    }
   ],
   "source": [
    "housing.head()"
   ]
  },
  {
   "cell_type": "code",
   "execution_count": 5,
   "metadata": {},
   "outputs": [
    {
     "data": {
      "text/plain": [
       "(20640, 10)"
      ]
     },
     "execution_count": 5,
     "metadata": {},
     "output_type": "execute_result"
    }
   ],
   "source": [
    "housing.shape"
   ]
  },
  {
   "cell_type": "code",
   "execution_count": 6,
   "metadata": {},
   "outputs": [
    {
     "data": {
      "text/html": [
       "<div>\n",
       "<style scoped>\n",
       "    .dataframe tbody tr th:only-of-type {\n",
       "        vertical-align: middle;\n",
       "    }\n",
       "\n",
       "    .dataframe tbody tr th {\n",
       "        vertical-align: top;\n",
       "    }\n",
       "\n",
       "    .dataframe thead th {\n",
       "        text-align: right;\n",
       "    }\n",
       "</style>\n",
       "<table border=\"1\" class=\"dataframe\">\n",
       "  <thead>\n",
       "    <tr style=\"text-align: right;\">\n",
       "      <th></th>\n",
       "      <th>longitude</th>\n",
       "      <th>latitude</th>\n",
       "      <th>housing_median_age</th>\n",
       "      <th>total_rooms</th>\n",
       "      <th>total_bedrooms</th>\n",
       "      <th>population</th>\n",
       "      <th>households</th>\n",
       "      <th>median_income</th>\n",
       "      <th>median_house_value</th>\n",
       "    </tr>\n",
       "  </thead>\n",
       "  <tbody>\n",
       "    <tr>\n",
       "      <th>count</th>\n",
       "      <td>20640.000000</td>\n",
       "      <td>20640.000000</td>\n",
       "      <td>20640.000000</td>\n",
       "      <td>20640.000000</td>\n",
       "      <td>20433.000000</td>\n",
       "      <td>20640.000000</td>\n",
       "      <td>20640.000000</td>\n",
       "      <td>20640.000000</td>\n",
       "      <td>20640.000000</td>\n",
       "    </tr>\n",
       "    <tr>\n",
       "      <th>mean</th>\n",
       "      <td>-119.569704</td>\n",
       "      <td>35.631861</td>\n",
       "      <td>28.639486</td>\n",
       "      <td>2635.763081</td>\n",
       "      <td>537.870553</td>\n",
       "      <td>1425.476744</td>\n",
       "      <td>499.539680</td>\n",
       "      <td>3.870671</td>\n",
       "      <td>206855.816909</td>\n",
       "    </tr>\n",
       "    <tr>\n",
       "      <th>std</th>\n",
       "      <td>2.003532</td>\n",
       "      <td>2.135952</td>\n",
       "      <td>12.585558</td>\n",
       "      <td>2181.615252</td>\n",
       "      <td>421.385070</td>\n",
       "      <td>1132.462122</td>\n",
       "      <td>382.329753</td>\n",
       "      <td>1.899822</td>\n",
       "      <td>115395.615874</td>\n",
       "    </tr>\n",
       "    <tr>\n",
       "      <th>min</th>\n",
       "      <td>-124.350000</td>\n",
       "      <td>32.540000</td>\n",
       "      <td>1.000000</td>\n",
       "      <td>2.000000</td>\n",
       "      <td>1.000000</td>\n",
       "      <td>3.000000</td>\n",
       "      <td>1.000000</td>\n",
       "      <td>0.499900</td>\n",
       "      <td>14999.000000</td>\n",
       "    </tr>\n",
       "    <tr>\n",
       "      <th>25%</th>\n",
       "      <td>-121.800000</td>\n",
       "      <td>33.930000</td>\n",
       "      <td>18.000000</td>\n",
       "      <td>1447.750000</td>\n",
       "      <td>296.000000</td>\n",
       "      <td>787.000000</td>\n",
       "      <td>280.000000</td>\n",
       "      <td>2.563400</td>\n",
       "      <td>119600.000000</td>\n",
       "    </tr>\n",
       "    <tr>\n",
       "      <th>50%</th>\n",
       "      <td>-118.490000</td>\n",
       "      <td>34.260000</td>\n",
       "      <td>29.000000</td>\n",
       "      <td>2127.000000</td>\n",
       "      <td>435.000000</td>\n",
       "      <td>1166.000000</td>\n",
       "      <td>409.000000</td>\n",
       "      <td>3.534800</td>\n",
       "      <td>179700.000000</td>\n",
       "    </tr>\n",
       "    <tr>\n",
       "      <th>75%</th>\n",
       "      <td>-118.010000</td>\n",
       "      <td>37.710000</td>\n",
       "      <td>37.000000</td>\n",
       "      <td>3148.000000</td>\n",
       "      <td>647.000000</td>\n",
       "      <td>1725.000000</td>\n",
       "      <td>605.000000</td>\n",
       "      <td>4.743250</td>\n",
       "      <td>264725.000000</td>\n",
       "    </tr>\n",
       "    <tr>\n",
       "      <th>max</th>\n",
       "      <td>-114.310000</td>\n",
       "      <td>41.950000</td>\n",
       "      <td>52.000000</td>\n",
       "      <td>39320.000000</td>\n",
       "      <td>6445.000000</td>\n",
       "      <td>35682.000000</td>\n",
       "      <td>6082.000000</td>\n",
       "      <td>15.000100</td>\n",
       "      <td>500001.000000</td>\n",
       "    </tr>\n",
       "  </tbody>\n",
       "</table>\n",
       "</div>"
      ],
      "text/plain": [
       "          longitude      latitude  housing_median_age   total_rooms  \\\n",
       "count  20640.000000  20640.000000        20640.000000  20640.000000   \n",
       "mean    -119.569704     35.631861           28.639486   2635.763081   \n",
       "std        2.003532      2.135952           12.585558   2181.615252   \n",
       "min     -124.350000     32.540000            1.000000      2.000000   \n",
       "25%     -121.800000     33.930000           18.000000   1447.750000   \n",
       "50%     -118.490000     34.260000           29.000000   2127.000000   \n",
       "75%     -118.010000     37.710000           37.000000   3148.000000   \n",
       "max     -114.310000     41.950000           52.000000  39320.000000   \n",
       "\n",
       "       total_bedrooms    population    households  median_income  \\\n",
       "count    20433.000000  20640.000000  20640.000000   20640.000000   \n",
       "mean       537.870553   1425.476744    499.539680       3.870671   \n",
       "std        421.385070   1132.462122    382.329753       1.899822   \n",
       "min          1.000000      3.000000      1.000000       0.499900   \n",
       "25%        296.000000    787.000000    280.000000       2.563400   \n",
       "50%        435.000000   1166.000000    409.000000       3.534800   \n",
       "75%        647.000000   1725.000000    605.000000       4.743250   \n",
       "max       6445.000000  35682.000000   6082.000000      15.000100   \n",
       "\n",
       "       median_house_value  \n",
       "count        20640.000000  \n",
       "mean        206855.816909  \n",
       "std         115395.615874  \n",
       "min          14999.000000  \n",
       "25%         119600.000000  \n",
       "50%         179700.000000  \n",
       "75%         264725.000000  \n",
       "max         500001.000000  "
      ]
     },
     "execution_count": 6,
     "metadata": {},
     "output_type": "execute_result"
    }
   ],
   "source": [
    "housing.describe()"
   ]
  },
  {
   "cell_type": "code",
   "execution_count": 7,
   "metadata": {},
   "outputs": [
    {
     "data": {
      "text/html": [
       "<div>\n",
       "<style scoped>\n",
       "    .dataframe tbody tr th:only-of-type {\n",
       "        vertical-align: middle;\n",
       "    }\n",
       "\n",
       "    .dataframe tbody tr th {\n",
       "        vertical-align: top;\n",
       "    }\n",
       "\n",
       "    .dataframe thead th {\n",
       "        text-align: right;\n",
       "    }\n",
       "</style>\n",
       "<table border=\"1\" class=\"dataframe\">\n",
       "  <thead>\n",
       "    <tr style=\"text-align: right;\">\n",
       "      <th></th>\n",
       "      <th>longitude</th>\n",
       "      <th>latitude</th>\n",
       "      <th>housing_median_age</th>\n",
       "      <th>total_rooms</th>\n",
       "      <th>total_bedrooms</th>\n",
       "      <th>population</th>\n",
       "      <th>households</th>\n",
       "      <th>median_income</th>\n",
       "      <th>median_house_value</th>\n",
       "      <th>ocean_proximity_&lt;1H OCEAN</th>\n",
       "      <th>ocean_proximity_INLAND</th>\n",
       "      <th>ocean_proximity_ISLAND</th>\n",
       "      <th>ocean_proximity_NEAR BAY</th>\n",
       "      <th>ocean_proximity_NEAR OCEAN</th>\n",
       "    </tr>\n",
       "  </thead>\n",
       "  <tbody>\n",
       "    <tr>\n",
       "      <th>0</th>\n",
       "      <td>-122.23</td>\n",
       "      <td>37.88</td>\n",
       "      <td>41.0</td>\n",
       "      <td>880.0</td>\n",
       "      <td>129.0</td>\n",
       "      <td>322.0</td>\n",
       "      <td>126.0</td>\n",
       "      <td>8.3252</td>\n",
       "      <td>452600.0</td>\n",
       "      <td>0</td>\n",
       "      <td>0</td>\n",
       "      <td>0</td>\n",
       "      <td>1</td>\n",
       "      <td>0</td>\n",
       "    </tr>\n",
       "    <tr>\n",
       "      <th>1</th>\n",
       "      <td>-122.22</td>\n",
       "      <td>37.86</td>\n",
       "      <td>21.0</td>\n",
       "      <td>7099.0</td>\n",
       "      <td>1106.0</td>\n",
       "      <td>2401.0</td>\n",
       "      <td>1138.0</td>\n",
       "      <td>8.3014</td>\n",
       "      <td>358500.0</td>\n",
       "      <td>0</td>\n",
       "      <td>0</td>\n",
       "      <td>0</td>\n",
       "      <td>1</td>\n",
       "      <td>0</td>\n",
       "    </tr>\n",
       "    <tr>\n",
       "      <th>2</th>\n",
       "      <td>-122.24</td>\n",
       "      <td>37.85</td>\n",
       "      <td>52.0</td>\n",
       "      <td>1467.0</td>\n",
       "      <td>190.0</td>\n",
       "      <td>496.0</td>\n",
       "      <td>177.0</td>\n",
       "      <td>7.2574</td>\n",
       "      <td>352100.0</td>\n",
       "      <td>0</td>\n",
       "      <td>0</td>\n",
       "      <td>0</td>\n",
       "      <td>1</td>\n",
       "      <td>0</td>\n",
       "    </tr>\n",
       "    <tr>\n",
       "      <th>3</th>\n",
       "      <td>-122.25</td>\n",
       "      <td>37.85</td>\n",
       "      <td>52.0</td>\n",
       "      <td>1274.0</td>\n",
       "      <td>235.0</td>\n",
       "      <td>558.0</td>\n",
       "      <td>219.0</td>\n",
       "      <td>5.6431</td>\n",
       "      <td>341300.0</td>\n",
       "      <td>0</td>\n",
       "      <td>0</td>\n",
       "      <td>0</td>\n",
       "      <td>1</td>\n",
       "      <td>0</td>\n",
       "    </tr>\n",
       "    <tr>\n",
       "      <th>4</th>\n",
       "      <td>-122.25</td>\n",
       "      <td>37.85</td>\n",
       "      <td>52.0</td>\n",
       "      <td>1627.0</td>\n",
       "      <td>280.0</td>\n",
       "      <td>565.0</td>\n",
       "      <td>259.0</td>\n",
       "      <td>3.8462</td>\n",
       "      <td>342200.0</td>\n",
       "      <td>0</td>\n",
       "      <td>0</td>\n",
       "      <td>0</td>\n",
       "      <td>1</td>\n",
       "      <td>0</td>\n",
       "    </tr>\n",
       "  </tbody>\n",
       "</table>\n",
       "</div>"
      ],
      "text/plain": [
       "   longitude  latitude  housing_median_age  total_rooms  total_bedrooms  \\\n",
       "0    -122.23     37.88                41.0        880.0           129.0   \n",
       "1    -122.22     37.86                21.0       7099.0          1106.0   \n",
       "2    -122.24     37.85                52.0       1467.0           190.0   \n",
       "3    -122.25     37.85                52.0       1274.0           235.0   \n",
       "4    -122.25     37.85                52.0       1627.0           280.0   \n",
       "\n",
       "   population  households  median_income  median_house_value  \\\n",
       "0       322.0       126.0         8.3252            452600.0   \n",
       "1      2401.0      1138.0         8.3014            358500.0   \n",
       "2       496.0       177.0         7.2574            352100.0   \n",
       "3       558.0       219.0         5.6431            341300.0   \n",
       "4       565.0       259.0         3.8462            342200.0   \n",
       "\n",
       "   ocean_proximity_<1H OCEAN  ocean_proximity_INLAND  ocean_proximity_ISLAND  \\\n",
       "0                          0                       0                       0   \n",
       "1                          0                       0                       0   \n",
       "2                          0                       0                       0   \n",
       "3                          0                       0                       0   \n",
       "4                          0                       0                       0   \n",
       "\n",
       "   ocean_proximity_NEAR BAY  ocean_proximity_NEAR OCEAN  \n",
       "0                         1                           0  \n",
       "1                         1                           0  \n",
       "2                         1                           0  \n",
       "3                         1                           0  \n",
       "4                         1                           0  "
      ]
     },
     "execution_count": 7,
     "metadata": {},
     "output_type": "execute_result"
    }
   ],
   "source": [
    "housing2 = pd.get_dummies(housing, columns=[\"ocean_proximity\"])\n",
    "housing2.head()"
   ]
  },
  {
   "cell_type": "code",
   "execution_count": 8,
   "metadata": {},
   "outputs": [],
   "source": [
    "random.seed(15)\n",
    "sample_housing2 = housing2.sample(frac=1)\n",
    "training_size = int(0.7 * len(housing2))\n",
    "training_set = sample_housing2[:training_size]\n",
    "test_set = sample_housing2[training_size:]"
   ]
  },
  {
   "cell_type": "code",
   "execution_count": 9,
   "metadata": {},
   "outputs": [
    {
     "data": {
      "text/plain": [
       "((14447, 14), (6193, 14))"
      ]
     },
     "execution_count": 9,
     "metadata": {},
     "output_type": "execute_result"
    }
   ],
   "source": [
    "training_set.shape, test_set.shape"
   ]
  },
  {
   "cell_type": "code",
   "execution_count": 10,
   "metadata": {},
   "outputs": [],
   "source": [
    "training_set = training_set.fillna(training_set.mean())\n",
    "test_set = test_set.fillna(test_set.mean())"
   ]
  },
  {
   "cell_type": "code",
   "execution_count": 11,
   "metadata": {},
   "outputs": [],
   "source": [
    "#normalization\n",
    "def norm(df):\n",
    "    df = (df-df.min())/(df.max()-df.min())\n",
    "    return df"
   ]
  },
  {
   "cell_type": "code",
   "execution_count": 12,
   "metadata": {},
   "outputs": [
    {
     "data": {
      "text/html": [
       "<div>\n",
       "<style scoped>\n",
       "    .dataframe tbody tr th:only-of-type {\n",
       "        vertical-align: middle;\n",
       "    }\n",
       "\n",
       "    .dataframe tbody tr th {\n",
       "        vertical-align: top;\n",
       "    }\n",
       "\n",
       "    .dataframe thead th {\n",
       "        text-align: right;\n",
       "    }\n",
       "</style>\n",
       "<table border=\"1\" class=\"dataframe\">\n",
       "  <thead>\n",
       "    <tr style=\"text-align: right;\">\n",
       "      <th></th>\n",
       "      <th>longitude</th>\n",
       "      <th>latitude</th>\n",
       "      <th>housing_median_age</th>\n",
       "      <th>total_rooms</th>\n",
       "      <th>total_bedrooms</th>\n",
       "      <th>population</th>\n",
       "      <th>households</th>\n",
       "      <th>median_income</th>\n",
       "      <th>median_house_value</th>\n",
       "      <th>ocean_proximity_&lt;1H OCEAN</th>\n",
       "      <th>ocean_proximity_INLAND</th>\n",
       "      <th>ocean_proximity_ISLAND</th>\n",
       "      <th>ocean_proximity_NEAR BAY</th>\n",
       "      <th>ocean_proximity_NEAR OCEAN</th>\n",
       "    </tr>\n",
       "  </thead>\n",
       "  <tbody>\n",
       "    <tr>\n",
       "      <th>20204</th>\n",
       "      <td>0.512948</td>\n",
       "      <td>0.180851</td>\n",
       "      <td>0.470588</td>\n",
       "      <td>0.004909</td>\n",
       "      <td>0.009001</td>\n",
       "      <td>0.003840</td>\n",
       "      <td>0.006907</td>\n",
       "      <td>0.233721</td>\n",
       "      <td>0.355671</td>\n",
       "      <td>0.0</td>\n",
       "      <td>0.0</td>\n",
       "      <td>0.0</td>\n",
       "      <td>0.0</td>\n",
       "      <td>1.0</td>\n",
       "    </tr>\n",
       "    <tr>\n",
       "      <th>6941</th>\n",
       "      <td>0.622510</td>\n",
       "      <td>0.153191</td>\n",
       "      <td>0.588235</td>\n",
       "      <td>0.024493</td>\n",
       "      <td>0.033520</td>\n",
       "      <td>0.016705</td>\n",
       "      <td>0.033712</td>\n",
       "      <td>0.153122</td>\n",
       "      <td>0.361444</td>\n",
       "      <td>1.0</td>\n",
       "      <td>0.0</td>\n",
       "      <td>0.0</td>\n",
       "      <td>0.0</td>\n",
       "      <td>0.0</td>\n",
       "    </tr>\n",
       "    <tr>\n",
       "      <th>17149</th>\n",
       "      <td>0.213147</td>\n",
       "      <td>0.520213</td>\n",
       "      <td>0.666667</td>\n",
       "      <td>0.028943</td>\n",
       "      <td>0.029795</td>\n",
       "      <td>0.013537</td>\n",
       "      <td>0.032560</td>\n",
       "      <td>0.289024</td>\n",
       "      <td>1.000000</td>\n",
       "      <td>0.0</td>\n",
       "      <td>0.0</td>\n",
       "      <td>0.0</td>\n",
       "      <td>0.0</td>\n",
       "      <td>1.0</td>\n",
       "    </tr>\n",
       "    <tr>\n",
       "      <th>7963</th>\n",
       "      <td>0.613546</td>\n",
       "      <td>0.139362</td>\n",
       "      <td>0.803922</td>\n",
       "      <td>0.050791</td>\n",
       "      <td>0.066729</td>\n",
       "      <td>0.029625</td>\n",
       "      <td>0.065450</td>\n",
       "      <td>0.220907</td>\n",
       "      <td>0.313609</td>\n",
       "      <td>1.0</td>\n",
       "      <td>0.0</td>\n",
       "      <td>0.0</td>\n",
       "      <td>0.0</td>\n",
       "      <td>0.0</td>\n",
       "    </tr>\n",
       "    <tr>\n",
       "      <th>20383</th>\n",
       "      <td>0.537849</td>\n",
       "      <td>0.174468</td>\n",
       "      <td>0.450980</td>\n",
       "      <td>0.069103</td>\n",
       "      <td>0.067194</td>\n",
       "      <td>0.036856</td>\n",
       "      <td>0.069561</td>\n",
       "      <td>0.287934</td>\n",
       "      <td>0.440825</td>\n",
       "      <td>1.0</td>\n",
       "      <td>0.0</td>\n",
       "      <td>0.0</td>\n",
       "      <td>0.0</td>\n",
       "      <td>0.0</td>\n",
       "    </tr>\n",
       "  </tbody>\n",
       "</table>\n",
       "</div>"
      ],
      "text/plain": [
       "       longitude  latitude  housing_median_age  total_rooms  total_bedrooms  \\\n",
       "20204   0.512948  0.180851            0.470588     0.004909        0.009001   \n",
       "6941    0.622510  0.153191            0.588235     0.024493        0.033520   \n",
       "17149   0.213147  0.520213            0.666667     0.028943        0.029795   \n",
       "7963    0.613546  0.139362            0.803922     0.050791        0.066729   \n",
       "20383   0.537849  0.174468            0.450980     0.069103        0.067194   \n",
       "\n",
       "       population  households  median_income  median_house_value  \\\n",
       "20204    0.003840    0.006907       0.233721            0.355671   \n",
       "6941     0.016705    0.033712       0.153122            0.361444   \n",
       "17149    0.013537    0.032560       0.289024            1.000000   \n",
       "7963     0.029625    0.065450       0.220907            0.313609   \n",
       "20383    0.036856    0.069561       0.287934            0.440825   \n",
       "\n",
       "       ocean_proximity_<1H OCEAN  ocean_proximity_INLAND  \\\n",
       "20204                        0.0                     0.0   \n",
       "6941                         1.0                     0.0   \n",
       "17149                        0.0                     0.0   \n",
       "7963                         1.0                     0.0   \n",
       "20383                        1.0                     0.0   \n",
       "\n",
       "       ocean_proximity_ISLAND  ocean_proximity_NEAR BAY  \\\n",
       "20204                     0.0                       0.0   \n",
       "6941                      0.0                       0.0   \n",
       "17149                     0.0                       0.0   \n",
       "7963                      0.0                       0.0   \n",
       "20383                     0.0                       0.0   \n",
       "\n",
       "       ocean_proximity_NEAR OCEAN  \n",
       "20204                         1.0  \n",
       "6941                          0.0  \n",
       "17149                         1.0  \n",
       "7963                          0.0  \n",
       "20383                         0.0  "
      ]
     },
     "execution_count": 12,
     "metadata": {},
     "output_type": "execute_result"
    }
   ],
   "source": [
    "training_set = norm(training_set)\n",
    "training_set.head()"
   ]
  },
  {
   "cell_type": "code",
   "execution_count": 13,
   "metadata": {},
   "outputs": [
    {
     "data": {
      "text/html": [
       "<div>\n",
       "<style scoped>\n",
       "    .dataframe tbody tr th:only-of-type {\n",
       "        vertical-align: middle;\n",
       "    }\n",
       "\n",
       "    .dataframe tbody tr th {\n",
       "        vertical-align: top;\n",
       "    }\n",
       "\n",
       "    .dataframe thead th {\n",
       "        text-align: right;\n",
       "    }\n",
       "</style>\n",
       "<table border=\"1\" class=\"dataframe\">\n",
       "  <thead>\n",
       "    <tr style=\"text-align: right;\">\n",
       "      <th></th>\n",
       "      <th>longitude</th>\n",
       "      <th>latitude</th>\n",
       "      <th>housing_median_age</th>\n",
       "      <th>total_rooms</th>\n",
       "      <th>total_bedrooms</th>\n",
       "      <th>population</th>\n",
       "      <th>households</th>\n",
       "      <th>median_income</th>\n",
       "      <th>median_house_value</th>\n",
       "      <th>ocean_proximity_&lt;1H OCEAN</th>\n",
       "      <th>ocean_proximity_INLAND</th>\n",
       "      <th>ocean_proximity_ISLAND</th>\n",
       "      <th>ocean_proximity_NEAR BAY</th>\n",
       "      <th>ocean_proximity_NEAR OCEAN</th>\n",
       "    </tr>\n",
       "  </thead>\n",
       "  <tbody>\n",
       "    <tr>\n",
       "      <th>15527</th>\n",
       "      <td>0.734486</td>\n",
       "      <td>0.062699</td>\n",
       "      <td>0.313725</td>\n",
       "      <td>0.222852</td>\n",
       "      <td>0.480066</td>\n",
       "      <td>0.434567</td>\n",
       "      <td>0.436343</td>\n",
       "      <td>0.113364</td>\n",
       "      <td>0.203506</td>\n",
       "      <td>1.0</td>\n",
       "      <td>0.0</td>\n",
       "      <td>0.0</td>\n",
       "      <td>0.0</td>\n",
       "      <td>0.0</td>\n",
       "    </tr>\n",
       "    <tr>\n",
       "      <th>8037</th>\n",
       "      <td>0.626653</td>\n",
       "      <td>0.138151</td>\n",
       "      <td>0.686275</td>\n",
       "      <td>0.078767</td>\n",
       "      <td>0.087966</td>\n",
       "      <td>0.081202</td>\n",
       "      <td>0.089892</td>\n",
       "      <td>0.305727</td>\n",
       "      <td>0.441031</td>\n",
       "      <td>1.0</td>\n",
       "      <td>0.0</td>\n",
       "      <td>0.0</td>\n",
       "      <td>0.0</td>\n",
       "      <td>0.0</td>\n",
       "    </tr>\n",
       "    <tr>\n",
       "      <th>9899</th>\n",
       "      <td>0.205493</td>\n",
       "      <td>0.611052</td>\n",
       "      <td>0.352941</td>\n",
       "      <td>0.013607</td>\n",
       "      <td>0.019934</td>\n",
       "      <td>0.007760</td>\n",
       "      <td>0.014468</td>\n",
       "      <td>0.102592</td>\n",
       "      <td>0.639175</td>\n",
       "      <td>0.0</td>\n",
       "      <td>0.0</td>\n",
       "      <td>0.0</td>\n",
       "      <td>1.0</td>\n",
       "      <td>0.0</td>\n",
       "    </tr>\n",
       "    <tr>\n",
       "      <th>1559</th>\n",
       "      <td>0.237030</td>\n",
       "      <td>0.557917</td>\n",
       "      <td>0.294118</td>\n",
       "      <td>0.101735</td>\n",
       "      <td>0.087966</td>\n",
       "      <td>0.089210</td>\n",
       "      <td>0.095679</td>\n",
       "      <td>0.433497</td>\n",
       "      <td>0.672783</td>\n",
       "      <td>1.0</td>\n",
       "      <td>0.0</td>\n",
       "      <td>0.0</td>\n",
       "      <td>0.0</td>\n",
       "      <td>0.0</td>\n",
       "    </tr>\n",
       "    <tr>\n",
       "      <th>12074</th>\n",
       "      <td>0.681587</td>\n",
       "      <td>0.141339</td>\n",
       "      <td>0.333333</td>\n",
       "      <td>0.169690</td>\n",
       "      <td>0.212509</td>\n",
       "      <td>0.229824</td>\n",
       "      <td>0.213735</td>\n",
       "      <td>0.260148</td>\n",
       "      <td>0.278970</td>\n",
       "      <td>0.0</td>\n",
       "      <td>1.0</td>\n",
       "      <td>0.0</td>\n",
       "      <td>0.0</td>\n",
       "      <td>0.0</td>\n",
       "    </tr>\n",
       "  </tbody>\n",
       "</table>\n",
       "</div>"
      ],
      "text/plain": [
       "       longitude  latitude  housing_median_age  total_rooms  total_bedrooms  \\\n",
       "15527   0.734486  0.062699            0.313725     0.222852        0.480066   \n",
       "8037    0.626653  0.138151            0.686275     0.078767        0.087966   \n",
       "9899    0.205493  0.611052            0.352941     0.013607        0.019934   \n",
       "1559    0.237030  0.557917            0.294118     0.101735        0.087966   \n",
       "12074   0.681587  0.141339            0.333333     0.169690        0.212509   \n",
       "\n",
       "       population  households  median_income  median_house_value  \\\n",
       "15527    0.434567    0.436343       0.113364            0.203506   \n",
       "8037     0.081202    0.089892       0.305727            0.441031   \n",
       "9899     0.007760    0.014468       0.102592            0.639175   \n",
       "1559     0.089210    0.095679       0.433497            0.672783   \n",
       "12074    0.229824    0.213735       0.260148            0.278970   \n",
       "\n",
       "       ocean_proximity_<1H OCEAN  ocean_proximity_INLAND  \\\n",
       "15527                        1.0                     0.0   \n",
       "8037                         1.0                     0.0   \n",
       "9899                         0.0                     0.0   \n",
       "1559                         1.0                     0.0   \n",
       "12074                        0.0                     1.0   \n",
       "\n",
       "       ocean_proximity_ISLAND  ocean_proximity_NEAR BAY  \\\n",
       "15527                     0.0                       0.0   \n",
       "8037                      0.0                       0.0   \n",
       "9899                      0.0                       1.0   \n",
       "1559                      0.0                       0.0   \n",
       "12074                     0.0                       0.0   \n",
       "\n",
       "       ocean_proximity_NEAR OCEAN  \n",
       "15527                         0.0  \n",
       "8037                          0.0  \n",
       "9899                          0.0  \n",
       "1559                          0.0  \n",
       "12074                         0.0  "
      ]
     },
     "execution_count": 13,
     "metadata": {},
     "output_type": "execute_result"
    }
   ],
   "source": [
    "test_set = norm(test_set)\n",
    "test_set.head()"
   ]
  },
  {
   "cell_type": "code",
   "execution_count": 14,
   "metadata": {},
   "outputs": [
    {
     "data": {
      "text/html": [
       "<div>\n",
       "<style scoped>\n",
       "    .dataframe tbody tr th:only-of-type {\n",
       "        vertical-align: middle;\n",
       "    }\n",
       "\n",
       "    .dataframe tbody tr th {\n",
       "        vertical-align: top;\n",
       "    }\n",
       "\n",
       "    .dataframe thead th {\n",
       "        text-align: right;\n",
       "    }\n",
       "</style>\n",
       "<table border=\"1\" class=\"dataframe\">\n",
       "  <thead>\n",
       "    <tr style=\"text-align: right;\">\n",
       "      <th></th>\n",
       "      <th>longitude</th>\n",
       "      <th>latitude</th>\n",
       "      <th>housing_median_age</th>\n",
       "      <th>total_rooms</th>\n",
       "      <th>total_bedrooms</th>\n",
       "      <th>population</th>\n",
       "      <th>households</th>\n",
       "      <th>median_income</th>\n",
       "      <th>median_house_value</th>\n",
       "      <th>ocean_proximity_&lt;1H OCEAN</th>\n",
       "      <th>ocean_proximity_INLAND</th>\n",
       "      <th>ocean_proximity_ISLAND</th>\n",
       "      <th>ocean_proximity_NEAR BAY</th>\n",
       "      <th>ocean_proximity_NEAR OCEAN</th>\n",
       "    </tr>\n",
       "  </thead>\n",
       "  <tbody>\n",
       "    <tr>\n",
       "      <th>longitude</th>\n",
       "      <td>1.000000</td>\n",
       "      <td>-0.924304</td>\n",
       "      <td>-0.108962</td>\n",
       "      <td>0.042976</td>\n",
       "      <td>0.066383</td>\n",
       "      <td>0.100471</td>\n",
       "      <td>0.055287</td>\n",
       "      <td>-0.011492</td>\n",
       "      <td>-0.045534</td>\n",
       "      <td>0.317135</td>\n",
       "      <td>-0.055240</td>\n",
       "      <td>0.008674</td>\n",
       "      <td>-0.473245</td>\n",
       "      <td>0.051173</td>\n",
       "    </tr>\n",
       "    <tr>\n",
       "      <th>latitude</th>\n",
       "      <td>-0.924304</td>\n",
       "      <td>1.000000</td>\n",
       "      <td>0.013378</td>\n",
       "      <td>-0.035849</td>\n",
       "      <td>-0.065962</td>\n",
       "      <td>-0.110065</td>\n",
       "      <td>-0.072629</td>\n",
       "      <td>-0.083045</td>\n",
       "      <td>-0.144585</td>\n",
       "      <td>-0.443723</td>\n",
       "      <td>0.351581</td>\n",
       "      <td>-0.015304</td>\n",
       "      <td>0.356026</td>\n",
       "      <td>-0.165749</td>\n",
       "    </tr>\n",
       "    <tr>\n",
       "      <th>housing_median_age</th>\n",
       "      <td>-0.108962</td>\n",
       "      <td>0.013378</td>\n",
       "      <td>1.000000</td>\n",
       "      <td>-0.362740</td>\n",
       "      <td>-0.318381</td>\n",
       "      <td>-0.293456</td>\n",
       "      <td>-0.301235</td>\n",
       "      <td>-0.124819</td>\n",
       "      <td>0.099183</td>\n",
       "      <td>0.043168</td>\n",
       "      <td>-0.231203</td>\n",
       "      <td>0.008413</td>\n",
       "      <td>0.252904</td>\n",
       "      <td>0.019655</td>\n",
       "    </tr>\n",
       "    <tr>\n",
       "      <th>total_rooms</th>\n",
       "      <td>0.042976</td>\n",
       "      <td>-0.035849</td>\n",
       "      <td>-0.362740</td>\n",
       "      <td>1.000000</td>\n",
       "      <td>0.926366</td>\n",
       "      <td>0.854796</td>\n",
       "      <td>0.919345</td>\n",
       "      <td>0.199009</td>\n",
       "      <td>0.132254</td>\n",
       "      <td>-0.006110</td>\n",
       "      <td>0.029218</td>\n",
       "      <td>-0.009968</td>\n",
       "      <td>-0.026928</td>\n",
       "      <td>-0.005875</td>\n",
       "    </tr>\n",
       "    <tr>\n",
       "      <th>total_bedrooms</th>\n",
       "      <td>0.066383</td>\n",
       "      <td>-0.065962</td>\n",
       "      <td>-0.318381</td>\n",
       "      <td>0.926366</td>\n",
       "      <td>1.000000</td>\n",
       "      <td>0.871620</td>\n",
       "      <td>0.977885</td>\n",
       "      <td>-0.007807</td>\n",
       "      <td>0.049023</td>\n",
       "      <td>0.015344</td>\n",
       "      <td>-0.005416</td>\n",
       "      <td>-0.007037</td>\n",
       "      <td>-0.021300</td>\n",
       "      <td>0.005124</td>\n",
       "    </tr>\n",
       "    <tr>\n",
       "      <th>population</th>\n",
       "      <td>0.100471</td>\n",
       "      <td>-0.110065</td>\n",
       "      <td>-0.293456</td>\n",
       "      <td>0.854796</td>\n",
       "      <td>0.871620</td>\n",
       "      <td>1.000000</td>\n",
       "      <td>0.903066</td>\n",
       "      <td>0.003436</td>\n",
       "      <td>-0.026564</td>\n",
       "      <td>0.069287</td>\n",
       "      <td>-0.018184</td>\n",
       "      <td>-0.011573</td>\n",
       "      <td>-0.062781</td>\n",
       "      <td>-0.018030</td>\n",
       "    </tr>\n",
       "    <tr>\n",
       "      <th>households</th>\n",
       "      <td>0.055287</td>\n",
       "      <td>-0.072629</td>\n",
       "      <td>-0.301235</td>\n",
       "      <td>0.919345</td>\n",
       "      <td>0.977885</td>\n",
       "      <td>0.903066</td>\n",
       "      <td>1.000000</td>\n",
       "      <td>0.013146</td>\n",
       "      <td>0.064991</td>\n",
       "      <td>0.039529</td>\n",
       "      <td>-0.037465</td>\n",
       "      <td>-0.010466</td>\n",
       "      <td>-0.013025</td>\n",
       "      <td>0.006218</td>\n",
       "    </tr>\n",
       "    <tr>\n",
       "      <th>median_income</th>\n",
       "      <td>-0.011492</td>\n",
       "      <td>-0.083045</td>\n",
       "      <td>-0.124819</td>\n",
       "      <td>0.199009</td>\n",
       "      <td>-0.007807</td>\n",
       "      <td>0.003436</td>\n",
       "      <td>0.013146</td>\n",
       "      <td>1.000000</td>\n",
       "      <td>0.688836</td>\n",
       "      <td>0.176248</td>\n",
       "      <td>-0.236479</td>\n",
       "      <td>-0.010346</td>\n",
       "      <td>0.053496</td>\n",
       "      <td>0.017853</td>\n",
       "    </tr>\n",
       "    <tr>\n",
       "      <th>median_house_value</th>\n",
       "      <td>-0.045534</td>\n",
       "      <td>-0.144585</td>\n",
       "      <td>0.099183</td>\n",
       "      <td>0.132254</td>\n",
       "      <td>0.049023</td>\n",
       "      <td>-0.026564</td>\n",
       "      <td>0.064991</td>\n",
       "      <td>0.688836</td>\n",
       "      <td>1.000000</td>\n",
       "      <td>0.262736</td>\n",
       "      <td>-0.483404</td>\n",
       "      <td>0.023658</td>\n",
       "      <td>0.159721</td>\n",
       "      <td>0.132305</td>\n",
       "    </tr>\n",
       "    <tr>\n",
       "      <th>ocean_proximity_&lt;1H OCEAN</th>\n",
       "      <td>0.317135</td>\n",
       "      <td>-0.443723</td>\n",
       "      <td>0.043168</td>\n",
       "      <td>-0.006110</td>\n",
       "      <td>0.015344</td>\n",
       "      <td>0.069287</td>\n",
       "      <td>0.039529</td>\n",
       "      <td>0.176248</td>\n",
       "      <td>0.262736</td>\n",
       "      <td>1.000000</td>\n",
       "      <td>-0.608876</td>\n",
       "      <td>-0.012835</td>\n",
       "      <td>-0.315498</td>\n",
       "      <td>-0.340331</td>\n",
       "    </tr>\n",
       "    <tr>\n",
       "      <th>ocean_proximity_INLAND</th>\n",
       "      <td>-0.055240</td>\n",
       "      <td>0.351581</td>\n",
       "      <td>-0.231203</td>\n",
       "      <td>0.029218</td>\n",
       "      <td>-0.005416</td>\n",
       "      <td>-0.018184</td>\n",
       "      <td>-0.037465</td>\n",
       "      <td>-0.236479</td>\n",
       "      <td>-0.483404</td>\n",
       "      <td>-0.608876</td>\n",
       "      <td>1.000000</td>\n",
       "      <td>-0.009853</td>\n",
       "      <td>-0.242214</td>\n",
       "      <td>-0.261279</td>\n",
       "    </tr>\n",
       "    <tr>\n",
       "      <th>ocean_proximity_ISLAND</th>\n",
       "      <td>0.008674</td>\n",
       "      <td>-0.015304</td>\n",
       "      <td>0.008413</td>\n",
       "      <td>-0.009968</td>\n",
       "      <td>-0.007037</td>\n",
       "      <td>-0.011573</td>\n",
       "      <td>-0.010466</td>\n",
       "      <td>-0.010346</td>\n",
       "      <td>0.023658</td>\n",
       "      <td>-0.012835</td>\n",
       "      <td>-0.009853</td>\n",
       "      <td>1.000000</td>\n",
       "      <td>-0.005106</td>\n",
       "      <td>-0.005508</td>\n",
       "    </tr>\n",
       "    <tr>\n",
       "      <th>ocean_proximity_NEAR BAY</th>\n",
       "      <td>-0.473245</td>\n",
       "      <td>0.356026</td>\n",
       "      <td>0.252904</td>\n",
       "      <td>-0.026928</td>\n",
       "      <td>-0.021300</td>\n",
       "      <td>-0.062781</td>\n",
       "      <td>-0.013025</td>\n",
       "      <td>0.053496</td>\n",
       "      <td>0.159721</td>\n",
       "      <td>-0.315498</td>\n",
       "      <td>-0.242214</td>\n",
       "      <td>-0.005106</td>\n",
       "      <td>1.000000</td>\n",
       "      <td>-0.135385</td>\n",
       "    </tr>\n",
       "    <tr>\n",
       "      <th>ocean_proximity_NEAR OCEAN</th>\n",
       "      <td>0.051173</td>\n",
       "      <td>-0.165749</td>\n",
       "      <td>0.019655</td>\n",
       "      <td>-0.005875</td>\n",
       "      <td>0.005124</td>\n",
       "      <td>-0.018030</td>\n",
       "      <td>0.006218</td>\n",
       "      <td>0.017853</td>\n",
       "      <td>0.132305</td>\n",
       "      <td>-0.340331</td>\n",
       "      <td>-0.261279</td>\n",
       "      <td>-0.005508</td>\n",
       "      <td>-0.135385</td>\n",
       "      <td>1.000000</td>\n",
       "    </tr>\n",
       "  </tbody>\n",
       "</table>\n",
       "</div>"
      ],
      "text/plain": [
       "                            longitude  latitude  housing_median_age  \\\n",
       "longitude                    1.000000 -0.924304           -0.108962   \n",
       "latitude                    -0.924304  1.000000            0.013378   \n",
       "housing_median_age          -0.108962  0.013378            1.000000   \n",
       "total_rooms                  0.042976 -0.035849           -0.362740   \n",
       "total_bedrooms               0.066383 -0.065962           -0.318381   \n",
       "population                   0.100471 -0.110065           -0.293456   \n",
       "households                   0.055287 -0.072629           -0.301235   \n",
       "median_income               -0.011492 -0.083045           -0.124819   \n",
       "median_house_value          -0.045534 -0.144585            0.099183   \n",
       "ocean_proximity_<1H OCEAN    0.317135 -0.443723            0.043168   \n",
       "ocean_proximity_INLAND      -0.055240  0.351581           -0.231203   \n",
       "ocean_proximity_ISLAND       0.008674 -0.015304            0.008413   \n",
       "ocean_proximity_NEAR BAY    -0.473245  0.356026            0.252904   \n",
       "ocean_proximity_NEAR OCEAN   0.051173 -0.165749            0.019655   \n",
       "\n",
       "                            total_rooms  total_bedrooms  population  \\\n",
       "longitude                      0.042976        0.066383    0.100471   \n",
       "latitude                      -0.035849       -0.065962   -0.110065   \n",
       "housing_median_age            -0.362740       -0.318381   -0.293456   \n",
       "total_rooms                    1.000000        0.926366    0.854796   \n",
       "total_bedrooms                 0.926366        1.000000    0.871620   \n",
       "population                     0.854796        0.871620    1.000000   \n",
       "households                     0.919345        0.977885    0.903066   \n",
       "median_income                  0.199009       -0.007807    0.003436   \n",
       "median_house_value             0.132254        0.049023   -0.026564   \n",
       "ocean_proximity_<1H OCEAN     -0.006110        0.015344    0.069287   \n",
       "ocean_proximity_INLAND         0.029218       -0.005416   -0.018184   \n",
       "ocean_proximity_ISLAND        -0.009968       -0.007037   -0.011573   \n",
       "ocean_proximity_NEAR BAY      -0.026928       -0.021300   -0.062781   \n",
       "ocean_proximity_NEAR OCEAN    -0.005875        0.005124   -0.018030   \n",
       "\n",
       "                            households  median_income  median_house_value  \\\n",
       "longitude                     0.055287      -0.011492           -0.045534   \n",
       "latitude                     -0.072629      -0.083045           -0.144585   \n",
       "housing_median_age           -0.301235      -0.124819            0.099183   \n",
       "total_rooms                   0.919345       0.199009            0.132254   \n",
       "total_bedrooms                0.977885      -0.007807            0.049023   \n",
       "population                    0.903066       0.003436           -0.026564   \n",
       "households                    1.000000       0.013146            0.064991   \n",
       "median_income                 0.013146       1.000000            0.688836   \n",
       "median_house_value            0.064991       0.688836            1.000000   \n",
       "ocean_proximity_<1H OCEAN     0.039529       0.176248            0.262736   \n",
       "ocean_proximity_INLAND       -0.037465      -0.236479           -0.483404   \n",
       "ocean_proximity_ISLAND       -0.010466      -0.010346            0.023658   \n",
       "ocean_proximity_NEAR BAY     -0.013025       0.053496            0.159721   \n",
       "ocean_proximity_NEAR OCEAN    0.006218       0.017853            0.132305   \n",
       "\n",
       "                            ocean_proximity_<1H OCEAN  ocean_proximity_INLAND  \\\n",
       "longitude                                    0.317135               -0.055240   \n",
       "latitude                                    -0.443723                0.351581   \n",
       "housing_median_age                           0.043168               -0.231203   \n",
       "total_rooms                                 -0.006110                0.029218   \n",
       "total_bedrooms                               0.015344               -0.005416   \n",
       "population                                   0.069287               -0.018184   \n",
       "households                                   0.039529               -0.037465   \n",
       "median_income                                0.176248               -0.236479   \n",
       "median_house_value                           0.262736               -0.483404   \n",
       "ocean_proximity_<1H OCEAN                    1.000000               -0.608876   \n",
       "ocean_proximity_INLAND                      -0.608876                1.000000   \n",
       "ocean_proximity_ISLAND                      -0.012835               -0.009853   \n",
       "ocean_proximity_NEAR BAY                    -0.315498               -0.242214   \n",
       "ocean_proximity_NEAR OCEAN                  -0.340331               -0.261279   \n",
       "\n",
       "                            ocean_proximity_ISLAND  ocean_proximity_NEAR BAY  \\\n",
       "longitude                                 0.008674                 -0.473245   \n",
       "latitude                                 -0.015304                  0.356026   \n",
       "housing_median_age                        0.008413                  0.252904   \n",
       "total_rooms                              -0.009968                 -0.026928   \n",
       "total_bedrooms                           -0.007037                 -0.021300   \n",
       "population                               -0.011573                 -0.062781   \n",
       "households                               -0.010466                 -0.013025   \n",
       "median_income                            -0.010346                  0.053496   \n",
       "median_house_value                        0.023658                  0.159721   \n",
       "ocean_proximity_<1H OCEAN                -0.012835                 -0.315498   \n",
       "ocean_proximity_INLAND                   -0.009853                 -0.242214   \n",
       "ocean_proximity_ISLAND                    1.000000                 -0.005106   \n",
       "ocean_proximity_NEAR BAY                 -0.005106                  1.000000   \n",
       "ocean_proximity_NEAR OCEAN               -0.005508                 -0.135385   \n",
       "\n",
       "                            ocean_proximity_NEAR OCEAN  \n",
       "longitude                                     0.051173  \n",
       "latitude                                     -0.165749  \n",
       "housing_median_age                            0.019655  \n",
       "total_rooms                                  -0.005875  \n",
       "total_bedrooms                                0.005124  \n",
       "population                                   -0.018030  \n",
       "households                                    0.006218  \n",
       "median_income                                 0.017853  \n",
       "median_house_value                            0.132305  \n",
       "ocean_proximity_<1H OCEAN                    -0.340331  \n",
       "ocean_proximity_INLAND                       -0.261279  \n",
       "ocean_proximity_ISLAND                       -0.005508  \n",
       "ocean_proximity_NEAR BAY                     -0.135385  \n",
       "ocean_proximity_NEAR OCEAN                    1.000000  "
      ]
     },
     "execution_count": 14,
     "metadata": {},
     "output_type": "execute_result"
    }
   ],
   "source": [
    "training_set.corr()"
   ]
  },
  {
   "cell_type": "code",
   "execution_count": 15,
   "metadata": {
    "scrolled": true
   },
   "outputs": [
    {
     "data": {
      "image/png": "[encoded data removed]",
      "text/plain": [
       "<Figure size 1440x1440 with 2 Axes>"
      ]
     },
     "metadata": {
      "needs_background": "light"
     },
     "output_type": "display_data"
    }
   ],
   "source": [
    "import seaborn as sns\n",
    "corr=training_set.corr()\n",
    "plt.figure(figsize=(20, 20))\n",
    "sns.heatmap(corr, vmax=.8, linewidths=0.01,\n",
    "            square=True,annot=True,cmap='YlGnBu',linecolor=\"white\")\n",
    "plt.title('Correlation between features');"
   ]
  },
  {
   "cell_type": "code",
   "execution_count": 16,
   "metadata": {},
   "outputs": [
    {
     "data": {
      "text/html": [
       "<div>\n",
       "<style scoped>\n",
       "    .dataframe tbody tr th:only-of-type {\n",
       "        vertical-align: middle;\n",
       "    }\n",
       "\n",
       "    .dataframe tbody tr th {\n",
       "        vertical-align: top;\n",
       "    }\n",
       "\n",
       "    .dataframe thead th {\n",
       "        text-align: right;\n",
       "    }\n",
       "</style>\n",
       "<table border=\"1\" class=\"dataframe\">\n",
       "  <thead>\n",
       "    <tr style=\"text-align: right;\">\n",
       "      <th></th>\n",
       "      <th>longitude</th>\n",
       "      <th>latitude</th>\n",
       "      <th>housing_median_age</th>\n",
       "      <th>total_rooms</th>\n",
       "      <th>total_bedrooms</th>\n",
       "      <th>population</th>\n",
       "      <th>households</th>\n",
       "      <th>median_income</th>\n",
       "      <th>median_house_value</th>\n",
       "      <th>ocean_proximity_&lt;1H OCEAN</th>\n",
       "      <th>ocean_proximity_INLAND</th>\n",
       "      <th>ocean_proximity_ISLAND</th>\n",
       "      <th>ocean_proximity_NEAR BAY</th>\n",
       "      <th>ocean_proximity_NEAR OCEAN</th>\n",
       "    </tr>\n",
       "  </thead>\n",
       "  <tbody>\n",
       "    <tr>\n",
       "      <th>longitude</th>\n",
       "      <td>NaN</td>\n",
       "      <td>-0.924304</td>\n",
       "      <td>NaN</td>\n",
       "      <td>NaN</td>\n",
       "      <td>NaN</td>\n",
       "      <td>NaN</td>\n",
       "      <td>NaN</td>\n",
       "      <td>NaN</td>\n",
       "      <td>NaN</td>\n",
       "      <td>NaN</td>\n",
       "      <td>NaN</td>\n",
       "      <td>NaN</td>\n",
       "      <td>NaN</td>\n",
       "      <td>NaN</td>\n",
       "    </tr>\n",
       "    <tr>\n",
       "      <th>latitude</th>\n",
       "      <td>-0.924304</td>\n",
       "      <td>NaN</td>\n",
       "      <td>NaN</td>\n",
       "      <td>NaN</td>\n",
       "      <td>NaN</td>\n",
       "      <td>NaN</td>\n",
       "      <td>NaN</td>\n",
       "      <td>NaN</td>\n",
       "      <td>NaN</td>\n",
       "      <td>NaN</td>\n",
       "      <td>NaN</td>\n",
       "      <td>NaN</td>\n",
       "      <td>NaN</td>\n",
       "      <td>NaN</td>\n",
       "    </tr>\n",
       "    <tr>\n",
       "      <th>total_rooms</th>\n",
       "      <td>NaN</td>\n",
       "      <td>NaN</td>\n",
       "      <td>NaN</td>\n",
       "      <td>NaN</td>\n",
       "      <td>0.926366</td>\n",
       "      <td>0.854796</td>\n",
       "      <td>0.919345</td>\n",
       "      <td>NaN</td>\n",
       "      <td>NaN</td>\n",
       "      <td>NaN</td>\n",
       "      <td>NaN</td>\n",
       "      <td>NaN</td>\n",
       "      <td>NaN</td>\n",
       "      <td>NaN</td>\n",
       "    </tr>\n",
       "    <tr>\n",
       "      <th>total_bedrooms</th>\n",
       "      <td>NaN</td>\n",
       "      <td>NaN</td>\n",
       "      <td>NaN</td>\n",
       "      <td>0.926366</td>\n",
       "      <td>NaN</td>\n",
       "      <td>0.871620</td>\n",
       "      <td>0.977885</td>\n",
       "      <td>NaN</td>\n",
       "      <td>NaN</td>\n",
       "      <td>NaN</td>\n",
       "      <td>NaN</td>\n",
       "      <td>NaN</td>\n",
       "      <td>NaN</td>\n",
       "      <td>NaN</td>\n",
       "    </tr>\n",
       "    <tr>\n",
       "      <th>population</th>\n",
       "      <td>NaN</td>\n",
       "      <td>NaN</td>\n",
       "      <td>NaN</td>\n",
       "      <td>0.854796</td>\n",
       "      <td>0.871620</td>\n",
       "      <td>NaN</td>\n",
       "      <td>0.903066</td>\n",
       "      <td>NaN</td>\n",
       "      <td>NaN</td>\n",
       "      <td>NaN</td>\n",
       "      <td>NaN</td>\n",
       "      <td>NaN</td>\n",
       "      <td>NaN</td>\n",
       "      <td>NaN</td>\n",
       "    </tr>\n",
       "    <tr>\n",
       "      <th>households</th>\n",
       "      <td>NaN</td>\n",
       "      <td>NaN</td>\n",
       "      <td>NaN</td>\n",
       "      <td>0.919345</td>\n",
       "      <td>0.977885</td>\n",
       "      <td>0.903066</td>\n",
       "      <td>NaN</td>\n",
       "      <td>NaN</td>\n",
       "      <td>NaN</td>\n",
       "      <td>NaN</td>\n",
       "      <td>NaN</td>\n",
       "      <td>NaN</td>\n",
       "      <td>NaN</td>\n",
       "      <td>NaN</td>\n",
       "    </tr>\n",
       "  </tbody>\n",
       "</table>\n",
       "</div>"
      ],
      "text/plain": [
       "                longitude  latitude  housing_median_age  total_rooms  \\\n",
       "longitude             NaN -0.924304                 NaN          NaN   \n",
       "latitude        -0.924304       NaN                 NaN          NaN   \n",
       "total_rooms           NaN       NaN                 NaN          NaN   \n",
       "total_bedrooms        NaN       NaN                 NaN     0.926366   \n",
       "population            NaN       NaN                 NaN     0.854796   \n",
       "households            NaN       NaN                 NaN     0.919345   \n",
       "\n",
       "                total_bedrooms  population  households  median_income  \\\n",
       "longitude                  NaN         NaN         NaN            NaN   \n",
       "latitude                   NaN         NaN         NaN            NaN   \n",
       "total_rooms           0.926366    0.854796    0.919345            NaN   \n",
       "total_bedrooms             NaN    0.871620    0.977885            NaN   \n",
       "population            0.871620         NaN    0.903066            NaN   \n",
       "households            0.977885    0.903066         NaN            NaN   \n",
       "\n",
       "                median_house_value  ocean_proximity_<1H OCEAN  \\\n",
       "longitude                      NaN                        NaN   \n",
       "latitude                       NaN                        NaN   \n",
       "total_rooms                    NaN                        NaN   \n",
       "total_bedrooms                 NaN                        NaN   \n",
       "population                     NaN                        NaN   \n",
       "households                     NaN                        NaN   \n",
       "\n",
       "                ocean_proximity_INLAND  ocean_proximity_ISLAND  \\\n",
       "longitude                          NaN                     NaN   \n",
       "latitude                           NaN                     NaN   \n",
       "total_rooms                        NaN                     NaN   \n",
       "total_bedrooms                     NaN                     NaN   \n",
       "population                         NaN                     NaN   \n",
       "households                         NaN                     NaN   \n",
       "\n",
       "                ocean_proximity_NEAR BAY  ocean_proximity_NEAR OCEAN  \n",
       "longitude                            NaN                         NaN  \n",
       "latitude                             NaN                         NaN  \n",
       "total_rooms                          NaN                         NaN  \n",
       "total_bedrooms                       NaN                         NaN  \n",
       "population                           NaN                         NaN  \n",
       "households                           NaN                         NaN  "
      ]
     },
     "execution_count": 16,
     "metadata": {},
     "output_type": "execute_result"
    }
   ],
   "source": [
    "corr[((corr > 0.75) | (corr < -0.75)) & (corr != 1.0)].dropna(axis='index', how='all')"
   ]
  },
  {
   "cell_type": "code",
   "execution_count": 19,
   "metadata": {},
   "outputs": [
    {
     "data": {
      "text/plain": [
       "array([[0.51294821, 0.18085106, 0.47058824, ..., 0.        , 0.        ,\n",
       "        0.        ],\n",
       "       [0.62250996, 0.15319149, 0.58823529, ..., 0.        , 0.        ,\n",
       "        0.        ],\n",
       "       [0.21314741, 0.52021277, 0.66666667, ..., 0.        , 0.        ,\n",
       "        0.        ],\n",
       "       ...,\n",
       "       [0.73007968, 0.02553191, 0.68627451, ..., 0.        , 0.        ,\n",
       "        0.        ],\n",
       "       [0.2310757 , 0.54680851, 0.37254902, ..., 0.        , 0.        ,\n",
       "        1.        ],\n",
       "       [0.65039841, 0.14255319, 0.45098039, ..., 0.        , 0.        ,\n",
       "        0.        ]])"
      ]
     },
     "execution_count": 19,
     "metadata": {},
     "output_type": "execute_result"
    }
   ],
   "source": [
    "X_train = training_set.drop(columns=['median_house_value', 'ocean_proximity_NEAR OCEAN']).values\n",
    "X_train"
   ]
  },
  {
   "cell_type": "code",
   "execution_count": 20,
   "metadata": {},
   "outputs": [
    {
     "data": {
      "text/plain": [
       "array([[0.73448627, 0.06269926, 0.31372549, ..., 0.        , 0.        ,\n",
       "        0.        ],\n",
       "       [0.6266531 , 0.1381509 , 0.68627451, ..., 0.        , 0.        ,\n",
       "        0.        ],\n",
       "       [0.20549339, 0.61105207, 0.35294118, ..., 0.        , 0.        ,\n",
       "        1.        ],\n",
       "       ...,\n",
       "       [0.64903357, 0.13496281, 0.64705882, ..., 0.        , 0.        ,\n",
       "        0.        ],\n",
       "       [0.25737538, 0.46439957, 0.1372549 , ..., 0.        , 0.        ,\n",
       "        0.        ],\n",
       "       [0.59918616, 0.18172157, 0.62745098, ..., 0.        , 0.        ,\n",
       "        0.        ]])"
      ]
     },
     "execution_count": 20,
     "metadata": {},
     "output_type": "execute_result"
    }
   ],
   "source": [
    "X_test=test_set.drop(columns=['median_house_value', 'ocean_proximity_NEAR OCEAN']).values\n",
    "X_test"
   ]
  },
  {
   "cell_type": "code",
   "execution_count": 21,
   "metadata": {},
   "outputs": [
    {
     "data": {
      "text/plain": [
       "((6193, 12), (14447, 12))"
      ]
     },
     "execution_count": 21,
     "metadata": {},
     "output_type": "execute_result"
    }
   ],
   "source": [
    "X_test.shape, X_train.shape"
   ]
  },
  {
   "cell_type": "code",
   "execution_count": 22,
   "metadata": {},
   "outputs": [
    {
     "data": {
      "text/plain": [
       "array([0.3556707 , 0.36144387, 1.        , ..., 0.27402155, 0.67010239,\n",
       "       0.46041253])"
      ]
     },
     "execution_count": 22,
     "metadata": {},
     "output_type": "execute_result"
    }
   ],
   "source": [
    "y_train= training_set['median_house_value'].values\n",
    "y_train"
   ]
  },
  {
   "cell_type": "code",
   "execution_count": 23,
   "metadata": {},
   "outputs": [
    {
     "data": {
      "text/plain": [
       "array([0.20350638, 0.44103117, 0.63917468, ..., 0.39195921, 0.3030936 ,\n",
       "       0.26412468])"
      ]
     },
     "execution_count": 23,
     "metadata": {},
     "output_type": "execute_result"
    }
   ],
   "source": [
    "y_test= test_set['median_house_value'].values\n",
    "y_test"
   ]
  },
  {
   "cell_type": "code",
   "execution_count": 24,
   "metadata": {},
   "outputs": [
    {
     "data": {
      "text/plain": [
       "array([[0.51294821, 0.62250996, 0.21314741, ..., 0.73007968, 0.2310757 ,\n",
       "        0.65039841],\n",
       "       [0.18085106, 0.15319149, 0.52021277, ..., 0.02553191, 0.54680851,\n",
       "        0.14255319],\n",
       "       [0.47058824, 0.58823529, 0.66666667, ..., 0.68627451, 0.37254902,\n",
       "        0.45098039],\n",
       "       ...,\n",
       "       [0.        , 0.        , 0.        , ..., 0.        , 0.        ,\n",
       "        0.        ],\n",
       "       [0.        , 0.        , 0.        , ..., 0.        , 0.        ,\n",
       "        0.        ],\n",
       "       [0.        , 0.        , 0.        , ..., 0.        , 1.        ,\n",
       "        0.        ]])"
      ]
     },
     "execution_count": 24,
     "metadata": {},
     "output_type": "execute_result"
    }
   ],
   "source": [
    "X_train_t = X_train.T\n",
    "X_train_t"
   ]
  },
  {
   "cell_type": "code",
   "execution_count": 25,
   "metadata": {},
   "outputs": [
    {
     "data": {
      "text/plain": [
       "array([[3.83695686e+03, 1.65338186e+03, 3.64276172e+03, 4.65851279e+02,\n",
       "        5.84138367e+02, 2.83011178e+02, 5.72336276e+02, 1.58624835e+03,\n",
       "        3.49022311e+03, 2.11204183e+03, 1.78585657e+00, 3.35533865e+02],\n",
       "       [1.65338186e+03, 2.31629958e+03, 2.59027192e+03, 3.11712879e+02,\n",
       "        3.82228861e+02, 1.78069253e+02, 3.74812509e+02, 1.06704953e+03,\n",
       "        1.37977128e+03, 2.05461277e+03, 2.62765957e-01, 8.99252128e+02],\n",
       "       [3.64276172e+03, 2.59027192e+03, 5.12668589e+03, 4.52197056e+02,\n",
       "        5.78352123e+02, 2.78507193e+02, 5.73937446e+02, 1.75662541e+03,\n",
       "        3.54031373e+03, 2.11013725e+03, 2.05882353e+00, 1.15737255e+03],\n",
       "       [4.65851279e+02, 3.11712879e+02, 4.52197056e+02, 1.08710861e+02,\n",
       "        1.28583528e+02, 6.05106814e+01, 1.25326780e+02, 2.44671047e+02,\n",
       "        4.24916501e+02, 3.18629381e+02, 8.59911491e-02, 1.00972176e+02],\n",
       "       [5.84138367e+02, 3.82228861e+02, 5.78352123e+02, 1.28583528e+02,\n",
       "        1.61390185e+02, 7.43839108e+01, 1.56424253e+02, 2.77909569e+02,\n",
       "        5.39404908e+02, 3.80941895e+02, 1.54562384e-01, 1.27882574e+02],\n",
       "       [2.83011178e+02, 1.78069253e+02, 2.78507193e+02, 6.05106814e+01,\n",
       "        7.43839108e+01, 3.79719894e+01, 7.36487018e+01, 1.33707604e+02,\n",
       "        2.70812242e+02, 1.79553379e+02, 4.19854817e-02, 5.50361837e+01],\n",
       "       [5.72336276e+02, 3.74812509e+02, 5.73937446e+02, 1.25326780e+02,\n",
       "        1.56424253e+02, 7.36487018e+01, 1.54167628e+02, 2.75857070e+02,\n",
       "        5.41357836e+02, 3.61158691e+02, 1.08699227e-01, 1.28256866e+02],\n",
       "       [1.58624835e+03, 1.06704953e+03, 1.75662541e+03, 2.44671047e+02,\n",
       "        2.77909569e+02, 1.33707604e+02, 2.75857070e+02, 1.02281804e+03,\n",
       "        1.64619363e+03, 8.58407587e+02, 4.13683949e-01, 4.05147860e+02],\n",
       "       [3.49022311e+03, 1.37977128e+03, 3.54031373e+03, 4.24916501e+02,\n",
       "        5.39404908e+02, 2.70812242e+02, 5.41357836e+02, 1.64619363e+03,\n",
       "        6.39000000e+03, 0.00000000e+00, 0.00000000e+00, 0.00000000e+00],\n",
       "       [2.11204183e+03, 2.05461277e+03, 2.11013725e+03, 3.18629381e+02,\n",
       "        3.80941895e+02, 1.79553379e+02, 3.61158691e+02, 8.58407587e+02,\n",
       "        0.00000000e+00, 4.60200000e+03, 0.00000000e+00, 0.00000000e+00],\n",
       "       [1.78585657e+00, 2.62765957e-01, 2.05882353e+00, 8.59911491e-02,\n",
       "        1.54562384e-01, 4.19854817e-02, 1.08699227e-01, 4.13683949e-01,\n",
       "        0.00000000e+00, 0.00000000e+00, 3.00000000e+00, 0.00000000e+00],\n",
       "       [3.35533865e+02, 8.99252128e+02, 1.15737255e+03, 1.00972176e+02,\n",
       "        1.27882574e+02, 5.50361837e+01, 1.28256866e+02, 4.05147860e+02,\n",
       "        0.00000000e+00, 0.00000000e+00, 0.00000000e+00, 1.61100000e+03]])"
      ]
     },
     "execution_count": 25,
     "metadata": {},
     "output_type": "execute_result"
    }
   ],
   "source": [
    "Xxt = X_train_t@X_train\n",
    "Xxt"
   ]
  },
  {
   "cell_type": "code",
   "execution_count": 26,
   "metadata": {},
   "outputs": [
    {
     "data": {
      "text/plain": [
       "((12, 12), (14447, 12), (12, 14447))"
      ]
     },
     "execution_count": 26,
     "metadata": {},
     "output_type": "execute_result"
    }
   ],
   "source": [
    "Xxt.shape, X_train.shape, X_train_t.shape"
   ]
  },
  {
   "cell_type": "code",
   "execution_count": 42,
   "metadata": {},
   "outputs": [
    {
     "name": "stdout",
     "output_type": "stream",
     "text": [
      "[[1. 0. 0. 0. 0. 0. 0. 0. 0. 0. 0. 0.]\n",
      " [0. 1. 0. 0. 0. 0. 0. 0. 0. 0. 0. 0.]\n",
      " [0. 0. 1. 0. 0. 0. 0. 0. 0. 0. 0. 0.]\n",
      " [0. 0. 0. 1. 0. 0. 0. 0. 0. 0. 0. 0.]\n",
      " [0. 0. 0. 0. 1. 0. 0. 0. 0. 0. 0. 0.]\n",
      " [0. 0. 0. 0. 0. 1. 0. 0. 0. 0. 0. 0.]\n",
      " [0. 0. 0. 0. 0. 0. 1. 0. 0. 0. 0. 0.]\n",
      " [0. 0. 0. 0. 0. 0. 0. 1. 0. 0. 0. 0.]\n",
      " [0. 0. 0. 0. 0. 0. 0. 0. 1. 0. 0. 0.]\n",
      " [0. 0. 0. 0. 0. 0. 0. 0. 0. 1. 0. 0.]\n",
      " [0. 0. 0. 0. 0. 0. 0. 0. 0. 0. 1. 0.]\n",
      " [0. 0. 0. 0. 0. 0. 0. 0. 0. 0. 0. 1.]]\n"
     ]
    }
   ],
   "source": [
    "I = np.identity(12, dtype = float) \n",
    "print(I)"
   ]
  },
  {
   "cell_type": "code",
   "execution_count": 52,
   "metadata": {},
   "outputs": [
    {
     "data": {
      "text/plain": [
       "((12, 12), (12, 12))"
      ]
     },
     "execution_count": 52,
     "metadata": {},
     "output_type": "execute_result"
    }
   ],
   "source": [
    "Xxt.shape, I.shape"
   ]
  },
  {
   "cell_type": "code",
   "execution_count": 53,
   "metadata": {},
   "outputs": [],
   "source": [
    "alpha = 0.01"
   ]
  },
  {
   "cell_type": "code",
   "execution_count": 54,
   "metadata": {},
   "outputs": [
    {
     "data": {
      "text/plain": [
       "array([[3.83696686e+03, 1.65338186e+03, 3.64276172e+03, 4.65851279e+02,\n",
       "        5.84138367e+02, 2.83011178e+02, 5.72336276e+02, 1.58624835e+03,\n",
       "        3.49022311e+03, 2.11204183e+03, 1.78585657e+00, 3.35533865e+02],\n",
       "       [1.65338186e+03, 2.31630958e+03, 2.59027192e+03, 3.11712879e+02,\n",
       "        3.82228861e+02, 1.78069253e+02, 3.74812509e+02, 1.06704953e+03,\n",
       "        1.37977128e+03, 2.05461277e+03, 2.62765957e-01, 8.99252128e+02],\n",
       "       [3.64276172e+03, 2.59027192e+03, 5.12669589e+03, 4.52197056e+02,\n",
       "        5.78352123e+02, 2.78507193e+02, 5.73937446e+02, 1.75662541e+03,\n",
       "        3.54031373e+03, 2.11013725e+03, 2.05882353e+00, 1.15737255e+03],\n",
       "       [4.65851279e+02, 3.11712879e+02, 4.52197056e+02, 1.08720861e+02,\n",
       "        1.28583528e+02, 6.05106814e+01, 1.25326780e+02, 2.44671047e+02,\n",
       "        4.24916501e+02, 3.18629381e+02, 8.59911491e-02, 1.00972176e+02],\n",
       "       [5.84138367e+02, 3.82228861e+02, 5.78352123e+02, 1.28583528e+02,\n",
       "        1.61400185e+02, 7.43839108e+01, 1.56424253e+02, 2.77909569e+02,\n",
       "        5.39404908e+02, 3.80941895e+02, 1.54562384e-01, 1.27882574e+02],\n",
       "       [2.83011178e+02, 1.78069253e+02, 2.78507193e+02, 6.05106814e+01,\n",
       "        7.43839108e+01, 3.79819894e+01, 7.36487018e+01, 1.33707604e+02,\n",
       "        2.70812242e+02, 1.79553379e+02, 4.19854817e-02, 5.50361837e+01],\n",
       "       [5.72336276e+02, 3.74812509e+02, 5.73937446e+02, 1.25326780e+02,\n",
       "        1.56424253e+02, 7.36487018e+01, 1.54177628e+02, 2.75857070e+02,\n",
       "        5.41357836e+02, 3.61158691e+02, 1.08699227e-01, 1.28256866e+02],\n",
       "       [1.58624835e+03, 1.06704953e+03, 1.75662541e+03, 2.44671047e+02,\n",
       "        2.77909569e+02, 1.33707604e+02, 2.75857070e+02, 1.02282804e+03,\n",
       "        1.64619363e+03, 8.58407587e+02, 4.13683949e-01, 4.05147860e+02],\n",
       "       [3.49022311e+03, 1.37977128e+03, 3.54031373e+03, 4.24916501e+02,\n",
       "        5.39404908e+02, 2.70812242e+02, 5.41357836e+02, 1.64619363e+03,\n",
       "        6.39001000e+03, 0.00000000e+00, 0.00000000e+00, 0.00000000e+00],\n",
       "       [2.11204183e+03, 2.05461277e+03, 2.11013725e+03, 3.18629381e+02,\n",
       "        3.80941895e+02, 1.79553379e+02, 3.61158691e+02, 8.58407587e+02,\n",
       "        0.00000000e+00, 4.60201000e+03, 0.00000000e+00, 0.00000000e+00],\n",
       "       [1.78585657e+00, 2.62765957e-01, 2.05882353e+00, 8.59911491e-02,\n",
       "        1.54562384e-01, 4.19854817e-02, 1.08699227e-01, 4.13683949e-01,\n",
       "        0.00000000e+00, 0.00000000e+00, 3.01000000e+00, 0.00000000e+00],\n",
       "       [3.35533865e+02, 8.99252128e+02, 1.15737255e+03, 1.00972176e+02,\n",
       "        1.27882574e+02, 5.50361837e+01, 1.28256866e+02, 4.05147860e+02,\n",
       "        0.00000000e+00, 0.00000000e+00, 0.00000000e+00, 1.61101000e+03]])"
      ]
     },
     "execution_count": 54,
     "metadata": {},
     "output_type": "execute_result"
    }
   ],
   "source": [
    "#J = x_t*x + alpha*I\n",
    "J = Xxt + I*alpha\n",
    "J"
   ]
  },
  {
   "cell_type": "code",
   "execution_count": 55,
   "metadata": {},
   "outputs": [
    {
     "data": {
      "text/plain": [
       "(12, 12)"
      ]
     },
     "execution_count": 55,
     "metadata": {},
     "output_type": "execute_result"
    }
   ],
   "source": [
    "J.shape"
   ]
  },
  {
   "cell_type": "code",
   "execution_count": 56,
   "metadata": {},
   "outputs": [
    {
     "data": {
      "text/plain": [
       "array([[ 3.25731916e-03,  2.20624562e-03, -1.23228810e-03,\n",
       "         6.56466670e-03, -9.23556375e-03, -3.84950622e-03,\n",
       "         2.55639716e-03, -2.19435171e-03, -7.17843890e-04,\n",
       "        -1.24601756e-03, -7.32653408e-04, -2.23122761e-04],\n",
       "       [ 2.20624562e-03,  3.36495435e-03, -1.10658813e-03,\n",
       "         4.48968662e-03, -5.83091483e-03, -7.31553649e-04,\n",
       "        -2.08525442e-06, -1.87972677e-03, -6.09446418e-04,\n",
       "        -1.45630647e-03, -4.06060842e-04, -8.63459647e-04],\n",
       "       [-1.23228810e-03, -1.10658813e-03,  1.36597906e-03,\n",
       "         2.12225800e-03,  1.71369717e-03,  1.07754186e-04,\n",
       "        -2.01886898e-03,  1.67203115e-04, -7.17587484e-06,\n",
       "         2.67507904e-04, -2.06796916e-04, -2.61047488e-04],\n",
       "       [ 6.56466670e-03,  4.48968662e-03,  2.12225800e-03,\n",
       "         2.71353865e-01, -1.64023102e-01, -8.59625278e-02,\n",
       "        -1.03422502e-02, -2.42628907e-02,  8.40649576e-04,\n",
       "        -2.50938424e-03, -1.60907845e-04,  4.76599931e-04],\n",
       "       [-9.23556375e-03, -5.83091483e-03,  1.71369717e-03,\n",
       "        -1.64023102e-01,  4.97033718e-01,  1.06125509e-01,\n",
       "        -4.17129412e-01,  1.88026709e-02,  3.01960176e-04,\n",
       "         1.35723505e-03, -5.02102063e-03, -3.72533249e-04],\n",
       "       [-3.84950622e-03, -7.31553649e-04,  1.07754186e-04,\n",
       "        -8.59625278e-02,  1.06125509e-01,  4.03759496e-01,\n",
       "        -2.24409670e-01,  8.74772648e-03, -1.39463443e-03,\n",
       "        -5.62679724e-04,  5.50291758e-04, -3.12997608e-05],\n",
       "       [ 2.55639716e-03, -2.08525442e-06, -2.01886898e-03,\n",
       "        -1.03422502e-02, -4.17129412e-01, -2.24409670e-01,\n",
       "         5.48095123e-01, -3.60688030e-03, -3.72601105e-04,\n",
       "         1.41306551e-03,  5.41198763e-03, -3.82634199e-04],\n",
       "       [-2.19435171e-03, -1.87972677e-03,  1.67203115e-04,\n",
       "        -2.42628907e-02,  1.88026709e-02,  8.74772648e-03,\n",
       "        -3.60688030e-03,  6.41818024e-03, -1.80606559e-04,\n",
       "         6.37667926e-04,  2.05442389e-04, -2.11477329e-04],\n",
       "       [-7.17843890e-04, -6.09446418e-04, -7.17587484e-06,\n",
       "         8.40649576e-04,  3.01960176e-04, -1.39463443e-03,\n",
       "        -3.72601105e-04, -1.80606559e-04,  7.39961305e-04,\n",
       "         6.38973699e-04,  5.02223136e-04,  5.40922024e-04],\n",
       "       [-1.24601756e-03, -1.45630647e-03,  2.67507904e-04,\n",
       "        -2.50938424e-03,  1.35723505e-03, -5.62679724e-04,\n",
       "         1.41306551e-03,  6.37667926e-04,  6.38973699e-04,\n",
       "         1.17017471e-03,  5.54606134e-04,  6.76131955e-04],\n",
       "       [-7.32653408e-04, -4.06060842e-04, -2.06796916e-04,\n",
       "        -1.60907845e-04, -5.02102063e-03,  5.50291758e-04,\n",
       "         5.41198763e-03,  2.05442389e-04,  5.02223136e-04,\n",
       "         5.54606134e-04,  3.32868571e-01,  4.35146500e-04],\n",
       "       [-2.23122761e-04, -8.63459647e-04, -2.61047488e-04,\n",
       "         4.76599931e-04, -3.72533249e-04, -3.12997608e-05,\n",
       "        -3.82634199e-04, -2.11477329e-04,  5.40922024e-04,\n",
       "         6.76131955e-04,  4.35146500e-04,  1.42113160e-03]])"
      ]
     },
     "execution_count": 56,
     "metadata": {},
     "output_type": "execute_result"
    }
   ],
   "source": [
    "from numpy import linalg as LA\n",
    "J_inv = LA.inv(J)\n",
    "J_inv"
   ]
  },
  {
   "cell_type": "code",
   "execution_count": 57,
   "metadata": {},
   "outputs": [
    {
     "data": {
      "text/plain": [
       "array([ 0.05886047,  0.06701132,  0.15088708, -0.741374  ,  1.01940352,\n",
       "       -2.48872041,  1.11399862,  1.26404872, -0.01634627, -0.15827641,\n",
       "        0.42822753, -0.01187223])"
      ]
     },
     "execution_count": 57,
     "metadata": {},
     "output_type": "execute_result"
    }
   ],
   "source": [
    "Bhat_ridge = (J_inv@X_train_t)@y_train\n",
    "Bhat_ridge"
   ]
  },
  {
   "cell_type": "code",
   "execution_count": 58,
   "metadata": {},
   "outputs": [
    {
     "data": {
      "text/plain": [
       "array([-0.04954372,  0.44912824,  0.23114305, ...,  0.5095744 ,\n",
       "        0.09742108,  0.22101176])"
      ]
     },
     "execution_count": 58,
     "metadata": {},
     "output_type": "execute_result"
    }
   ],
   "source": [
    "y_pred_ridge = X_test@Bhat_ridge\n",
    "y_pred_ridge"
   ]
  },
  {
   "cell_type": "code",
   "execution_count": 59,
   "metadata": {},
   "outputs": [
    {
     "data": {
      "text/plain": [
       "(6193,)"
      ]
     },
     "execution_count": 59,
     "metadata": {},
     "output_type": "execute_result"
    }
   ],
   "source": [
    "y_pred_ridge.shape"
   ]
  },
  {
   "cell_type": "code",
   "execution_count": 60,
   "metadata": {},
   "outputs": [],
   "source": [
    "alpha_vals=[0.01,0.5,2,5,40,100,200,250,300]"
   ]
  },
  {
   "cell_type": "code",
   "execution_count": 62,
   "metadata": {},
   "outputs": [],
   "source": [
    "def ridge(alpha_vals): \n",
    "    y_pred_r = X_test @ (((LA.inv((X_train_t@X_train) + alpha_vals*I)) @ X_train_t) @ y_train)\n",
    "    return y_pred_r"
   ]
  },
  {
   "cell_type": "code",
   "execution_count": 63,
   "metadata": {},
   "outputs": [
    {
     "data": {
      "text/plain": [
       "(array([-0.04954372,  0.44912824,  0.23114305, ...,  0.5095744 ,\n",
       "         0.09742108,  0.22101176]),\n",
       " array([0.03262405, 0.46468286, 0.23477746, ..., 0.52027001, 0.13322852,\n",
       "        0.23914978]),\n",
       " array([0.15323054, 0.49025178, 0.24177232, ..., 0.53719345, 0.18991025,\n",
       "        0.26936574]),\n",
       " array([0.24477811, 0.51082142, 0.24939593, ..., 0.55024102, 0.23566873,\n",
       "        0.29509915]),\n",
       " array([0.36895255, 0.53157135, 0.28226384, ..., 0.55858002, 0.30411924,\n",
       "        0.34317236]),\n",
       " array([0.39872214, 0.52735009, 0.30913284, ..., 0.54872988, 0.32265155,\n",
       "        0.36666754]),\n",
       " array([0.41814889, 0.52048859, 0.32947661, ..., 0.53601245, 0.33373372,\n",
       "        0.38775613]),\n",
       " array([0.42310313, 0.51769356, 0.33439847, ..., 0.53112653, 0.33631081,\n",
       "        0.39460892]),\n",
       " array([0.42639819, 0.51516973, 0.3374006 , ..., 0.52687696, 0.33792635,\n",
       "        0.39999201]))"
      ]
     },
     "execution_count": 63,
     "metadata": {},
     "output_type": "execute_result"
    }
   ],
   "source": [
    "y_pred_ridge_1=ridge(0.01)\n",
    "y_pred_ridge_2=ridge(0.5)\n",
    "y_pred_ridge_3=ridge(2)\n",
    "y_pred_ridge_4=ridge(5)\n",
    "y_pred_ridge_5=ridge(40)\n",
    "y_pred_ridge_6=ridge(100)\n",
    "y_pred_ridge_7=ridge(200)\n",
    "y_pred_ridge_8=ridge(250)\n",
    "y_pred_ridge_9=ridge(300)\n",
    "y_pred_ridge_1, y_pred_ridge_2, y_pred_ridge_3, y_pred_ridge_4, y_pred_ridge_5, y_pred_ridge_6, y_pred_ridge_7, y_pred_ridge_8, y_pred_ridge_9"
   ]
  },
  {
   "cell_type": "code",
   "execution_count": 64,
   "metadata": {},
   "outputs": [
    {
     "data": {
      "image/png": "[encoded data removed]",
      "text/plain": [
       "<Figure size 432x288 with 1 Axes>"
      ]
     },
     "metadata": {
      "needs_background": "light"
     },
     "output_type": "display_data"
    }
   ],
   "source": [
    "plt.scatter(y_pred_ridge_1, y_test,  color='red')\n",
    "plt.scatter(y_pred_ridge_7, y_test,  color='black')\n",
    "plt.show()"
   ]
  },
  {
   "cell_type": "code",
   "execution_count": 53,
   "metadata": {},
   "outputs": [],
   "source": [
    "def mse(alpha_vals):\n",
    "    mse=np.square((ridge(alpha_vals))-(y_test)).mean()\n",
    "    return mse"
   ]
  },
  {
   "cell_type": "code",
   "execution_count": 54,
   "metadata": {
    "scrolled": true
   },
   "outputs": [
    {
     "data": {
      "text/plain": [
       "(0.05760570445843897,\n",
       " 0.04499879755099809,\n",
       " 0.030525694853323654,\n",
       " 0.024437472583291778,\n",
       " 0.0243829390654562,\n",
       " 0.026105173310304097,\n",
       " 0.02864598469663028,\n",
       " 0.029799985711854243,\n",
       " 0.030868430518318887)"
      ]
     },
     "execution_count": 54,
     "metadata": {},
     "output_type": "execute_result"
    }
   ],
   "source": [
    "mse1=mse(0.01)\n",
    "mse2=mse(0.5)\n",
    "mse3=mse(2)\n",
    "mse4=mse(5)\n",
    "mse5=mse(40)\n",
    "mse6=mse(100) \n",
    "mse7=mse(200)\n",
    "mse8=mse(250)\n",
    "mse9=mse(300)\n",
    "mse1, mse2, mse3, mse4, mse5, mse6, mse7, mse8, mse9"
   ]
  },
  {
   "cell_type": "code",
   "execution_count": 57,
   "metadata": {},
   "outputs": [
    {
     "data": {
      "text/plain": [
       "0.0243829390654562"
      ]
     },
     "execution_count": 57,
     "metadata": {},
     "output_type": "execute_result"
    }
   ],
   "source": [
    "min(mse1, mse2, mse3, mse4, mse5, mse6, mse7, mse8, mse9) #alpha = 40"
   ]
  },
  {
   "cell_type": "code",
   "execution_count": 58,
   "metadata": {},
   "outputs": [],
   "source": [
    "def rsq(alpha_vals):\n",
    "    ess = np.sum(((ridge(alpha_vals)) - ((ridge(alpha_vals)).mean()))**2)\n",
    "    rss = np.sum((y_test - (ridge(alpha_vals)))**2)\n",
    "    tss = rss + ess\n",
    "    rsq = ess/tss\n",
    "    return rsq"
   ]
  },
  {
   "cell_type": "code",
   "execution_count": 59,
   "metadata": {},
   "outputs": [
    {
     "data": {
      "text/plain": [
       "(0.4714185185155908,\n",
       " 0.5029177100141947,\n",
       " 0.5578054811811968,\n",
       " 0.5887095805331258,\n",
       " 0.5469906230886014,\n",
       " 0.4825995121033111,\n",
       " 0.4073058338942075,\n",
       " 0.37967704140175373,\n",
       " 0.35677596235013537)"
      ]
     },
     "execution_count": 59,
     "metadata": {},
     "output_type": "execute_result"
    }
   ],
   "source": [
    "rsq1=rsq(0.01)\n",
    "rsq2=rsq(0.5)\n",
    "rsq3=rsq(2)\n",
    "rsq4=rsq(5)\n",
    "rsq5=rsq(40)\n",
    "rsq6=rsq(100)\n",
    "rsq7=rsq(200)\n",
    "rsq8=rsq(250)\n",
    "rsq9=rsq(300)\n",
    "rsq1, rsq2, rsq3, rsq4, rsq5, rsq6, rsq7, rsq8, rsq9"
   ]
  },
  {
   "cell_type": "code",
   "execution_count": 60,
   "metadata": {},
   "outputs": [
    {
     "data": {
      "text/plain": [
       "0.5887095805331258"
      ]
     },
     "execution_count": 60,
     "metadata": {},
     "output_type": "execute_result"
    }
   ],
   "source": [
    "max(rsq1, rsq2, rsq3, rsq4, rsq5, rsq6, rsq7, rsq8, rsq9) #alpha = 5"
   ]
  },
  {
   "cell_type": "code",
   "execution_count": 61,
   "metadata": {},
   "outputs": [
    {
     "data": {
      "image/png": "[encoded data removed]",
      "text/plain": [
       "<Figure size 432x288 with 1 Axes>"
      ]
     },
     "metadata": {
      "needs_background": "light"
     },
     "output_type": "display_data"
    }
   ],
   "source": [
    "sns.lineplot(x=alpha_vals,y=[mse1,mse2,mse3,mse4,mse5,mse6,mse7,mse8,mse9] )\n",
    "plt.show()"
   ]
  },
  {
   "cell_type": "code",
   "execution_count": 62,
   "metadata": {},
   "outputs": [
    {
     "data": {
      "image/png": "[encoded data removed]",
      "text/plain": [
       "<Figure size 432x288 with 1 Axes>"
      ]
     },
     "metadata": {
      "needs_background": "light"
     },
     "output_type": "display_data"
    }
   ],
   "source": [
    "sns.lineplot(x=alpha_vals,y=[rsq1,rsq2,rsq3,rsq4,rsq5,rsq6,rsq7,rsq8,rsq9] )\n",
    "plt.show()"
   ]
  },
  {
   "cell_type": "code",
   "execution_count": 65,
   "metadata": {},
   "outputs": [],
   "source": [
    "def ridge_train(alpha_vals): \n",
    "    y_pred_ridge_train = X_train @ (((LA.inv((X_train_t@X_train)+alpha_vals*I))@X_train_t)@y_train)\n",
    "    return y_pred_ridge_train"
   ]
  },
  {
   "cell_type": "code",
   "execution_count": 66,
   "metadata": {},
   "outputs": [
    {
     "data": {
      "text/plain": [
       "(array([0.14730709, 0.57052679, 0.45886307, ..., 0.21527911, 0.24053546,\n",
       "        0.34602042]),\n",
       " array([0.1470955 , 0.57098613, 0.45845078, ..., 0.21493259, 0.24054029,\n",
       "        0.3446366 ]),\n",
       " array([0.14888873, 0.57217463, 0.45815382, ..., 0.21438444, 0.24081029,\n",
       "        0.34355642]),\n",
       " array([0.15312372, 0.57283283, 0.45821191, ..., 0.21401745, 0.241128  ,\n",
       "        0.34408199]),\n",
       " array([0.18817503, 0.5638363 , 0.46048386, ..., 0.21546194, 0.24120049,\n",
       "        0.35940866]),\n",
       " array([0.22598204, 0.55039301, 0.46469905, ..., 0.2199825 , 0.24159714,\n",
       "        0.38037482]),\n",
       " array([0.26280547, 0.53578497, 0.47058484, ..., 0.22765354, 0.24336896,\n",
       "        0.40392715]),\n",
       " array([0.27494272, 0.53041446, 0.47282284, ..., 0.23109396, 0.24435894,\n",
       "        0.41233684]),\n",
       " array([0.2845705 , 0.52580775, 0.47463486, ..., 0.23422039, 0.24531747,\n",
       "        0.41921469]))"
      ]
     },
     "execution_count": 66,
     "metadata": {},
     "output_type": "execute_result"
    }
   ],
   "source": [
    "y_pred_ridge_1t=ridge_train(0.01)\n",
    "y_pred_ridge_2t=ridge_train(0.5)\n",
    "y_pred_ridge_3t=ridge_train(2)\n",
    "y_pred_ridge_4t=ridge_train(5)\n",
    "y_pred_ridge_5t=ridge_train(40)\n",
    "y_pred_ridge_6t=ridge_train(100)\n",
    "y_pred_ridge_7t=ridge_train(200)\n",
    "y_pred_ridge_8t=ridge_train(250)\n",
    "y_pred_ridge_9t=ridge_train(300)\n",
    "y_pred_ridge_1t, y_pred_ridge_2t, y_pred_ridge_3t, y_pred_ridge_4t, y_pred_ridge_5t, y_pred_ridge_6t, y_pred_ridge_7t, y_pred_ridge_8t, y_pred_ridge_9t"
   ]
  },
  {
   "cell_type": "code",
   "execution_count": 67,
   "metadata": {},
   "outputs": [],
   "source": [
    "def mse_train(alpha_vals):\n",
    "    mse_train=np.square((ridge_train(alpha_vals))-(y_train)).mean()\n",
    "    return mse_train"
   ]
  },
  {
   "cell_type": "code",
   "execution_count": 68,
   "metadata": {},
   "outputs": [
    {
     "data": {
      "text/plain": [
       "(0.020910102373199905,\n",
       " 0.020955291015237295,\n",
       " 0.02123397545143436,\n",
       " 0.02167690503752586,\n",
       " 0.02296857767211998,\n",
       " 0.024472665958548558,\n",
       " 0.027114125502957782,\n",
       " 0.028350706659036856,\n",
       " 0.02950432917217978)"
      ]
     },
     "execution_count": 68,
     "metadata": {},
     "output_type": "execute_result"
    }
   ],
   "source": [
    "mse1t=mse_train(0.01)\n",
    "mse2t=mse_train(0.5)\n",
    "mse3t=mse_train(2)\n",
    "mse4t=mse_train(5)\n",
    "mse5t=mse_train(40)\n",
    "mse6t=mse_train(100) \n",
    "mse7t=mse_train(200)\n",
    "mse8t=mse_train(250)\n",
    "mse9t=mse_train(300)\n",
    "mse1t, mse2t, mse3t, mse4t, mse5t, mse6t, mse7t, mse8t, mse9t"
   ]
  },
  {
   "cell_type": "code",
   "execution_count": 69,
   "metadata": {},
   "outputs": [
    {
     "data": {
      "text/plain": [
       "0.020910102373199905"
      ]
     },
     "execution_count": 69,
     "metadata": {},
     "output_type": "execute_result"
    }
   ],
   "source": [
    "min(mse1t, mse2t, mse3t, mse4t, mse5t, mse6t, mse7t, mse8t, mse9t) #alpha = 0.01"
   ]
  },
  {
   "cell_type": "code",
   "execution_count": 70,
   "metadata": {},
   "outputs": [
    {
     "data": {
      "image/png": "[encoded data removed]",
      "text/plain": [
       "<Figure size 432x288 with 1 Axes>"
      ]
     },
     "metadata": {
      "needs_background": "light"
     },
     "output_type": "display_data"
    }
   ],
   "source": [
    "sns.lineplot(x=alpha_vals[0:9], y=[mse1, mse2, mse3, mse4, mse5, mse6, mse7, mse8, mse9], color='black')\n",
    "sns.lineplot(x=alpha_vals[0:9], y=[mse1t, mse2t, mse3t, mse4t, mse5t, mse6t, mse7t, mse8t, mse9t], color='red')\n",
    "plt.xlabel=(\"alpha values\")\n",
    "plt.ylabel=(\"MSE training/test\")\n",
    "plt.show()"
   ]
  },
  {
   "cell_type": "code",
   "execution_count": 71,
   "metadata": {},
   "outputs": [],
   "source": [
    "from pandas import Series, DataFrame\n",
    "from sympy import init_printing, Matrix, symbols, Rational\n",
    "import sympy as sym\n",
    "from warnings import filterwarnings\n",
    "init_printing(use_latex = 'mathjax')\n",
    "filterwarnings('ignore')"
   ]
  },
  {
   "cell_type": "code",
   "execution_count": 72,
   "metadata": {},
   "outputs": [
    {
     "data": {
      "text/latex": [
       "$\\displaystyle \\left( \\left( 12, \\  12\\right), \\  \\left( 12\\right), \\  \\left( 12, \\  14447\\right)\\right)$"
      ],
      "text/plain": [
       "((12, 12), (12,), (12, 14447))"
      ]
     },
     "execution_count": 72,
     "metadata": {},
     "output_type": "execute_result"
    }
   ],
   "source": [
    "U, s, Vt = LA.svd(X_train_t, full_matrices=False)\n",
    "U.shape, s.shape, Vt.shape"
   ]
  },
  {
   "cell_type": "code",
   "execution_count": 73,
   "metadata": {},
   "outputs": [
    {
     "data": {
      "text/latex": [
       "$\\displaystyle \\left[\\begin{array}{cccccccccccc}123.29 & 0.0 & 0.0 & 0.0 & 0.0 & 0.0 & 0.0 & 0.0 & 0.0 & 0.0 & 0.0 & 0.0\\\\0.0 & 74.17 & 0.0 & 0.0 & 0.0 & 0.0 & 0.0 & 0.0 & 0.0 & 0.0 & 0.0 & 0.0\\\\0.0 & 0.0 & 50.06 & 0.0 & 0.0 & 0.0 & 0.0 & 0.0 & 0.0 & 0.0 & 0.0 & 0.0\\\\0.0 & 0.0 & 0.0 & 30.49 & 0.0 & 0.0 & 0.0 & 0.0 & 0.0 & 0.0 & 0.0 & 0.0\\\\0.0 & 0.0 & 0.0 & 0.0 & 24.75 & 0.0 & 0.0 & 0.0 & 0.0 & 0.0 & 0.0 & 0.0\\\\0.0 & 0.0 & 0.0 & 0.0 & 0.0 & 17.79 & 0.0 & 0.0 & 0.0 & 0.0 & 0.0 & 0.0\\\\0.0 & 0.0 & 0.0 & 0.0 & 0.0 & 0.0 & 13.49 & 0.0 & 0.0 & 0.0 & 0.0 & 0.0\\\\0.0 & 0.0 & 0.0 & 0.0 & 0.0 & 0.0 & 0.0 & 10.3 & 0.0 & 0.0 & 0.0 & 0.0\\\\0.0 & 0.0 & 0.0 & 0.0 & 0.0 & 0.0 & 0.0 & 0.0 & 2.0 & 0.0 & 0.0 & 0.0\\\\0.0 & 0.0 & 0.0 & 0.0 & 0.0 & 0.0 & 0.0 & 0.0 & 0.0 & 1.77 & 0.0 & 0.0\\\\0.0 & 0.0 & 0.0 & 0.0 & 0.0 & 0.0 & 0.0 & 0.0 & 0.0 & 0.0 & 1.72 & 0.0\\\\0.0 & 0.0 & 0.0 & 0.0 & 0.0 & 0.0 & 0.0 & 0.0 & 0.0 & 0.0 & 0.0 & 0.99\\end{array}\\right]$"
      ],
      "text/plain": [
       "⎡123.29   0.0    0.0    0.0    0.0    0.0    0.0   0.0   0.0  0.0   0.0   0.0 \n",
       "⎢                                                                             \n",
       "⎢ 0.0    74.17   0.0    0.0    0.0    0.0    0.0   0.0   0.0  0.0   0.0   0.0 \n",
       "⎢                                                                             \n",
       "⎢ 0.0     0.0   50.06   0.0    0.0    0.0    0.0   0.0   0.0  0.0   0.0   0.0 \n",
       "⎢                                                                             \n",
       "⎢ 0.0     0.0    0.0   30.49   0.0    0.0    0.0   0.0   0.0  0.0   0.0   0.0 \n",
       "⎢                                                                             \n",
       "⎢ 0.0     0.0    0.0    0.0   24.75   0.0    0.0   0.0   0.0  0.0   0.0   0.0 \n",
       "⎢                                                                             \n",
       "⎢ 0.0     0.0    0.0    0.0    0.0   17.79   0.0   0.0   0.0  0.0   0.0   0.0 \n",
       "⎢                                                                             \n",
       "⎢ 0.0     0.0    0.0    0.0    0.0    0.0   13.49  0.0   0.0  0.0   0.0   0.0 \n",
       "⎢                                                                             \n",
       "⎢ 0.0     0.0    0.0    0.0    0.0    0.0    0.0   10.3  0.0  0.0   0.0   0.0 \n",
       "⎢                                                                             \n",
       "⎢ 0.0     0.0    0.0    0.0    0.0    0.0    0.0   0.0   2.0  0.0   0.0   0.0 \n",
       "⎢                                                                             \n",
       "⎢ 0.0     0.0    0.0    0.0    0.0    0.0    0.0   0.0   0.0  1.77  0.0   0.0 \n",
       "⎢                                                                             \n",
       "⎢ 0.0     0.0    0.0    0.0    0.0    0.0    0.0   0.0   0.0  0.0   1.72  0.0 \n",
       "⎢                                                                             \n",
       "⎣ 0.0     0.0    0.0    0.0    0.0    0.0    0.0   0.0   0.0  0.0   0.0   0.99\n",
       "\n",
       "⎤\n",
       "⎥\n",
       "⎥\n",
       "⎥\n",
       "⎥\n",
       "⎥\n",
       "⎥\n",
       "⎥\n",
       "⎥\n",
       "⎥\n",
       "⎥\n",
       "⎥\n",
       "⎥\n",
       "⎥\n",
       "⎥\n",
       "⎥\n",
       "⎥\n",
       "⎥\n",
       "⎥\n",
       "⎥\n",
       "⎥\n",
       "⎥\n",
       "⎦"
      ]
     },
     "execution_count": 73,
     "metadata": {},
     "output_type": "execute_result"
    }
   ],
   "source": [
    "Matrix(np.diag(np.round(s, decimals=2)))"
   ]
  },
  {
   "cell_type": "code",
   "execution_count": 74,
   "metadata": {},
   "outputs": [
    {
     "data": {
      "text/plain": [
       "array([123.29281593,  74.16579241,  50.06261363,  30.48719306,\n",
       "        24.75150167,  17.78936937,  13.49243652,  10.29904189,\n",
       "         1.99816994,   1.77087046,   1.71637109,   0.99293759])"
      ]
     },
     "execution_count": 74,
     "metadata": {},
     "output_type": "execute_result"
    }
   ],
   "source": [
    "s #check that matrix diaganol is equal to s"
   ]
  },
  {
   "cell_type": "code",
   "execution_count": 75,
   "metadata": {},
   "outputs": [
    {
     "data": {
      "text/latex": [
       "$\\displaystyle \\left[\\begin{matrix}48.3581871633328\\\\-1422.89877284455\\\\-300.175116198158\\\\-75.5735640163106\\\\-76.9850936596855\\\\-24.533683665262\\\\-59.1616422046139\\\\19.9009438457093\\\\3509.23601121329\\\\-3952.93466690603\\\\-0.242762496711357\\\\-427.272915279611\\end{matrix}\\right]$"
      ],
      "text/plain": [
       "⎡ 48.3581871633328 ⎤\n",
       "⎢                  ⎥\n",
       "⎢-1422.89877284455 ⎥\n",
       "⎢                  ⎥\n",
       "⎢-300.175116198158 ⎥\n",
       "⎢                  ⎥\n",
       "⎢-75.5735640163106 ⎥\n",
       "⎢                  ⎥\n",
       "⎢-76.9850936596855 ⎥\n",
       "⎢                  ⎥\n",
       "⎢ -24.533683665262 ⎥\n",
       "⎢                  ⎥\n",
       "⎢-59.1616422046139 ⎥\n",
       "⎢                  ⎥\n",
       "⎢ 19.9009438457093 ⎥\n",
       "⎢                  ⎥\n",
       "⎢ 3509.23601121329 ⎥\n",
       "⎢                  ⎥\n",
       "⎢-3952.93466690603 ⎥\n",
       "⎢                  ⎥\n",
       "⎢-0.242762496711357⎥\n",
       "⎢                  ⎥\n",
       "⎣-427.272915279611 ⎦"
      ]
     },
     "execution_count": 75,
     "metadata": {},
     "output_type": "execute_result"
    }
   ],
   "source": [
    "Matrix(X_train_t @ X_train @ U[:,1])"
   ]
  },
  {
   "cell_type": "code",
   "execution_count": 76,
   "metadata": {},
   "outputs": [
    {
     "data": {
      "text/latex": [
       "$\\displaystyle \\left[\\begin{matrix}48.3581871633343\\\\-1422.89877284455\\\\-300.17511619816\\\\-75.573564016312\\\\-76.9850936596853\\\\-24.5336836652619\\\\-59.1616422046137\\\\19.9009438457085\\\\3509.23601121329\\\\-3952.93466690602\\\\-0.242762496711357\\\\-427.272915279613\\end{matrix}\\right]$"
      ],
      "text/plain": [
       "⎡ 48.3581871633343 ⎤\n",
       "⎢                  ⎥\n",
       "⎢-1422.89877284455 ⎥\n",
       "⎢                  ⎥\n",
       "⎢ -300.17511619816 ⎥\n",
       "⎢                  ⎥\n",
       "⎢ -75.573564016312 ⎥\n",
       "⎢                  ⎥\n",
       "⎢-76.9850936596853 ⎥\n",
       "⎢                  ⎥\n",
       "⎢-24.5336836652619 ⎥\n",
       "⎢                  ⎥\n",
       "⎢-59.1616422046137 ⎥\n",
       "⎢                  ⎥\n",
       "⎢ 19.9009438457085 ⎥\n",
       "⎢                  ⎥\n",
       "⎢ 3509.23601121329 ⎥\n",
       "⎢                  ⎥\n",
       "⎢-3952.93466690602 ⎥\n",
       "⎢                  ⎥\n",
       "⎢-0.242762496711357⎥\n",
       "⎢                  ⎥\n",
       "⎣-427.272915279613 ⎦"
      ]
     },
     "execution_count": 76,
     "metadata": {},
     "output_type": "execute_result"
    }
   ],
   "source": [
    "Matrix(s[1]*s[1]*U[:,1]) #check, oppure Matrix(np.square(s[1]*U[:,1]))"
   ]
  },
  {
   "cell_type": "code",
   "execution_count": 77,
   "metadata": {},
   "outputs": [
    {
     "data": {
      "text/latex": [
       "$\\displaystyle \\left[\\begin{matrix}-0.466075833207228 & 0.00879149491800581 & -0.214995041042639 & 0.572988706866634 & -0.370248422314771 & 0.0740177341325823\\\\-0.299813435032831 & -0.258682305191629 & 0.273155250594281 & -0.615132283411821 & 0.061271567395999 & 0.315505128190282\\\\-0.539740057726457 & -0.0545716902011753 & 0.356815447734261 & 0.31679694994528 & 0.653149424013713 & -0.0230860759367266\\\\-0.0621306770710348 & -0.0137392371997094 & -0.00541310979137348 & -0.0146381959708353 & -0.148203719491906 & 0.139489173322042\\\\-0.0774131093613649 & -0.0139958526026901 & -0.00456297401969072 & -0.00831769557466631 & -0.157558887360864 & 0.112736517349844\\\\-0.037487101518339 & -0.00446021176382412 & -0.00521727183827816 & -0.0035603952803168 & -0.0713616747510454 & 0.0497399199167228\\\\-0.0764276889560618 & -0.010755557792644 & -0.00171029474457294 & -0.0100251357923137 & -0.150701479264085 & 0.114107446526311\\\\-0.222995902717229 & 0.00361798191673573 & 0.0606913549953707 & -0.0188510866301967 & -0.299119994282377 & 0.652155334439589\\\\-0.496005802931777 & 0.637977400899273 & -0.254459727707145 & -0.408485875817214 & -0.0634164121589324 & -0.309040382523908\\\\-0.284722047936506 & -0.718641600809693 & -0.429722250330829 & -0.158808939095431 & -0.0703222419266411 & -0.33921975908917\\\\-0.000200100138270206 & -4.41341038883796 \\cdot 10^{-5} & 0.000282522996340365 & 0.00227169423972059 & 0.00143221997309433 & 0.00212465831155517\\\\-0.0874688128068517 & -0.077678008288333 & 0.706166640595815 & 0.00988704553630931 & -0.509434470275901 & -0.459234693827731\\end{matrix}\\right]$"
      ],
      "text/plain": [
       "⎡ -0.466075833207228    0.00879149491800581    -0.214995041042639    0.5729887\n",
       "⎢                                                                             \n",
       "⎢ -0.299813435032831     -0.258682305191629    0.273155250594281     -0.615132\n",
       "⎢                                                                             \n",
       "⎢ -0.539740057726457    -0.0545716902011753    0.356815447734261      0.316796\n",
       "⎢                                                                             \n",
       "⎢ -0.0621306770710348   -0.0137392371997094   -0.00541310979137348  -0.0146381\n",
       "⎢                                                                             \n",
       "⎢ -0.0774131093613649   -0.0139958526026901   -0.00456297401969072  -0.0083176\n",
       "⎢                                                                             \n",
       "⎢ -0.037487101518339    -0.00446021176382412  -0.00521727183827816  -0.0035603\n",
       "⎢                                                                             \n",
       "⎢ -0.0764276889560618    -0.010755557792644   -0.00171029474457294  -0.0100251\n",
       "⎢                                                                             \n",
       "⎢ -0.222995902717229    0.00361798191673573    0.0606913549953707   -0.0188510\n",
       "⎢                                                                             \n",
       "⎢ -0.496005802931777     0.637977400899273     -0.254459727707145    -0.408485\n",
       "⎢                                                                             \n",
       "⎢ -0.284722047936506     -0.718641600809693    -0.429722250330829    -0.158808\n",
       "⎢                                                                             \n",
       "⎢-0.000200100138270206  -4.41341038883796e-5  0.000282522996340365  0.00227169\n",
       "⎢                                                                             \n",
       "⎣ -0.0874688128068517    -0.077678008288333    0.706166640595815    0.00988704\n",
       "\n",
       "06866634    -0.370248422314771   0.0740177341325823 ⎤\n",
       "                                                    ⎥\n",
       "283411821    0.061271567395999    0.315505128190282 ⎥\n",
       "                                                    ⎥\n",
       "94994528     0.653149424013713   -0.0230860759367266⎥\n",
       "                                                    ⎥\n",
       "959708353   -0.148203719491906    0.139489173322042 ⎥\n",
       "                                                    ⎥\n",
       "9557466631  -0.157558887360864    0.112736517349844 ⎥\n",
       "                                                    ⎥\n",
       "952803168   -0.0713616747510454  0.0497399199167228 ⎥\n",
       "                                                    ⎥\n",
       "357923137   -0.150701479264085    0.114107446526311 ⎥\n",
       "                                                    ⎥\n",
       "866301967   -0.299119994282377    0.652155334439589 ⎥\n",
       "                                                    ⎥\n",
       "875817214   -0.0634164121589324  -0.309040382523908 ⎥\n",
       "                                                    ⎥\n",
       "939095431   -0.0703222419266411   -0.33921975908917 ⎥\n",
       "                                                    ⎥\n",
       "423972059   0.00143221997309433  0.00212465831155517⎥\n",
       "                                                    ⎥\n",
       "553630931   -0.509434470275901   -0.459234693827731 ⎦"
      ]
     },
     "execution_count": 77,
     "metadata": {},
     "output_type": "execute_result"
    }
   ],
   "source": [
    "P = U[:,:6]\n",
    "Matrix(P)"
   ]
  },
  {
   "cell_type": "code",
   "execution_count": 78,
   "metadata": {},
   "outputs": [],
   "source": [
    "R = P.T @ X_train_t"
   ]
  },
  {
   "cell_type": "code",
   "execution_count": 79,
   "metadata": {},
   "outputs": [
    {
     "data": {
      "text/latex": [
       "$\\displaystyle \\left( \\left( 6, \\  12\\right), \\  \\left( 12, \\  14447\\right), \\  \\left( 6, \\  14447\\right)\\right)$"
      ],
      "text/plain": [
       "((6, 12), (12, 14447), (6, 14447))"
      ]
     },
     "execution_count": 79,
     "metadata": {},
     "output_type": "execute_result"
    }
   ],
   "source": [
    "P.T.shape, X_train_t.shape, R.shape"
   ]
  },
  {
   "cell_type": "code",
   "execution_count": 80,
   "metadata": {},
   "outputs": [],
   "source": [
    "covariance_matrix = np.cov(X_train_t)"
   ]
  },
  {
   "cell_type": "code",
   "execution_count": 81,
   "metadata": {},
   "outputs": [
    {
     "name": "stdout",
     "output_type": "stream",
     "text": [
      "Eigenvector: \n",
      " [[ 1.03438534e-01 -2.75897160e-01  5.41392235e-01  4.10556802e-02\n",
      "  -2.85993918e-01 -9.22177334e-03 -3.44529151e-02 -7.29470190e-01\n",
      "  -1.61029026e-02  2.00412815e-03  4.55892431e-02 -2.92759772e-02]\n",
      " [-1.96916079e-01  2.06782425e-01 -6.50066831e-01 -2.06148289e-02\n",
      "   2.11587360e-01 -3.47456462e-02  2.99807508e-03 -6.68240853e-01\n",
      "  -9.98223604e-03  2.74453869e-03  4.47960590e-02 -2.84265588e-02]\n",
      " [ 5.75223243e-02  2.42477162e-01  6.41208071e-02  9.35127701e-01\n",
      "   6.29116918e-02  1.26602583e-01  1.97399426e-01 -1.90620997e-02\n",
      "   9.61841202e-04 -6.00272313e-04 -8.11348830e-04  1.66625676e-03]\n",
      " [-1.81747004e-03 -1.28952042e-02  1.83582925e-03 -1.01973529e-01\n",
      "  -2.48572376e-02  1.89330926e-02  4.82262084e-01 -5.64740439e-02\n",
      "  -1.75631942e-01  2.86101825e-02 -2.34360086e-01  8.16147222e-01]\n",
      " [ 7.84135267e-04 -1.39138713e-02  8.32651359e-03 -1.05707795e-01\n",
      "  -3.09668675e-02 -9.06082519e-02  5.78026559e-01 -3.27912033e-02\n",
      "   6.16241883e-01  1.89554094e-02 -3.88962443e-01 -3.35854738e-01]\n",
      " [ 2.75659362e-03 -9.74167798e-03  3.56299160e-03 -4.65811001e-02\n",
      "  -1.60736234e-02 -3.82976991e-02  2.64066230e-01  3.70486997e-02\n",
      "   3.80926795e-01 -3.63623892e-02  8.65244728e-01  1.72657075e-01]\n",
      " [ 3.75019582e-03 -1.09082369e-02  5.80982845e-03 -1.01519053e-01\n",
      "  -2.69470787e-02 -8.02155535e-02  5.62073576e-01  3.22836595e-02\n",
      "  -6.65910855e-01 -2.54423009e-02  1.94938023e-01 -4.28149558e-01]\n",
      " [ 4.59886919e-02  2.96333879e-02 -4.92131217e-03 -1.59652832e-01\n",
      "   1.65164657e-02  9.78800045e-01  7.22785044e-02 -3.56517551e-02\n",
      "   2.00645859e-02 -8.87636146e-04  2.10744736e-02 -7.63452484e-02]\n",
      " [ 7.33533260e-01 -3.08183039e-01 -4.68579749e-01  9.41953707e-02\n",
      "  -3.71302106e-01 -4.30366411e-03 -5.86297825e-03  2.36247063e-02\n",
      "  -3.22731749e-04  2.28923276e-03 -5.24196963e-03  1.82281363e-03]\n",
      " [-6.34120598e-01 -5.16425643e-01 -2.45894481e-01  2.06866009e-01\n",
      "  -4.55497999e-01  8.81115615e-02  1.84170020e-02  1.10917178e-01\n",
      "   6.59316067e-04  1.38178472e-03 -6.02401281e-03 -3.93272537e-03]\n",
      " [-2.99116348e-05  3.00523751e-04  2.22394480e-03  7.46520763e-04\n",
      "   2.91784078e-03 -1.27631773e-03 -5.39276682e-04  7.44459378e-03\n",
      "  -9.68405939e-03  9.98413349e-01  5.04035275e-02 -2.15647204e-02]\n",
      " [-6.99656473e-02  6.77644731e-01 -4.08565598e-03 -1.10549034e-01\n",
      "  -7.22006969e-01 -1.94060259e-02 -4.34780647e-02  9.86927965e-03\n",
      "  -3.04007975e-04  1.88480427e-03  3.93736276e-04  1.56355089e-03]] \n",
      "\n",
      "Eigenvalues: \n",
      " [3.90862226e-01 1.77450638e-01 6.53154762e-02 5.50013868e-02\n",
      " 3.04990525e-02 1.54456606e-02 9.97792987e-03 1.26926932e-03\n",
      " 6.81423128e-05 2.76348958e-04 2.01689130e-04 2.08475865e-04] \n",
      "\n"
     ]
    }
   ],
   "source": [
    "eigen_values, eigen_vectors = np.linalg.eig(covariance_matrix)\n",
    "print(\"Eigenvector: \\n\",eigen_vectors,\"\\n\")\n",
    "print(\"Eigenvalues: \\n\", eigen_values, \"\\n\")"
   ]
  },
  {
   "cell_type": "code",
   "execution_count": 82,
   "metadata": {},
   "outputs": [
    {
     "name": "stdout",
     "output_type": "stream",
     "text": [
      "[52.35395611718112, 23.768587206031995, 8.748667296282402, 7.367148823228931, 4.085188968295171, 2.0688656621533252, 1.336491652910047, 0.17001200422371637, 0.009127307308980934, 0.037015501188037134, 0.02701520673250818, 0.027924254463776704]\n"
     ]
    }
   ],
   "source": [
    "variance_explained = []\n",
    "for i in eigen_values:\n",
    "     variance_explained.append((i/sum(eigen_values))*100)\n",
    "        \n",
    "print(variance_explained)"
   ]
  },
  {
   "cell_type": "code",
   "execution_count": 83,
   "metadata": {},
   "outputs": [
    {
     "name": "stdout",
     "output_type": "stream",
     "text": [
      "[ 52.35395612  76.12254332  84.87121062  92.23835944  96.32354841\n",
      "  98.39241407  99.72890573  99.89891773  99.90804504  99.94506054\n",
      "  99.97207575 100.        ]\n"
     ]
    }
   ],
   "source": [
    "cumulative_variance_explained = np.cumsum(variance_explained)\n",
    "print(cumulative_variance_explained)"
   ]
  },
  {
   "cell_type": "code",
   "execution_count": 84,
   "metadata": {},
   "outputs": [
    {
     "data": {
      "image/png": "[encoded data removed]",
      "text/plain": [
       "<Figure size 432x288 with 1 Axes>"
      ]
     },
     "metadata": {
      "needs_background": "light"
     },
     "output_type": "display_data"
    }
   ],
   "source": [
    "sns.lineplot(x = [1, 2, 3, 4, 5, 6, 7, 8, 9, 10, 11, 12], y=cumulative_variance_explained)\n",
    "plt.xlabel = (\"Number of components\")\n",
    "plt.ylabel = (\"Cumulative explained variance\")\n",
    "plt.title = (\"Explained variance vs Number of components\")"
   ]
  },
  {
   "cell_type": "code",
   "execution_count": 85,
   "metadata": {},
   "outputs": [
    {
     "data": {
      "text/latex": [
       "$\\displaystyle \\left( \\left( 12, \\  12\\right), \\  \\left( 12\\right), \\  \\left( 12, \\  6193\\right)\\right)$"
      ],
      "text/plain": [
       "((12, 12), (12,), (12, 6193))"
      ]
     },
     "execution_count": 85,
     "metadata": {},
     "output_type": "execute_result"
    }
   ],
   "source": [
    "U_test, s_test, Vt_test = LA.svd(X_test.T, full_matrices=False)\n",
    "U_test.shape, s_test.shape, Vt_test.shape"
   ]
  },
  {
   "cell_type": "code",
   "execution_count": 86,
   "metadata": {},
   "outputs": [
    {
     "data": {
      "text/latex": [
       "$\\displaystyle \\left[\\begin{array}{cccccccccccc}82.28 & 0.0 & 0.0 & 0.0 & 0.0 & 0.0 & 0.0 & 0.0 & 0.0 & 0.0 & 0.0 & 0.0\\\\0.0 & 48.54 & 0.0 & 0.0 & 0.0 & 0.0 & 0.0 & 0.0 & 0.0 & 0.0 & 0.0 & 0.0\\\\0.0 & 0.0 & 32.0 & 0.0 & 0.0 & 0.0 & 0.0 & 0.0 & 0.0 & 0.0 & 0.0 & 0.0\\\\0.0 & 0.0 & 0.0 & 19.97 & 0.0 & 0.0 & 0.0 & 0.0 & 0.0 & 0.0 & 0.0 & 0.0\\\\0.0 & 0.0 & 0.0 & 0.0 & 17.48 & 0.0 & 0.0 & 0.0 & 0.0 & 0.0 & 0.0 & 0.0\\\\0.0 & 0.0 & 0.0 & 0.0 & 0.0 & 12.15 & 0.0 & 0.0 & 0.0 & 0.0 & 0.0 & 0.0\\\\0.0 & 0.0 & 0.0 & 0.0 & 0.0 & 0.0 & 10.63 & 0.0 & 0.0 & 0.0 & 0.0 & 0.0\\\\0.0 & 0.0 & 0.0 & 0.0 & 0.0 & 0.0 & 0.0 & 7.2 & 0.0 & 0.0 & 0.0 & 0.0\\\\0.0 & 0.0 & 0.0 & 0.0 & 0.0 & 0.0 & 0.0 & 0.0 & 2.55 & 0.0 & 0.0 & 0.0\\\\0.0 & 0.0 & 0.0 & 0.0 & 0.0 & 0.0 & 0.0 & 0.0 & 0.0 & 1.6 & 0.0 & 0.0\\\\0.0 & 0.0 & 0.0 & 0.0 & 0.0 & 0.0 & 0.0 & 0.0 & 0.0 & 0.0 & 1.0 & 0.0\\\\0.0 & 0.0 & 0.0 & 0.0 & 0.0 & 0.0 & 0.0 & 0.0 & 0.0 & 0.0 & 0.0 & 0.97\\end{array}\\right]$"
      ],
      "text/plain": [
       "⎡82.28   0.0   0.0    0.0    0.0    0.0    0.0   0.0  0.0   0.0  0.0  0.0 ⎤\n",
       "⎢                                                                         ⎥\n",
       "⎢ 0.0   48.54  0.0    0.0    0.0    0.0    0.0   0.0  0.0   0.0  0.0  0.0 ⎥\n",
       "⎢                                                                         ⎥\n",
       "⎢ 0.0    0.0   32.0   0.0    0.0    0.0    0.0   0.0  0.0   0.0  0.0  0.0 ⎥\n",
       "⎢                                                                         ⎥\n",
       "⎢ 0.0    0.0   0.0   19.97   0.0    0.0    0.0   0.0  0.0   0.0  0.0  0.0 ⎥\n",
       "⎢                                                                         ⎥\n",
       "⎢ 0.0    0.0   0.0    0.0   17.48   0.0    0.0   0.0  0.0   0.0  0.0  0.0 ⎥\n",
       "⎢                                                                         ⎥\n",
       "⎢ 0.0    0.0   0.0    0.0    0.0   12.15   0.0   0.0  0.0   0.0  0.0  0.0 ⎥\n",
       "⎢                                                                         ⎥\n",
       "⎢ 0.0    0.0   0.0    0.0    0.0    0.0   10.63  0.0  0.0   0.0  0.0  0.0 ⎥\n",
       "⎢                                                                         ⎥\n",
       "⎢ 0.0    0.0   0.0    0.0    0.0    0.0    0.0   7.2  0.0   0.0  0.0  0.0 ⎥\n",
       "⎢                                                                         ⎥\n",
       "⎢ 0.0    0.0   0.0    0.0    0.0    0.0    0.0   0.0  2.55  0.0  0.0  0.0 ⎥\n",
       "⎢                                                                         ⎥\n",
       "⎢ 0.0    0.0   0.0    0.0    0.0    0.0    0.0   0.0  0.0   1.6  0.0  0.0 ⎥\n",
       "⎢                                                                         ⎥\n",
       "⎢ 0.0    0.0   0.0    0.0    0.0    0.0    0.0   0.0  0.0   0.0  1.0  0.0 ⎥\n",
       "⎢                                                                         ⎥\n",
       "⎣ 0.0    0.0   0.0    0.0    0.0    0.0    0.0   0.0  0.0   0.0  0.0  0.97⎦"
      ]
     },
     "execution_count": 86,
     "metadata": {},
     "output_type": "execute_result"
    }
   ],
   "source": [
    "Matrix(np.diag(np.round(s_test, decimals=2)))"
   ]
  },
  {
   "cell_type": "code",
   "execution_count": 87,
   "metadata": {},
   "outputs": [],
   "source": [
    "cov_matrix = np.cov(X_test.T)"
   ]
  },
  {
   "cell_type": "code",
   "execution_count": 88,
   "metadata": {},
   "outputs": [
    {
     "name": "stdout",
     "output_type": "stream",
     "text": [
      "Eigenvector: \n",
      " [[ 1.03438534e-01 -2.75897160e-01  5.41392235e-01  4.10556802e-02\n",
      "  -2.85993918e-01 -9.22177334e-03 -3.44529151e-02 -7.29470190e-01\n",
      "  -1.61029026e-02  2.00412815e-03  4.55892431e-02 -2.92759772e-02]\n",
      " [-1.96916079e-01  2.06782425e-01 -6.50066831e-01 -2.06148289e-02\n",
      "   2.11587360e-01 -3.47456462e-02  2.99807508e-03 -6.68240853e-01\n",
      "  -9.98223604e-03  2.74453869e-03  4.47960590e-02 -2.84265588e-02]\n",
      " [ 5.75223243e-02  2.42477162e-01  6.41208071e-02  9.35127701e-01\n",
      "   6.29116918e-02  1.26602583e-01  1.97399426e-01 -1.90620997e-02\n",
      "   9.61841202e-04 -6.00272313e-04 -8.11348830e-04  1.66625676e-03]\n",
      " [-1.81747004e-03 -1.28952042e-02  1.83582925e-03 -1.01973529e-01\n",
      "  -2.48572376e-02  1.89330926e-02  4.82262084e-01 -5.64740439e-02\n",
      "  -1.75631942e-01  2.86101825e-02 -2.34360086e-01  8.16147222e-01]\n",
      " [ 7.84135267e-04 -1.39138713e-02  8.32651359e-03 -1.05707795e-01\n",
      "  -3.09668675e-02 -9.06082519e-02  5.78026559e-01 -3.27912033e-02\n",
      "   6.16241883e-01  1.89554094e-02 -3.88962443e-01 -3.35854738e-01]\n",
      " [ 2.75659362e-03 -9.74167798e-03  3.56299160e-03 -4.65811001e-02\n",
      "  -1.60736234e-02 -3.82976991e-02  2.64066230e-01  3.70486997e-02\n",
      "   3.80926795e-01 -3.63623892e-02  8.65244728e-01  1.72657075e-01]\n",
      " [ 3.75019582e-03 -1.09082369e-02  5.80982845e-03 -1.01519053e-01\n",
      "  -2.69470787e-02 -8.02155535e-02  5.62073576e-01  3.22836595e-02\n",
      "  -6.65910855e-01 -2.54423009e-02  1.94938023e-01 -4.28149558e-01]\n",
      " [ 4.59886919e-02  2.96333879e-02 -4.92131217e-03 -1.59652832e-01\n",
      "   1.65164657e-02  9.78800045e-01  7.22785044e-02 -3.56517551e-02\n",
      "   2.00645859e-02 -8.87636146e-04  2.10744736e-02 -7.63452484e-02]\n",
      " [ 7.33533260e-01 -3.08183039e-01 -4.68579749e-01  9.41953707e-02\n",
      "  -3.71302106e-01 -4.30366411e-03 -5.86297825e-03  2.36247063e-02\n",
      "  -3.22731749e-04  2.28923276e-03 -5.24196963e-03  1.82281363e-03]\n",
      " [-6.34120598e-01 -5.16425643e-01 -2.45894481e-01  2.06866009e-01\n",
      "  -4.55497999e-01  8.81115615e-02  1.84170020e-02  1.10917178e-01\n",
      "   6.59316067e-04  1.38178472e-03 -6.02401281e-03 -3.93272537e-03]\n",
      " [-2.99116348e-05  3.00523751e-04  2.22394480e-03  7.46520763e-04\n",
      "   2.91784078e-03 -1.27631773e-03 -5.39276682e-04  7.44459378e-03\n",
      "  -9.68405939e-03  9.98413349e-01  5.04035275e-02 -2.15647204e-02]\n",
      " [-6.99656473e-02  6.77644731e-01 -4.08565598e-03 -1.10549034e-01\n",
      "  -7.22006969e-01 -1.94060259e-02 -4.34780647e-02  9.86927965e-03\n",
      "  -3.04007975e-04  1.88480427e-03  3.93736276e-04  1.56355089e-03]] \n",
      "\n",
      "Eigenvalues: \n",
      " [3.90862226e-01 1.77450638e-01 6.53154762e-02 5.50013868e-02\n",
      " 3.04990525e-02 1.54456606e-02 9.97792987e-03 1.26926932e-03\n",
      " 6.81423128e-05 2.76348958e-04 2.01689130e-04 2.08475865e-04] \n",
      "\n"
     ]
    }
   ],
   "source": [
    "eigen_values_test, eigen_vectors_test = np.linalg.eig(cov_matrix)\n",
    "print(\"Eigenvector: \\n\",eigen_vectors,\"\\n\")\n",
    "print(\"Eigenvalues: \\n\", eigen_values, \"\\n\")"
   ]
  },
  {
   "cell_type": "code",
   "execution_count": 89,
   "metadata": {},
   "outputs": [
    {
     "name": "stdout",
     "output_type": "stream",
     "text": [
      "[52.0198962570401, 22.472953023431543, 8.532805096828804, 7.860505891565406, 3.9572138631006255, 2.742634388532949, 2.021256979489168, 0.16964417235629498, 0.1289907415149551, 0.05243165184707093, 0.020177229822742483, 0.0214907044703381]\n"
     ]
    }
   ],
   "source": [
    "var_explained = []\n",
    "for i in eigen_values_test:\n",
    "     var_explained.append((i/sum(eigen_values_test))*100)\n",
    "        \n",
    "print(var_explained)"
   ]
  },
  {
   "cell_type": "code",
   "execution_count": 90,
   "metadata": {},
   "outputs": [
    {
     "name": "stdout",
     "output_type": "stream",
     "text": [
      "[ 52.01989626  74.49284928  83.02565438  90.88616027  94.84337413\n",
      "  97.58600852  99.6072655   99.77690967  99.90590041  99.95833207\n",
      "  99.9785093  100.        ]\n"
     ]
    }
   ],
   "source": [
    "cum_var_explained = np.cumsum(var_explained)\n",
    "print(cum_var_explained)"
   ]
  },
  {
   "cell_type": "code",
   "execution_count": 91,
   "metadata": {},
   "outputs": [
    {
     "data": {
      "image/png": "[encoded data removed]",
      "text/plain": [
       "<Figure size 432x288 with 1 Axes>"
      ]
     },
     "metadata": {
      "needs_background": "light"
     },
     "output_type": "display_data"
    }
   ],
   "source": [
    "sns.lineplot(x = [1, 2, 3, 4, 5, 6, 7, 8, 9, 10, 11, 12], y=cum_var_explained)\n",
    "plt.xlabel = (\"Number of components\")\n",
    "plt.ylabel = (\"Cumulative explained variance\")\n",
    "plt.title = (\"Explained variance vs Number of components\")"
   ]
  },
  {
   "cell_type": "code",
   "execution_count": 92,
   "metadata": {},
   "outputs": [
    {
     "data": {
      "text/latex": [
       "$\\displaystyle \\left[\\begin{matrix}-0.466840413747711 & 0.00115607808192048 & -0.214943100146546 & 0.549078192780694 & 0.349483647823361 & 0.101374451361584\\\\-0.283361540552682 & -0.263805430112719 & 0.276974644874839 & -0.60329523673998 & -0.0886178275164029 & -0.26290100186098\\\\-0.527100425358552 & -0.067525824986769 & 0.365567299172086 & 0.364244587622098 & -0.579681137405552 & -0.191378239289254\\\\-0.0934295670744088 & -0.0206733625789554 & -0.00281929416644183 & -0.0413803077524885 & 0.289161469874022 & -0.280424169676551\\\\-0.101777474307166 & -0.0179318638808516 & 0.000927382840295879 & -0.0270368671544086 & 0.285828882690572 & -0.283092749319415\\\\-0.108398787036403 & -0.0129668528861016 & -0.00695465022726827 & -0.0277336803450219 & 0.282330683255031 & -0.278397419904588\\\\-0.10150232766564 & -0.0139088150112713 & 0.00594525553472484 & -0.0294801534942065 & 0.278164009641821 & -0.282568502455357\\\\-0.220966421488672 & -0.00168480955148734 & 0.0578731575541325 & -0.0554282491542932 & 0.232254059963914 & -0.212456312528009\\\\-0.505742367259553 & 0.627441301922692 & -0.246604188433928 & -0.409593248230448 & -0.0468146035566815 & 0.302873861117094\\\\-0.268247361250741 & -0.724421560356087 & -0.426009804557999 & -0.162733588638648 & -0.0229447949237005 & 0.340673260085559\\\\-0.000134291249186186 & -3.99807587998318 \\cdot 10^{-5} & 0.000263225646279295 & 0.00157656391596855 & -0.000794493165169953 & -0.00190625940826857\\\\-0.0789460756644349 & -0.0791395145685268 & 0.705482237128946 & -0.0216492764668009 & 0.393597322615475 & 0.561176609695685\\end{matrix}\\right]$"
      ],
      "text/plain": [
       "⎡ -0.466840413747711    0.00115607808192048    -0.214943100146546    0.5490781\n",
       "⎢                                                                             \n",
       "⎢ -0.283361540552682     -0.263805430112719    0.276974644874839     -0.603295\n",
       "⎢                                                                             \n",
       "⎢ -0.527100425358552     -0.067525824986769    0.365567299172086     0.3642445\n",
       "⎢                                                                             \n",
       "⎢ -0.0934295670744088   -0.0206733625789554   -0.00281929416644183  -0.0413803\n",
       "⎢                                                                             \n",
       "⎢ -0.101777474307166    -0.0179318638808516   0.000927382840295879  -0.0270368\n",
       "⎢                                                                             \n",
       "⎢ -0.108398787036403    -0.0129668528861016   -0.00695465022726827  -0.0277336\n",
       "⎢                                                                             \n",
       "⎢  -0.10150232766564    -0.0139088150112713   0.00594525553472484   -0.0294801\n",
       "⎢                                                                             \n",
       "⎢ -0.220966421488672    -0.00168480955148734   0.0578731575541325   -0.0554282\n",
       "⎢                                                                             \n",
       "⎢ -0.505742367259553     0.627441301922692     -0.246604188433928   -0.4095932\n",
       "⎢                                                                             \n",
       "⎢ -0.268247361250741     -0.724421560356087    -0.426009804557999   -0.1627335\n",
       "⎢                                                                             \n",
       "⎢-0.000134291249186186  -3.99807587998318e-5  0.000263225646279295  0.00157656\n",
       "⎢                                                                             \n",
       "⎣ -0.0789460756644349   -0.0791395145685268    0.705482237128946    -0.0216492\n",
       "\n",
       "92780694     0.349483647823361     0.101374451361584  ⎤\n",
       "                                                      ⎥\n",
       "23673998    -0.0886178275164029    -0.26290100186098  ⎥\n",
       "                                                      ⎥\n",
       "87622098    -0.579681137405552     -0.191378239289254 ⎥\n",
       "                                                      ⎥\n",
       "077524885    0.289161469874022     -0.280424169676551 ⎥\n",
       "                                                      ⎥\n",
       "671544086    0.285828882690572     -0.283092749319415 ⎥\n",
       "                                                      ⎥\n",
       "803450219    0.282330683255031     -0.278397419904588 ⎥\n",
       "                                                      ⎥\n",
       "534942065    0.278164009641821     -0.282568502455357 ⎥\n",
       "                                                      ⎥\n",
       "491542932    0.232254059963914     -0.212456312528009 ⎥\n",
       "                                                      ⎥\n",
       "48230448    -0.0468146035566815    0.302873861117094  ⎥\n",
       "                                                      ⎥\n",
       "88638648    -0.0229447949237005    0.340673260085559  ⎥\n",
       "                                                      ⎥\n",
       "391596855  -0.000794493165169953  -0.00190625940826857⎥\n",
       "                                                      ⎥\n",
       "764668009    0.393597322615475     0.561176609695685  ⎦"
      ]
     },
     "execution_count": 92,
     "metadata": {},
     "output_type": "execute_result"
    }
   ],
   "source": [
    "P_test = U_test[:,:6]\n",
    "Matrix(P_test)"
   ]
  },
  {
   "cell_type": "code",
   "execution_count": 93,
   "metadata": {},
   "outputs": [],
   "source": [
    "R_test = P_test.T @ X_test.T"
   ]
  },
  {
   "cell_type": "code",
   "execution_count": 94,
   "metadata": {},
   "outputs": [
    {
     "data": {
      "text/latex": [
       "$\\displaystyle \\left( \\left( 6, \\  12\\right), \\  \\left( 12, \\  6193\\right), \\  \\left( 6, \\  6193\\right)\\right)$"
      ],
      "text/plain": [
       "((6, 12), (12, 6193), (6, 6193))"
      ]
     },
     "execution_count": 94,
     "metadata": {},
     "output_type": "execute_result"
    }
   ],
   "source": [
    "P_test.T.shape, X_test.T.shape, R_test.shape"
   ]
  },
  {
   "cell_type": "code",
   "execution_count": 95,
   "metadata": {},
   "outputs": [
    {
     "data": {
      "text/plain": [
       "<matplotlib.collections.PathCollection at 0x2c1b9e84518>"
      ]
     },
     "execution_count": 95,
     "metadata": {},
     "output_type": "execute_result"
    },
    {
     "data": {
      "image/png": "[encoded data removed]",
      "text/plain": [
       "<Figure size 432x288 with 1 Axes>"
      ]
     },
     "metadata": {
      "needs_background": "light"
     },
     "output_type": "display_data"
    }
   ],
   "source": [
    "plt.scatter(R_test[0,:], R_test[1,:], c=y_test)"
   ]
  },
  {
   "cell_type": "code",
   "execution_count": 96,
   "metadata": {},
   "outputs": [
    {
     "name": "stdout",
     "output_type": "stream",
     "text": [
      "[[1. 0. 0. 0. 0. 0.]\n",
      " [0. 1. 0. 0. 0. 0.]\n",
      " [0. 0. 1. 0. 0. 0.]\n",
      " [0. 0. 0. 1. 0. 0.]\n",
      " [0. 0. 0. 0. 1. 0.]\n",
      " [0. 0. 0. 0. 0. 1.]]\n"
     ]
    }
   ],
   "source": [
    "I2 = np.identity(6, dtype = float) \n",
    "print(I2)"
   ]
  },
  {
   "cell_type": "code",
   "execution_count": 97,
   "metadata": {},
   "outputs": [
    {
     "data": {
      "text/latex": [
       "$\\displaystyle \\left( \\left( 6, \\  6193\\right), \\  \\left( 6, \\  14447\\right), \\  \\left( 14447, \\  6\\right), \\  \\left( 14447\\right)\\right)$"
      ],
      "text/plain": [
       "((6, 6193), (6, 14447), (14447, 6), (14447,))"
      ]
     },
     "execution_count": 97,
     "metadata": {},
     "output_type": "execute_result"
    }
   ],
   "source": [
    "R_test.shape, R.shape, R.T.shape, y_train.shape"
   ]
  },
  {
   "cell_type": "code",
   "execution_count": 98,
   "metadata": {},
   "outputs": [],
   "source": [
    "def ridge_pca(alpha_vals): \n",
    "    y_pred_ridge_pca = R_test.T @ (((LA.inv((R @ R.T) + alpha_vals*I2)) @ R) @ y_train)\n",
    "    return y_pred_ridge_pca"
   ]
  },
  {
   "cell_type": "code",
   "execution_count": 99,
   "metadata": {},
   "outputs": [
    {
     "data": {
      "text/plain": [
       "(array([0.66987549, 0.36884623, 0.74479023, ..., 0.62683619, 0.21503769,\n",
       "        0.72420503]),\n",
       " array([0.66972542, 0.36895446, 0.74456881, ..., 0.62656335, 0.21503854,\n",
       "        0.72406532]),\n",
       " array([0.669268  , 0.36928242, 0.74389417, ..., 0.62573282, 0.21504111,\n",
       "        0.72363906]),\n",
       " array([0.66836187, 0.36992346, 0.74255891, ..., 0.62409271, 0.21504617,\n",
       "        0.72279305]),\n",
       " array([0.65856699, 0.37611979, 0.72822729, ..., 0.60678804, 0.21509788,\n",
       "        0.71351086]),\n",
       " array([0.64442683, 0.38270937, 0.70787719, ..., 0.58309058, 0.21516881,\n",
       "        0.69967753]),\n",
       " array([0.62585763, 0.38724492, 0.68179277, ..., 0.55395261, 0.21526713,\n",
       "        0.6807808 ]),\n",
       " array([0.61817066, 0.38781672, 0.67121666, ..., 0.54243178, 0.21530949,\n",
       "        0.67273682]),\n",
       " array([0.61125627, 0.38771466, 0.66181801, ..., 0.53228896, 0.21534618,\n",
       "        0.66540166]))"
      ]
     },
     "execution_count": 99,
     "metadata": {},
     "output_type": "execute_result"
    }
   ],
   "source": [
    "ridge_pca(0.01), ridge_pca(0.5), ridge_pca(2), ridge_pca(5), ridge_pca(40), ridge_pca(100), ridge_pca(200), ridge_pca(250), ridge_pca(300)"
   ]
  },
  {
   "cell_type": "code",
   "execution_count": 100,
   "metadata": {},
   "outputs": [
    {
     "data": {
      "text/latex": [
       "$\\displaystyle \\left( 6193\\right)$"
      ],
      "text/plain": [
       "(6193,)"
      ]
     },
     "execution_count": 100,
     "metadata": {},
     "output_type": "execute_result"
    }
   ],
   "source": [
    "ridge_pca(0.01).shape"
   ]
  },
  {
   "cell_type": "code",
   "execution_count": 101,
   "metadata": {},
   "outputs": [],
   "source": [
    "def mse_pca(alpha_vals):\n",
    "    mse_pca=np.square((ridge_pca(alpha_vals))-(y_test)).mean()\n",
    "    return mse_pca"
   ]
  },
  {
   "cell_type": "code",
   "execution_count": 102,
   "metadata": {},
   "outputs": [
    {
     "data": {
      "text/latex": [
       "$\\displaystyle \\left( 0.10488451354767694, \\  0.10477490233957337, \\  0.1044419553442884, \\  0.10378758991793537, \\  0.097140505492496, \\  0.0888255379938584, \\  0.07992991525846327, \\  0.07684091028539772, \\  0.07433004326447114\\right)$"
      ],
      "text/plain": [
       "(0.10488451354767694, 0.10477490233957337, 0.1044419553442884, 0.1037875899179\n",
       "3537, 0.097140505492496, 0.0888255379938584, 0.07992991525846327, 0.0768409102\n",
       "8539772, 0.07433004326447114)"
      ]
     },
     "execution_count": 102,
     "metadata": {},
     "output_type": "execute_result"
    }
   ],
   "source": [
    "mse1_pca=mse_pca(0.01)\n",
    "mse2_pca=mse_pca(0.5)\n",
    "mse3_pca=mse_pca(2)\n",
    "mse4_pca=mse_pca(5)\n",
    "mse5_pca=mse_pca(40)\n",
    "mse6_pca=mse_pca(100) \n",
    "mse7_pca=mse_pca(200)\n",
    "mse8_pca=mse_pca(250)\n",
    "mse9_pca=mse_pca(300)\n",
    "mse1_pca, mse2_pca, mse3_pca, mse4_pca, mse5_pca, mse6_pca, mse7_pca, mse8_pca, mse9_pca"
   ]
  },
  {
   "cell_type": "code",
   "execution_count": 103,
   "metadata": {},
   "outputs": [
    {
     "data": {
      "text/latex": [
       "$\\displaystyle 0.07433004326447114$"
      ],
      "text/plain": [
       "0.07433004326447114"
      ]
     },
     "execution_count": 103,
     "metadata": {},
     "output_type": "execute_result"
    }
   ],
   "source": [
    "min(mse1_pca, mse2_pca, mse3_pca, mse4_pca, mse5_pca, mse6_pca, mse7_pca, mse8_pca, mse9_pca) # alpha =300"
   ]
  },
  {
   "cell_type": "code",
   "execution_count": 104,
   "metadata": {},
   "outputs": [
    {
     "data": {
      "image/png": "[encoded data removed]",
      "text/plain": [
       "<Figure size 432x288 with 1 Axes>"
      ]
     },
     "metadata": {
      "needs_background": "light"
     },
     "output_type": "display_data"
    }
   ],
   "source": [
    "sns.lineplot(x=alpha_vals, y=[mse1,mse2,mse3,mse4,mse5,mse6,mse7,mse8,mse9], color='black')\n",
    "sns.lineplot(x=alpha_vals, y=[mse1_pca, mse2_pca,mse3_pca, mse4_pca, mse5_pca, mse6_pca, mse7_pca, mse8_pca, mse9_pca], color='red')\n",
    "plt.show()"
   ]
  },
  {
   "cell_type": "code",
   "execution_count": 105,
   "metadata": {},
   "outputs": [],
   "source": [
    "def ridge_pca_train(alpha_vals): \n",
    "    y_pred_ridge_pca_train = R.T @ (((LA.inv((R @ R.T) + alpha_vals*I2)) @ R) @ y_train)\n",
    "    return y_pred_ridge_pca_train"
   ]
  },
  {
   "cell_type": "code",
   "execution_count": 106,
   "metadata": {},
   "outputs": [
    {
     "data": {
      "text/plain": [
       "(array([0.24300696, 0.52202987, 0.41684799, ..., 0.17138246, 0.20724971,\n",
       "        0.34941981]),\n",
       " array([0.24324431, 0.52199295, 0.41698651, ..., 0.17151301, 0.20732074,\n",
       "        0.34965086]),\n",
       " array([0.24396599, 0.52188032, 0.41740797, ..., 0.17191077, 0.20753704,\n",
       "        0.3503539 ]),\n",
       " array([0.24538761, 0.52165683, 0.41823933, ..., 0.17269784, 0.20796461,\n",
       "        0.35174096]),\n",
       " array([0.26007196, 0.51920487, 0.42691574, ..., 0.18112364, 0.21250462,\n",
       "        0.36624674]),\n",
       " array([0.27904673, 0.5155129 , 0.43836204, ..., 0.19296046, 0.21877114,\n",
       "        0.38552408]),\n",
       " array([0.2999482 , 0.51026311, 0.4511979 , ..., 0.2076935 , 0.22639834,\n",
       "        0.40756917]),\n",
       " array([0.30726971, 0.50790939, 0.45569417, ..., 0.21343998, 0.22932291,\n",
       "        0.4155153 ]),\n",
       " array([0.31319544, 0.50568052, 0.45929281, ..., 0.21839475, 0.23182138,\n",
       "        0.42203483]))"
      ]
     },
     "execution_count": 106,
     "metadata": {},
     "output_type": "execute_result"
    }
   ],
   "source": [
    "ridge_pca_train(0.01), ridge_pca_train(0.5), ridge_pca_train(2), ridge_pca_train(5), ridge_pca_train(40), ridge_pca_train(100), ridge_pca_train(200), ridge_pca_train(250), ridge_pca_train(300)"
   ]
  },
  {
   "cell_type": "code",
   "execution_count": 107,
   "metadata": {},
   "outputs": [
    {
     "data": {
      "text/latex": [
       "$\\displaystyle \\left( 14447\\right)$"
      ],
      "text/plain": [
       "(14447,)"
      ]
     },
     "execution_count": 107,
     "metadata": {},
     "output_type": "execute_result"
    }
   ],
   "source": [
    "ridge_pca_train(0.01).shape"
   ]
  },
  {
   "cell_type": "code",
   "execution_count": 108,
   "metadata": {},
   "outputs": [],
   "source": [
    "def mse_pca_train(alpha_vals):\n",
    "    mse_pca_train=np.square((ridge_pca_train(alpha_vals))-(y_train)).mean()\n",
    "    return mse_pca_train"
   ]
  },
  {
   "cell_type": "code",
   "execution_count": 109,
   "metadata": {},
   "outputs": [
    {
     "data": {
      "text/latex": [
       "$\\displaystyle \\left( 0.02668528462797463, \\  0.026685334920807435, \\  0.026686082327145654, \\  0.026690181118308606, \\  0.02694217257282822, \\  0.027876927698788842, \\  0.029847938010219344, \\  0.030832325603969906, \\  0.03177412363541448\\right)$"
      ],
      "text/plain": [
       "(0.02668528462797463, 0.026685334920807435, 0.026686082327145654, 0.0266901811\n",
       "18308606, 0.02694217257282822, 0.027876927698788842, 0.029847938010219344, 0.0\n",
       "30832325603969906, 0.03177412363541448)"
      ]
     },
     "execution_count": 109,
     "metadata": {},
     "output_type": "execute_result"
    }
   ],
   "source": [
    "mse1_pca_train=mse_pca_train(0.01)\n",
    "mse2_pca_train=mse_pca_train(0.5)\n",
    "mse3_pca_train=mse_pca_train(2)\n",
    "mse4_pca_train=mse_pca_train(5)\n",
    "mse5_pca_train=mse_pca_train(40)\n",
    "mse6_pca_train=mse_pca_train(100) \n",
    "mse7_pca_train=mse_pca_train(200)\n",
    "mse8_pca_train=mse_pca_train(250)\n",
    "mse9_pca_train=mse_pca_train(300)\n",
    "mse1_pca_train, mse2_pca_train, mse3_pca_train, mse4_pca_train, mse5_pca_train, mse6_pca_train, mse7_pca_train, mse8_pca_train, mse9_pca_train"
   ]
  },
  {
   "cell_type": "code",
   "execution_count": 110,
   "metadata": {},
   "outputs": [
    {
     "data": {
      "text/latex": [
       "$\\displaystyle 0.02668528462797463$"
      ],
      "text/plain": [
       "0.02668528462797463"
      ]
     },
     "execution_count": 110,
     "metadata": {},
     "output_type": "execute_result"
    }
   ],
   "source": [
    "min(mse1_pca_train, mse2_pca_train, mse3_pca_train, mse4_pca_train, mse5_pca_train, mse6_pca_train, mse7_pca_train, mse8_pca_train, mse9_pca_train) # alpha = 0.01"
   ]
  },
  {
   "cell_type": "code",
   "execution_count": 111,
   "metadata": {},
   "outputs": [
    {
     "data": {
      "image/png": "[encoded data removed]",
      "text/plain": [
       "<Figure size 432x288 with 1 Axes>"
      ]
     },
     "metadata": {
      "needs_background": "light"
     },
     "output_type": "display_data"
    }
   ],
   "source": [
    "sns.lineplot(x=alpha_vals, y=[mse1_pca,mse2_pca,mse3_pca,mse4_pca,mse5_pca,mse6_pca,mse7_pca,mse8_pca,mse9_pca], color='black')\n",
    "sns.lineplot(x=alpha_vals, y=[mse1_pca_train, mse2_pca_train,mse3_pca_train, mse4_pca_train, mse5_pca_train, mse6_pca_train, mse7_pca_train, mse8_pca_train, mse9_pca_train], color='red')\n",
    "plt.show()"
   ]
  }
 ],
 "metadata": {
  "kernelspec": {
   "display_name": "Python 3",
   "language": "python",
   "name": "python3"
  },
  "language_info": {
   "codemirror_mode": {
    "name": "ipython",
    "version": 3
   },
   "file_extension": ".py",
   "mimetype": "text/x-python",
   "name": "python",
   "nbconvert_exporter": "python",
   "pygments_lexer": "ipython3",
   "version": "3.7.3"
  }
 },
 "nbformat": 4,
 "nbformat_minor": 2
}
