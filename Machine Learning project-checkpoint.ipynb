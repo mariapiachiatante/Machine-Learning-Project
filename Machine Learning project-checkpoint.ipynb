{
 "cells": [
  {
   "cell_type": "code",
   "execution_count": 1,
   "metadata": {},
   "outputs": [],
   "source": [
    "import pandas as pd\n",
    "import numpy as np\n",
    "import matplotlib \n",
    "import matplotlib.pyplot as plt\n",
    "import random"
   ]
  },
  {
   "cell_type": "code",
   "execution_count": 2,
   "metadata": {},
   "outputs": [],
   "source": [
    "housing = pd.read_csv(\"C:/Users/chiat/Desktop/Mary/unimi/machine learning/cal-housing.csv\")"
   ]
  },
  {
   "cell_type": "code",
   "execution_count": 3,
   "metadata": {},
   "outputs": [
    {
     "name": "stdout",
     "output_type": "stream",
     "text": [
      "<class 'pandas.core.frame.DataFrame'>\n",
      "RangeIndex: 20640 entries, 0 to 20639\n",
      "Data columns (total 10 columns):\n",
      "longitude             20640 non-null float64\n",
      "latitude              20640 non-null float64\n",
      "housing_median_age    20640 non-null float64\n",
      "total_rooms           20640 non-null float64\n",
      "total_bedrooms        20433 non-null float64\n",
      "population            20640 non-null float64\n",
      "households            20640 non-null float64\n",
      "median_income         20640 non-null float64\n",
      "median_house_value    20640 non-null float64\n",
      "ocean_proximity       20640 non-null object\n",
      "dtypes: float64(9), object(1)\n",
      "memory usage: 1.6+ MB\n"
     ]
    }
   ],
   "source": [
    "housing.info()"
   ]
  },
  {
   "cell_type": "code",
   "execution_count": 4,
   "metadata": {},
   "outputs": [
    {
     "data": {
      "text/html": [
       "<div>\n",
       "<style scoped>\n",
       "    .dataframe tbody tr th:only-of-type {\n",
       "        vertical-align: middle;\n",
       "    }\n",
       "\n",
       "    .dataframe tbody tr th {\n",
       "        vertical-align: top;\n",
       "    }\n",
       "\n",
       "    .dataframe thead th {\n",
       "        text-align: right;\n",
       "    }\n",
       "</style>\n",
       "<table border=\"1\" class=\"dataframe\">\n",
       "  <thead>\n",
       "    <tr style=\"text-align: right;\">\n",
       "      <th></th>\n",
       "      <th>longitude</th>\n",
       "      <th>latitude</th>\n",
       "      <th>housing_median_age</th>\n",
       "      <th>total_rooms</th>\n",
       "      <th>total_bedrooms</th>\n",
       "      <th>population</th>\n",
       "      <th>households</th>\n",
       "      <th>median_income</th>\n",
       "      <th>median_house_value</th>\n",
       "      <th>ocean_proximity</th>\n",
       "    </tr>\n",
       "  </thead>\n",
       "  <tbody>\n",
       "    <tr>\n",
       "      <th>0</th>\n",
       "      <td>-122.23</td>\n",
       "      <td>37.88</td>\n",
       "      <td>41.0</td>\n",
       "      <td>880.0</td>\n",
       "      <td>129.0</td>\n",
       "      <td>322.0</td>\n",
       "      <td>126.0</td>\n",
       "      <td>8.3252</td>\n",
       "      <td>452600.0</td>\n",
       "      <td>NEAR BAY</td>\n",
       "    </tr>\n",
       "    <tr>\n",
       "      <th>1</th>\n",
       "      <td>-122.22</td>\n",
       "      <td>37.86</td>\n",
       "      <td>21.0</td>\n",
       "      <td>7099.0</td>\n",
       "      <td>1106.0</td>\n",
       "      <td>2401.0</td>\n",
       "      <td>1138.0</td>\n",
       "      <td>8.3014</td>\n",
       "      <td>358500.0</td>\n",
       "      <td>NEAR BAY</td>\n",
       "    </tr>\n",
       "    <tr>\n",
       "      <th>2</th>\n",
       "      <td>-122.24</td>\n",
       "      <td>37.85</td>\n",
       "      <td>52.0</td>\n",
       "      <td>1467.0</td>\n",
       "      <td>190.0</td>\n",
       "      <td>496.0</td>\n",
       "      <td>177.0</td>\n",
       "      <td>7.2574</td>\n",
       "      <td>352100.0</td>\n",
       "      <td>NEAR BAY</td>\n",
       "    </tr>\n",
       "    <tr>\n",
       "      <th>3</th>\n",
       "      <td>-122.25</td>\n",
       "      <td>37.85</td>\n",
       "      <td>52.0</td>\n",
       "      <td>1274.0</td>\n",
       "      <td>235.0</td>\n",
       "      <td>558.0</td>\n",
       "      <td>219.0</td>\n",
       "      <td>5.6431</td>\n",
       "      <td>341300.0</td>\n",
       "      <td>NEAR BAY</td>\n",
       "    </tr>\n",
       "    <tr>\n",
       "      <th>4</th>\n",
       "      <td>-122.25</td>\n",
       "      <td>37.85</td>\n",
       "      <td>52.0</td>\n",
       "      <td>1627.0</td>\n",
       "      <td>280.0</td>\n",
       "      <td>565.0</td>\n",
       "      <td>259.0</td>\n",
       "      <td>3.8462</td>\n",
       "      <td>342200.0</td>\n",
       "      <td>NEAR BAY</td>\n",
       "    </tr>\n",
       "  </tbody>\n",
       "</table>\n",
       "</div>"
      ],
      "text/plain": [
       "   longitude  latitude  housing_median_age  total_rooms  total_bedrooms  \\\n",
       "0    -122.23     37.88                41.0        880.0           129.0   \n",
       "1    -122.22     37.86                21.0       7099.0          1106.0   \n",
       "2    -122.24     37.85                52.0       1467.0           190.0   \n",
       "3    -122.25     37.85                52.0       1274.0           235.0   \n",
       "4    -122.25     37.85                52.0       1627.0           280.0   \n",
       "\n",
       "   population  households  median_income  median_house_value ocean_proximity  \n",
       "0       322.0       126.0         8.3252            452600.0        NEAR BAY  \n",
       "1      2401.0      1138.0         8.3014            358500.0        NEAR BAY  \n",
       "2       496.0       177.0         7.2574            352100.0        NEAR BAY  \n",
       "3       558.0       219.0         5.6431            341300.0        NEAR BAY  \n",
       "4       565.0       259.0         3.8462            342200.0        NEAR BAY  "
      ]
     },
     "execution_count": 4,
     "metadata": {},
     "output_type": "execute_result"
    }
   ],
   "source": [
    "housing.head()"
   ]
  },
  {
   "cell_type": "code",
   "execution_count": 5,
   "metadata": {},
   "outputs": [
    {
     "data": {
      "text/plain": [
       "(20640, 10)"
      ]
     },
     "execution_count": 5,
     "metadata": {},
     "output_type": "execute_result"
    }
   ],
   "source": [
    "housing.shape"
   ]
  },
  {
   "cell_type": "code",
   "execution_count": 6,
   "metadata": {},
   "outputs": [
    {
     "data": {
      "text/html": [
       "<div>\n",
       "<style scoped>\n",
       "    .dataframe tbody tr th:only-of-type {\n",
       "        vertical-align: middle;\n",
       "    }\n",
       "\n",
       "    .dataframe tbody tr th {\n",
       "        vertical-align: top;\n",
       "    }\n",
       "\n",
       "    .dataframe thead th {\n",
       "        text-align: right;\n",
       "    }\n",
       "</style>\n",
       "<table border=\"1\" class=\"dataframe\">\n",
       "  <thead>\n",
       "    <tr style=\"text-align: right;\">\n",
       "      <th></th>\n",
       "      <th>longitude</th>\n",
       "      <th>latitude</th>\n",
       "      <th>housing_median_age</th>\n",
       "      <th>total_rooms</th>\n",
       "      <th>total_bedrooms</th>\n",
       "      <th>population</th>\n",
       "      <th>households</th>\n",
       "      <th>median_income</th>\n",
       "      <th>median_house_value</th>\n",
       "    </tr>\n",
       "  </thead>\n",
       "  <tbody>\n",
       "    <tr>\n",
       "      <th>count</th>\n",
       "      <td>20640.000000</td>\n",
       "      <td>20640.000000</td>\n",
       "      <td>20640.000000</td>\n",
       "      <td>20640.000000</td>\n",
       "      <td>20433.000000</td>\n",
       "      <td>20640.000000</td>\n",
       "      <td>20640.000000</td>\n",
       "      <td>20640.000000</td>\n",
       "      <td>20640.000000</td>\n",
       "    </tr>\n",
       "    <tr>\n",
       "      <th>mean</th>\n",
       "      <td>-119.569704</td>\n",
       "      <td>35.631861</td>\n",
       "      <td>28.639486</td>\n",
       "      <td>2635.763081</td>\n",
       "      <td>537.870553</td>\n",
       "      <td>1425.476744</td>\n",
       "      <td>499.539680</td>\n",
       "      <td>3.870671</td>\n",
       "      <td>206855.816909</td>\n",
       "    </tr>\n",
       "    <tr>\n",
       "      <th>std</th>\n",
       "      <td>2.003532</td>\n",
       "      <td>2.135952</td>\n",
       "      <td>12.585558</td>\n",
       "      <td>2181.615252</td>\n",
       "      <td>421.385070</td>\n",
       "      <td>1132.462122</td>\n",
       "      <td>382.329753</td>\n",
       "      <td>1.899822</td>\n",
       "      <td>115395.615874</td>\n",
       "    </tr>\n",
       "    <tr>\n",
       "      <th>min</th>\n",
       "      <td>-124.350000</td>\n",
       "      <td>32.540000</td>\n",
       "      <td>1.000000</td>\n",
       "      <td>2.000000</td>\n",
       "      <td>1.000000</td>\n",
       "      <td>3.000000</td>\n",
       "      <td>1.000000</td>\n",
       "      <td>0.499900</td>\n",
       "      <td>14999.000000</td>\n",
       "    </tr>\n",
       "    <tr>\n",
       "      <th>25%</th>\n",
       "      <td>-121.800000</td>\n",
       "      <td>33.930000</td>\n",
       "      <td>18.000000</td>\n",
       "      <td>1447.750000</td>\n",
       "      <td>296.000000</td>\n",
       "      <td>787.000000</td>\n",
       "      <td>280.000000</td>\n",
       "      <td>2.563400</td>\n",
       "      <td>119600.000000</td>\n",
       "    </tr>\n",
       "    <tr>\n",
       "      <th>50%</th>\n",
       "      <td>-118.490000</td>\n",
       "      <td>34.260000</td>\n",
       "      <td>29.000000</td>\n",
       "      <td>2127.000000</td>\n",
       "      <td>435.000000</td>\n",
       "      <td>1166.000000</td>\n",
       "      <td>409.000000</td>\n",
       "      <td>3.534800</td>\n",
       "      <td>179700.000000</td>\n",
       "    </tr>\n",
       "    <tr>\n",
       "      <th>75%</th>\n",
       "      <td>-118.010000</td>\n",
       "      <td>37.710000</td>\n",
       "      <td>37.000000</td>\n",
       "      <td>3148.000000</td>\n",
       "      <td>647.000000</td>\n",
       "      <td>1725.000000</td>\n",
       "      <td>605.000000</td>\n",
       "      <td>4.743250</td>\n",
       "      <td>264725.000000</td>\n",
       "    </tr>\n",
       "    <tr>\n",
       "      <th>max</th>\n",
       "      <td>-114.310000</td>\n",
       "      <td>41.950000</td>\n",
       "      <td>52.000000</td>\n",
       "      <td>39320.000000</td>\n",
       "      <td>6445.000000</td>\n",
       "      <td>35682.000000</td>\n",
       "      <td>6082.000000</td>\n",
       "      <td>15.000100</td>\n",
       "      <td>500001.000000</td>\n",
       "    </tr>\n",
       "  </tbody>\n",
       "</table>\n",
       "</div>"
      ],
      "text/plain": [
       "          longitude      latitude  housing_median_age   total_rooms  \\\n",
       "count  20640.000000  20640.000000        20640.000000  20640.000000   \n",
       "mean    -119.569704     35.631861           28.639486   2635.763081   \n",
       "std        2.003532      2.135952           12.585558   2181.615252   \n",
       "min     -124.350000     32.540000            1.000000      2.000000   \n",
       "25%     -121.800000     33.930000           18.000000   1447.750000   \n",
       "50%     -118.490000     34.260000           29.000000   2127.000000   \n",
       "75%     -118.010000     37.710000           37.000000   3148.000000   \n",
       "max     -114.310000     41.950000           52.000000  39320.000000   \n",
       "\n",
       "       total_bedrooms    population    households  median_income  \\\n",
       "count    20433.000000  20640.000000  20640.000000   20640.000000   \n",
       "mean       537.870553   1425.476744    499.539680       3.870671   \n",
       "std        421.385070   1132.462122    382.329753       1.899822   \n",
       "min          1.000000      3.000000      1.000000       0.499900   \n",
       "25%        296.000000    787.000000    280.000000       2.563400   \n",
       "50%        435.000000   1166.000000    409.000000       3.534800   \n",
       "75%        647.000000   1725.000000    605.000000       4.743250   \n",
       "max       6445.000000  35682.000000   6082.000000      15.000100   \n",
       "\n",
       "       median_house_value  \n",
       "count        20640.000000  \n",
       "mean        206855.816909  \n",
       "std         115395.615874  \n",
       "min          14999.000000  \n",
       "25%         119600.000000  \n",
       "50%         179700.000000  \n",
       "75%         264725.000000  \n",
       "max         500001.000000  "
      ]
     },
     "execution_count": 6,
     "metadata": {},
     "output_type": "execute_result"
    }
   ],
   "source": [
    "housing.describe()"
   ]
  },
  {
   "cell_type": "code",
   "execution_count": 7,
   "metadata": {},
   "outputs": [
    {
     "data": {
      "text/html": [
       "<div>\n",
       "<style scoped>\n",
       "    .dataframe tbody tr th:only-of-type {\n",
       "        vertical-align: middle;\n",
       "    }\n",
       "\n",
       "    .dataframe tbody tr th {\n",
       "        vertical-align: top;\n",
       "    }\n",
       "\n",
       "    .dataframe thead th {\n",
       "        text-align: right;\n",
       "    }\n",
       "</style>\n",
       "<table border=\"1\" class=\"dataframe\">\n",
       "  <thead>\n",
       "    <tr style=\"text-align: right;\">\n",
       "      <th></th>\n",
       "      <th>longitude</th>\n",
       "      <th>latitude</th>\n",
       "      <th>housing_median_age</th>\n",
       "      <th>total_rooms</th>\n",
       "      <th>total_bedrooms</th>\n",
       "      <th>population</th>\n",
       "      <th>households</th>\n",
       "      <th>median_income</th>\n",
       "      <th>median_house_value</th>\n",
       "      <th>ocean_proximity_&lt;1H OCEAN</th>\n",
       "      <th>ocean_proximity_INLAND</th>\n",
       "      <th>ocean_proximity_ISLAND</th>\n",
       "      <th>ocean_proximity_NEAR BAY</th>\n",
       "      <th>ocean_proximity_NEAR OCEAN</th>\n",
       "    </tr>\n",
       "  </thead>\n",
       "  <tbody>\n",
       "    <tr>\n",
       "      <th>0</th>\n",
       "      <td>-122.23</td>\n",
       "      <td>37.88</td>\n",
       "      <td>41.0</td>\n",
       "      <td>880.0</td>\n",
       "      <td>129.0</td>\n",
       "      <td>322.0</td>\n",
       "      <td>126.0</td>\n",
       "      <td>8.3252</td>\n",
       "      <td>452600.0</td>\n",
       "      <td>0</td>\n",
       "      <td>0</td>\n",
       "      <td>0</td>\n",
       "      <td>1</td>\n",
       "      <td>0</td>\n",
       "    </tr>\n",
       "    <tr>\n",
       "      <th>1</th>\n",
       "      <td>-122.22</td>\n",
       "      <td>37.86</td>\n",
       "      <td>21.0</td>\n",
       "      <td>7099.0</td>\n",
       "      <td>1106.0</td>\n",
       "      <td>2401.0</td>\n",
       "      <td>1138.0</td>\n",
       "      <td>8.3014</td>\n",
       "      <td>358500.0</td>\n",
       "      <td>0</td>\n",
       "      <td>0</td>\n",
       "      <td>0</td>\n",
       "      <td>1</td>\n",
       "      <td>0</td>\n",
       "    </tr>\n",
       "    <tr>\n",
       "      <th>2</th>\n",
       "      <td>-122.24</td>\n",
       "      <td>37.85</td>\n",
       "      <td>52.0</td>\n",
       "      <td>1467.0</td>\n",
       "      <td>190.0</td>\n",
       "      <td>496.0</td>\n",
       "      <td>177.0</td>\n",
       "      <td>7.2574</td>\n",
       "      <td>352100.0</td>\n",
       "      <td>0</td>\n",
       "      <td>0</td>\n",
       "      <td>0</td>\n",
       "      <td>1</td>\n",
       "      <td>0</td>\n",
       "    </tr>\n",
       "    <tr>\n",
       "      <th>3</th>\n",
       "      <td>-122.25</td>\n",
       "      <td>37.85</td>\n",
       "      <td>52.0</td>\n",
       "      <td>1274.0</td>\n",
       "      <td>235.0</td>\n",
       "      <td>558.0</td>\n",
       "      <td>219.0</td>\n",
       "      <td>5.6431</td>\n",
       "      <td>341300.0</td>\n",
       "      <td>0</td>\n",
       "      <td>0</td>\n",
       "      <td>0</td>\n",
       "      <td>1</td>\n",
       "      <td>0</td>\n",
       "    </tr>\n",
       "    <tr>\n",
       "      <th>4</th>\n",
       "      <td>-122.25</td>\n",
       "      <td>37.85</td>\n",
       "      <td>52.0</td>\n",
       "      <td>1627.0</td>\n",
       "      <td>280.0</td>\n",
       "      <td>565.0</td>\n",
       "      <td>259.0</td>\n",
       "      <td>3.8462</td>\n",
       "      <td>342200.0</td>\n",
       "      <td>0</td>\n",
       "      <td>0</td>\n",
       "      <td>0</td>\n",
       "      <td>1</td>\n",
       "      <td>0</td>\n",
       "    </tr>\n",
       "  </tbody>\n",
       "</table>\n",
       "</div>"
      ],
      "text/plain": [
       "   longitude  latitude  housing_median_age  total_rooms  total_bedrooms  \\\n",
       "0    -122.23     37.88                41.0        880.0           129.0   \n",
       "1    -122.22     37.86                21.0       7099.0          1106.0   \n",
       "2    -122.24     37.85                52.0       1467.0           190.0   \n",
       "3    -122.25     37.85                52.0       1274.0           235.0   \n",
       "4    -122.25     37.85                52.0       1627.0           280.0   \n",
       "\n",
       "   population  households  median_income  median_house_value  \\\n",
       "0       322.0       126.0         8.3252            452600.0   \n",
       "1      2401.0      1138.0         8.3014            358500.0   \n",
       "2       496.0       177.0         7.2574            352100.0   \n",
       "3       558.0       219.0         5.6431            341300.0   \n",
       "4       565.0       259.0         3.8462            342200.0   \n",
       "\n",
       "   ocean_proximity_<1H OCEAN  ocean_proximity_INLAND  ocean_proximity_ISLAND  \\\n",
       "0                          0                       0                       0   \n",
       "1                          0                       0                       0   \n",
       "2                          0                       0                       0   \n",
       "3                          0                       0                       0   \n",
       "4                          0                       0                       0   \n",
       "\n",
       "   ocean_proximity_NEAR BAY  ocean_proximity_NEAR OCEAN  \n",
       "0                         1                           0  \n",
       "1                         1                           0  \n",
       "2                         1                           0  \n",
       "3                         1                           0  \n",
       "4                         1                           0  "
      ]
     },
     "execution_count": 7,
     "metadata": {},
     "output_type": "execute_result"
    }
   ],
   "source": [
    "housing2 = pd.get_dummies(housing, columns=[\"ocean_proximity\"])\n",
    "housing2.head()"
   ]
  },
  {
   "cell_type": "code",
   "execution_count": 8,
   "metadata": {},
   "outputs": [],
   "source": [
    "random.seed(15)\n",
    "sample_housing2 = housing2.sample(frac=1)\n",
    "training_size = int(0.7 * len(housing2))\n",
    "training_set = sample_housing2[:training_size]\n",
    "test_set = sample_housing2[training_size:]"
   ]
  },
  {
   "cell_type": "code",
   "execution_count": 9,
   "metadata": {},
   "outputs": [
    {
     "data": {
      "text/plain": [
       "((14447, 14), (6193, 14))"
      ]
     },
     "execution_count": 9,
     "metadata": {},
     "output_type": "execute_result"
    }
   ],
   "source": [
    "training_set.shape, test_set.shape"
   ]
  },
  {
   "cell_type": "code",
   "execution_count": 11,
   "metadata": {},
   "outputs": [],
   "source": [
    "training_set = training_set.fillna(training_set.mean())\n",
    "test_set = test_set.fillna(test_set.mean())"
   ]
  },
  {
   "cell_type": "code",
   "execution_count": 12,
   "metadata": {},
   "outputs": [],
   "source": [
    "#normalization\n",
    "def norm(df):\n",
    "    df = (df-df.min())/(df.max()-df.min())\n",
    "    return df"
   ]
  },
  {
   "cell_type": "code",
   "execution_count": 13,
   "metadata": {},
   "outputs": [
    {
     "data": {
      "text/html": [
       "<div>\n",
       "<style scoped>\n",
       "    .dataframe tbody tr th:only-of-type {\n",
       "        vertical-align: middle;\n",
       "    }\n",
       "\n",
       "    .dataframe tbody tr th {\n",
       "        vertical-align: top;\n",
       "    }\n",
       "\n",
       "    .dataframe thead th {\n",
       "        text-align: right;\n",
       "    }\n",
       "</style>\n",
       "<table border=\"1\" class=\"dataframe\">\n",
       "  <thead>\n",
       "    <tr style=\"text-align: right;\">\n",
       "      <th></th>\n",
       "      <th>longitude</th>\n",
       "      <th>latitude</th>\n",
       "      <th>housing_median_age</th>\n",
       "      <th>total_rooms</th>\n",
       "      <th>total_bedrooms</th>\n",
       "      <th>population</th>\n",
       "      <th>households</th>\n",
       "      <th>median_income</th>\n",
       "      <th>median_house_value</th>\n",
       "      <th>ocean_proximity_&lt;1H OCEAN</th>\n",
       "      <th>ocean_proximity_INLAND</th>\n",
       "      <th>ocean_proximity_ISLAND</th>\n",
       "      <th>ocean_proximity_NEAR BAY</th>\n",
       "      <th>ocean_proximity_NEAR OCEAN</th>\n",
       "    </tr>\n",
       "  </thead>\n",
       "  <tbody>\n",
       "    <tr>\n",
       "      <th>10405</th>\n",
       "      <td>0.679283</td>\n",
       "      <td>0.121665</td>\n",
       "      <td>0.098039</td>\n",
       "      <td>0.011496</td>\n",
       "      <td>0.015673</td>\n",
       "      <td>0.005830</td>\n",
       "      <td>0.006907</td>\n",
       "      <td>0.722093</td>\n",
       "      <td>0.965565</td>\n",
       "      <td>1.0</td>\n",
       "      <td>0.0</td>\n",
       "      <td>0.0</td>\n",
       "      <td>0.0</td>\n",
       "      <td>0.0</td>\n",
       "    </tr>\n",
       "    <tr>\n",
       "      <th>2742</th>\n",
       "      <td>0.873506</td>\n",
       "      <td>0.024546</td>\n",
       "      <td>0.078431</td>\n",
       "      <td>0.063381</td>\n",
       "      <td>0.064091</td>\n",
       "      <td>0.039549</td>\n",
       "      <td>0.069068</td>\n",
       "      <td>0.364436</td>\n",
       "      <td>0.196084</td>\n",
       "      <td>0.0</td>\n",
       "      <td>1.0</td>\n",
       "      <td>0.0</td>\n",
       "      <td>0.0</td>\n",
       "      <td>0.0</td>\n",
       "    </tr>\n",
       "    <tr>\n",
       "      <th>11953</th>\n",
       "      <td>0.687251</td>\n",
       "      <td>0.147279</td>\n",
       "      <td>0.372549</td>\n",
       "      <td>0.152500</td>\n",
       "      <td>0.204687</td>\n",
       "      <td>0.089133</td>\n",
       "      <td>0.197007</td>\n",
       "      <td>0.191253</td>\n",
       "      <td>0.203919</td>\n",
       "      <td>0.0</td>\n",
       "      <td>1.0</td>\n",
       "      <td>0.0</td>\n",
       "      <td>0.0</td>\n",
       "      <td>0.0</td>\n",
       "    </tr>\n",
       "    <tr>\n",
       "      <th>2931</th>\n",
       "      <td>0.532869</td>\n",
       "      <td>0.298826</td>\n",
       "      <td>0.666667</td>\n",
       "      <td>0.029554</td>\n",
       "      <td>0.042831</td>\n",
       "      <td>0.027665</td>\n",
       "      <td>0.046538</td>\n",
       "      <td>0.062178</td>\n",
       "      <td>0.069486</td>\n",
       "      <td>0.0</td>\n",
       "      <td>1.0</td>\n",
       "      <td>0.0</td>\n",
       "      <td>0.0</td>\n",
       "      <td>0.0</td>\n",
       "    </tr>\n",
       "    <tr>\n",
       "      <th>1971</th>\n",
       "      <td>0.370518</td>\n",
       "      <td>0.654216</td>\n",
       "      <td>0.254902</td>\n",
       "      <td>0.046264</td>\n",
       "      <td>0.048883</td>\n",
       "      <td>0.021414</td>\n",
       "      <td>0.043578</td>\n",
       "      <td>0.177860</td>\n",
       "      <td>0.240620</td>\n",
       "      <td>0.0</td>\n",
       "      <td>1.0</td>\n",
       "      <td>0.0</td>\n",
       "      <td>0.0</td>\n",
       "      <td>0.0</td>\n",
       "    </tr>\n",
       "  </tbody>\n",
       "</table>\n",
       "</div>"
      ],
      "text/plain": [
       "       longitude  latitude  housing_median_age  total_rooms  total_bedrooms  \\\n",
       "10405   0.679283  0.121665            0.098039     0.011496        0.015673   \n",
       "2742    0.873506  0.024546            0.078431     0.063381        0.064091   \n",
       "11953   0.687251  0.147279            0.372549     0.152500        0.204687   \n",
       "2931    0.532869  0.298826            0.666667     0.029554        0.042831   \n",
       "1971    0.370518  0.654216            0.254902     0.046264        0.048883   \n",
       "\n",
       "       population  households  median_income  median_house_value  \\\n",
       "10405    0.005830    0.006907       0.722093            0.965565   \n",
       "2742     0.039549    0.069068       0.364436            0.196084   \n",
       "11953    0.089133    0.197007       0.191253            0.203919   \n",
       "2931     0.027665    0.046538       0.062178            0.069486   \n",
       "1971     0.021414    0.043578       0.177860            0.240620   \n",
       "\n",
       "       ocean_proximity_<1H OCEAN  ocean_proximity_INLAND  \\\n",
       "10405                        1.0                     0.0   \n",
       "2742                         0.0                     1.0   \n",
       "11953                        0.0                     1.0   \n",
       "2931                         0.0                     1.0   \n",
       "1971                         0.0                     1.0   \n",
       "\n",
       "       ocean_proximity_ISLAND  ocean_proximity_NEAR BAY  \\\n",
       "10405                     0.0                       0.0   \n",
       "2742                      0.0                       0.0   \n",
       "11953                     0.0                       0.0   \n",
       "2931                      0.0                       0.0   \n",
       "1971                      0.0                       0.0   \n",
       "\n",
       "       ocean_proximity_NEAR OCEAN  \n",
       "10405                         0.0  \n",
       "2742                          0.0  \n",
       "11953                         0.0  \n",
       "2931                          0.0  \n",
       "1971                          0.0  "
      ]
     },
     "execution_count": 13,
     "metadata": {},
     "output_type": "execute_result"
    }
   ],
   "source": [
    "training_set = norm(training_set)\n",
    "training_set.head()"
   ]
  },
  {
   "cell_type": "code",
   "execution_count": 14,
   "metadata": {},
   "outputs": [
    {
     "data": {
      "text/html": [
       "<div>\n",
       "<style scoped>\n",
       "    .dataframe tbody tr th:only-of-type {\n",
       "        vertical-align: middle;\n",
       "    }\n",
       "\n",
       "    .dataframe tbody tr th {\n",
       "        vertical-align: top;\n",
       "    }\n",
       "\n",
       "    .dataframe thead th {\n",
       "        text-align: right;\n",
       "    }\n",
       "</style>\n",
       "<table border=\"1\" class=\"dataframe\">\n",
       "  <thead>\n",
       "    <tr style=\"text-align: right;\">\n",
       "      <th></th>\n",
       "      <th>longitude</th>\n",
       "      <th>latitude</th>\n",
       "      <th>housing_median_age</th>\n",
       "      <th>total_rooms</th>\n",
       "      <th>total_bedrooms</th>\n",
       "      <th>population</th>\n",
       "      <th>households</th>\n",
       "      <th>median_income</th>\n",
       "      <th>median_house_value</th>\n",
       "      <th>ocean_proximity_&lt;1H OCEAN</th>\n",
       "      <th>ocean_proximity_INLAND</th>\n",
       "      <th>ocean_proximity_ISLAND</th>\n",
       "      <th>ocean_proximity_NEAR BAY</th>\n",
       "      <th>ocean_proximity_NEAR OCEAN</th>\n",
       "    </tr>\n",
       "  </thead>\n",
       "  <tbody>\n",
       "    <tr>\n",
       "      <th>12967</th>\n",
       "      <td>0.302686</td>\n",
       "      <td>0.654623</td>\n",
       "      <td>0.294118</td>\n",
       "      <td>0.126651</td>\n",
       "      <td>0.117984</td>\n",
       "      <td>0.142377</td>\n",
       "      <td>0.127055</td>\n",
       "      <td>0.177267</td>\n",
       "      <td>0.228867</td>\n",
       "      <td>0.0</td>\n",
       "      <td>1.0</td>\n",
       "      <td>0.0</td>\n",
       "      <td>0.0</td>\n",
       "      <td>0.0</td>\n",
       "    </tr>\n",
       "    <tr>\n",
       "      <th>15732</th>\n",
       "      <td>0.186983</td>\n",
       "      <td>0.556854</td>\n",
       "      <td>1.000000</td>\n",
       "      <td>0.096732</td>\n",
       "      <td>0.135340</td>\n",
       "      <td>0.107049</td>\n",
       "      <td>0.131926</td>\n",
       "      <td>0.168487</td>\n",
       "      <td>0.673608</td>\n",
       "      <td>0.0</td>\n",
       "      <td>0.0</td>\n",
       "      <td>0.0</td>\n",
       "      <td>1.0</td>\n",
       "      <td>0.0</td>\n",
       "    </tr>\n",
       "    <tr>\n",
       "      <th>981</th>\n",
       "      <td>0.247934</td>\n",
       "      <td>0.546227</td>\n",
       "      <td>0.058824</td>\n",
       "      <td>0.166555</td>\n",
       "      <td>0.136263</td>\n",
       "      <td>0.155082</td>\n",
       "      <td>0.149990</td>\n",
       "      <td>0.435394</td>\n",
       "      <td>0.551546</td>\n",
       "      <td>0.0</td>\n",
       "      <td>1.0</td>\n",
       "      <td>0.0</td>\n",
       "      <td>0.0</td>\n",
       "      <td>0.0</td>\n",
       "    </tr>\n",
       "    <tr>\n",
       "      <th>11931</th>\n",
       "      <td>0.708678</td>\n",
       "      <td>0.149841</td>\n",
       "      <td>0.666667</td>\n",
       "      <td>0.116524</td>\n",
       "      <td>0.125000</td>\n",
       "      <td>0.142541</td>\n",
       "      <td>0.135985</td>\n",
       "      <td>0.221445</td>\n",
       "      <td>0.194022</td>\n",
       "      <td>0.0</td>\n",
       "      <td>1.0</td>\n",
       "      <td>0.0</td>\n",
       "      <td>0.0</td>\n",
       "      <td>0.0</td>\n",
       "    </tr>\n",
       "    <tr>\n",
       "      <th>7118</th>\n",
       "      <td>0.643595</td>\n",
       "      <td>0.144527</td>\n",
       "      <td>0.647059</td>\n",
       "      <td>0.057395</td>\n",
       "      <td>0.065547</td>\n",
       "      <td>0.079836</td>\n",
       "      <td>0.071849</td>\n",
       "      <td>0.213369</td>\n",
       "      <td>0.401856</td>\n",
       "      <td>1.0</td>\n",
       "      <td>0.0</td>\n",
       "      <td>0.0</td>\n",
       "      <td>0.0</td>\n",
       "      <td>0.0</td>\n",
       "    </tr>\n",
       "  </tbody>\n",
       "</table>\n",
       "</div>"
      ],
      "text/plain": [
       "       longitude  latitude  housing_median_age  total_rooms  total_bedrooms  \\\n",
       "12967   0.302686  0.654623            0.294118     0.126651        0.117984   \n",
       "15732   0.186983  0.556854            1.000000     0.096732        0.135340   \n",
       "981     0.247934  0.546227            0.058824     0.166555        0.136263   \n",
       "11931   0.708678  0.149841            0.666667     0.116524        0.125000   \n",
       "7118    0.643595  0.144527            0.647059     0.057395        0.065547   \n",
       "\n",
       "       population  households  median_income  median_house_value  \\\n",
       "12967    0.142377    0.127055       0.177267            0.228867   \n",
       "15732    0.107049    0.131926       0.168487            0.673608   \n",
       "981      0.155082    0.149990       0.435394            0.551546   \n",
       "11931    0.142541    0.135985       0.221445            0.194022   \n",
       "7118     0.079836    0.071849       0.213369            0.401856   \n",
       "\n",
       "       ocean_proximity_<1H OCEAN  ocean_proximity_INLAND  \\\n",
       "12967                        0.0                     1.0   \n",
       "15732                        0.0                     0.0   \n",
       "981                          0.0                     1.0   \n",
       "11931                        0.0                     1.0   \n",
       "7118                         1.0                     0.0   \n",
       "\n",
       "       ocean_proximity_ISLAND  ocean_proximity_NEAR BAY  \\\n",
       "12967                     0.0                       0.0   \n",
       "15732                     0.0                       1.0   \n",
       "981                       0.0                       0.0   \n",
       "11931                     0.0                       0.0   \n",
       "7118                      0.0                       0.0   \n",
       "\n",
       "       ocean_proximity_NEAR OCEAN  \n",
       "12967                         0.0  \n",
       "15732                         0.0  \n",
       "981                           0.0  \n",
       "11931                         0.0  \n",
       "7118                          0.0  "
      ]
     },
     "execution_count": 14,
     "metadata": {},
     "output_type": "execute_result"
    }
   ],
   "source": [
    "test_set = norm(test_set)\n",
    "test_set.head()"
   ]
  },
  {
   "cell_type": "code",
   "execution_count": 15,
   "metadata": {},
   "outputs": [
    {
     "data": {
      "text/html": [
       "<div>\n",
       "<style scoped>\n",
       "    .dataframe tbody tr th:only-of-type {\n",
       "        vertical-align: middle;\n",
       "    }\n",
       "\n",
       "    .dataframe tbody tr th {\n",
       "        vertical-align: top;\n",
       "    }\n",
       "\n",
       "    .dataframe thead th {\n",
       "        text-align: right;\n",
       "    }\n",
       "</style>\n",
       "<table border=\"1\" class=\"dataframe\">\n",
       "  <thead>\n",
       "    <tr style=\"text-align: right;\">\n",
       "      <th></th>\n",
       "      <th>longitude</th>\n",
       "      <th>latitude</th>\n",
       "      <th>housing_median_age</th>\n",
       "      <th>total_rooms</th>\n",
       "      <th>total_bedrooms</th>\n",
       "      <th>population</th>\n",
       "      <th>households</th>\n",
       "      <th>median_income</th>\n",
       "      <th>median_house_value</th>\n",
       "      <th>ocean_proximity_&lt;1H OCEAN</th>\n",
       "      <th>ocean_proximity_INLAND</th>\n",
       "      <th>ocean_proximity_ISLAND</th>\n",
       "      <th>ocean_proximity_NEAR BAY</th>\n",
       "      <th>ocean_proximity_NEAR OCEAN</th>\n",
       "    </tr>\n",
       "  </thead>\n",
       "  <tbody>\n",
       "    <tr>\n",
       "      <th>longitude</th>\n",
       "      <td>1.000000</td>\n",
       "      <td>-0.925427</td>\n",
       "      <td>-0.113847</td>\n",
       "      <td>0.044722</td>\n",
       "      <td>0.068881</td>\n",
       "      <td>0.097821</td>\n",
       "      <td>0.055051</td>\n",
       "      <td>-0.015037</td>\n",
       "      <td>-0.045245</td>\n",
       "      <td>0.320463</td>\n",
       "      <td>-0.054817</td>\n",
       "      <td>0.008859</td>\n",
       "      <td>-0.478376</td>\n",
       "      <td>0.049655</td>\n",
       "    </tr>\n",
       "    <tr>\n",
       "      <th>latitude</th>\n",
       "      <td>-0.925427</td>\n",
       "      <td>1.000000</td>\n",
       "      <td>0.016636</td>\n",
       "      <td>-0.036497</td>\n",
       "      <td>-0.066803</td>\n",
       "      <td>-0.106712</td>\n",
       "      <td>-0.070745</td>\n",
       "      <td>-0.077902</td>\n",
       "      <td>-0.142022</td>\n",
       "      <td>-0.445941</td>\n",
       "      <td>0.349470</td>\n",
       "      <td>-0.015373</td>\n",
       "      <td>0.362652</td>\n",
       "      <td>-0.164337</td>\n",
       "    </tr>\n",
       "    <tr>\n",
       "      <th>housing_median_age</th>\n",
       "      <td>-0.113847</td>\n",
       "      <td>0.016636</td>\n",
       "      <td>1.000000</td>\n",
       "      <td>-0.357654</td>\n",
       "      <td>-0.316640</td>\n",
       "      <td>-0.288205</td>\n",
       "      <td>-0.299953</td>\n",
       "      <td>-0.122381</td>\n",
       "      <td>0.102921</td>\n",
       "      <td>0.041136</td>\n",
       "      <td>-0.237656</td>\n",
       "      <td>0.017388</td>\n",
       "      <td>0.265520</td>\n",
       "      <td>0.019206</td>\n",
       "    </tr>\n",
       "    <tr>\n",
       "      <th>total_rooms</th>\n",
       "      <td>0.044722</td>\n",
       "      <td>-0.036497</td>\n",
       "      <td>-0.357654</td>\n",
       "      <td>1.000000</td>\n",
       "      <td>0.926537</td>\n",
       "      <td>0.857065</td>\n",
       "      <td>0.918598</td>\n",
       "      <td>0.198503</td>\n",
       "      <td>0.132935</td>\n",
       "      <td>-0.003761</td>\n",
       "      <td>0.026056</td>\n",
       "      <td>-0.003845</td>\n",
       "      <td>-0.030272</td>\n",
       "      <td>-0.002043</td>\n",
       "    </tr>\n",
       "    <tr>\n",
       "      <th>total_bedrooms</th>\n",
       "      <td>0.068881</td>\n",
       "      <td>-0.066803</td>\n",
       "      <td>-0.316640</td>\n",
       "      <td>0.926537</td>\n",
       "      <td>1.000000</td>\n",
       "      <td>0.875470</td>\n",
       "      <td>0.975399</td>\n",
       "      <td>-0.008176</td>\n",
       "      <td>0.045016</td>\n",
       "      <td>0.016430</td>\n",
       "      <td>-0.005436</td>\n",
       "      <td>0.000106</td>\n",
       "      <td>-0.026993</td>\n",
       "      <td>0.008543</td>\n",
       "    </tr>\n",
       "    <tr>\n",
       "      <th>population</th>\n",
       "      <td>0.097821</td>\n",
       "      <td>-0.106712</td>\n",
       "      <td>-0.288205</td>\n",
       "      <td>0.857065</td>\n",
       "      <td>0.875470</td>\n",
       "      <td>1.000000</td>\n",
       "      <td>0.906755</td>\n",
       "      <td>0.001507</td>\n",
       "      <td>-0.026510</td>\n",
       "      <td>0.070638</td>\n",
       "      <td>-0.021222</td>\n",
       "      <td>-0.007110</td>\n",
       "      <td>-0.065972</td>\n",
       "      <td>-0.013104</td>\n",
       "    </tr>\n",
       "    <tr>\n",
       "      <th>households</th>\n",
       "      <td>0.055051</td>\n",
       "      <td>-0.070745</td>\n",
       "      <td>-0.299953</td>\n",
       "      <td>0.918598</td>\n",
       "      <td>0.975399</td>\n",
       "      <td>0.906755</td>\n",
       "      <td>1.000000</td>\n",
       "      <td>0.010733</td>\n",
       "      <td>0.062050</td>\n",
       "      <td>0.039076</td>\n",
       "      <td>-0.037887</td>\n",
       "      <td>-0.005639</td>\n",
       "      <td>-0.016623</td>\n",
       "      <td>0.010554</td>\n",
       "    </tr>\n",
       "    <tr>\n",
       "      <th>median_income</th>\n",
       "      <td>-0.015037</td>\n",
       "      <td>-0.077902</td>\n",
       "      <td>-0.122381</td>\n",
       "      <td>0.198503</td>\n",
       "      <td>-0.008176</td>\n",
       "      <td>0.001507</td>\n",
       "      <td>0.010733</td>\n",
       "      <td>1.000000</td>\n",
       "      <td>0.691939</td>\n",
       "      <td>0.169082</td>\n",
       "      <td>-0.234465</td>\n",
       "      <td>-0.008213</td>\n",
       "      <td>0.052390</td>\n",
       "      <td>0.026184</td>\n",
       "    </tr>\n",
       "    <tr>\n",
       "      <th>median_house_value</th>\n",
       "      <td>-0.045245</td>\n",
       "      <td>-0.142022</td>\n",
       "      <td>0.102921</td>\n",
       "      <td>0.132935</td>\n",
       "      <td>0.045016</td>\n",
       "      <td>-0.026510</td>\n",
       "      <td>0.062050</td>\n",
       "      <td>0.691939</td>\n",
       "      <td>1.000000</td>\n",
       "      <td>0.258422</td>\n",
       "      <td>-0.482116</td>\n",
       "      <td>0.022703</td>\n",
       "      <td>0.156818</td>\n",
       "      <td>0.138722</td>\n",
       "    </tr>\n",
       "    <tr>\n",
       "      <th>ocean_proximity_&lt;1H OCEAN</th>\n",
       "      <td>0.320463</td>\n",
       "      <td>-0.445941</td>\n",
       "      <td>0.041136</td>\n",
       "      <td>-0.003761</td>\n",
       "      <td>0.016430</td>\n",
       "      <td>0.070638</td>\n",
       "      <td>0.039076</td>\n",
       "      <td>0.169082</td>\n",
       "      <td>0.258422</td>\n",
       "      <td>1.000000</td>\n",
       "      <td>-0.608532</td>\n",
       "      <td>-0.012872</td>\n",
       "      <td>-0.315986</td>\n",
       "      <td>-0.341866</td>\n",
       "    </tr>\n",
       "    <tr>\n",
       "      <th>ocean_proximity_INLAND</th>\n",
       "      <td>-0.054817</td>\n",
       "      <td>0.349470</td>\n",
       "      <td>-0.237656</td>\n",
       "      <td>0.026056</td>\n",
       "      <td>-0.005436</td>\n",
       "      <td>-0.021222</td>\n",
       "      <td>-0.037887</td>\n",
       "      <td>-0.234465</td>\n",
       "      <td>-0.482116</td>\n",
       "      <td>-0.608532</td>\n",
       "      <td>1.000000</td>\n",
       "      <td>-0.009819</td>\n",
       "      <td>-0.241027</td>\n",
       "      <td>-0.260768</td>\n",
       "    </tr>\n",
       "    <tr>\n",
       "      <th>ocean_proximity_ISLAND</th>\n",
       "      <td>0.008859</td>\n",
       "      <td>-0.015373</td>\n",
       "      <td>0.017388</td>\n",
       "      <td>-0.003845</td>\n",
       "      <td>0.000106</td>\n",
       "      <td>-0.007110</td>\n",
       "      <td>-0.005639</td>\n",
       "      <td>-0.008213</td>\n",
       "      <td>0.022703</td>\n",
       "      <td>-0.012872</td>\n",
       "      <td>-0.009819</td>\n",
       "      <td>1.000000</td>\n",
       "      <td>-0.005098</td>\n",
       "      <td>-0.005516</td>\n",
       "    </tr>\n",
       "    <tr>\n",
       "      <th>ocean_proximity_NEAR BAY</th>\n",
       "      <td>-0.478376</td>\n",
       "      <td>0.362652</td>\n",
       "      <td>0.265520</td>\n",
       "      <td>-0.030272</td>\n",
       "      <td>-0.026993</td>\n",
       "      <td>-0.065972</td>\n",
       "      <td>-0.016623</td>\n",
       "      <td>0.052390</td>\n",
       "      <td>0.156818</td>\n",
       "      <td>-0.315986</td>\n",
       "      <td>-0.241027</td>\n",
       "      <td>-0.005098</td>\n",
       "      <td>1.000000</td>\n",
       "      <td>-0.135406</td>\n",
       "    </tr>\n",
       "    <tr>\n",
       "      <th>ocean_proximity_NEAR OCEAN</th>\n",
       "      <td>0.049655</td>\n",
       "      <td>-0.164337</td>\n",
       "      <td>0.019206</td>\n",
       "      <td>-0.002043</td>\n",
       "      <td>0.008543</td>\n",
       "      <td>-0.013104</td>\n",
       "      <td>0.010554</td>\n",
       "      <td>0.026184</td>\n",
       "      <td>0.138722</td>\n",
       "      <td>-0.341866</td>\n",
       "      <td>-0.260768</td>\n",
       "      <td>-0.005516</td>\n",
       "      <td>-0.135406</td>\n",
       "      <td>1.000000</td>\n",
       "    </tr>\n",
       "  </tbody>\n",
       "</table>\n",
       "</div>"
      ],
      "text/plain": [
       "                            longitude  latitude  housing_median_age  \\\n",
       "longitude                    1.000000 -0.925427           -0.113847   \n",
       "latitude                    -0.925427  1.000000            0.016636   \n",
       "housing_median_age          -0.113847  0.016636            1.000000   \n",
       "total_rooms                  0.044722 -0.036497           -0.357654   \n",
       "total_bedrooms               0.068881 -0.066803           -0.316640   \n",
       "population                   0.097821 -0.106712           -0.288205   \n",
       "households                   0.055051 -0.070745           -0.299953   \n",
       "median_income               -0.015037 -0.077902           -0.122381   \n",
       "median_house_value          -0.045245 -0.142022            0.102921   \n",
       "ocean_proximity_<1H OCEAN    0.320463 -0.445941            0.041136   \n",
       "ocean_proximity_INLAND      -0.054817  0.349470           -0.237656   \n",
       "ocean_proximity_ISLAND       0.008859 -0.015373            0.017388   \n",
       "ocean_proximity_NEAR BAY    -0.478376  0.362652            0.265520   \n",
       "ocean_proximity_NEAR OCEAN   0.049655 -0.164337            0.019206   \n",
       "\n",
       "                            total_rooms  total_bedrooms  population  \\\n",
       "longitude                      0.044722        0.068881    0.097821   \n",
       "latitude                      -0.036497       -0.066803   -0.106712   \n",
       "housing_median_age            -0.357654       -0.316640   -0.288205   \n",
       "total_rooms                    1.000000        0.926537    0.857065   \n",
       "total_bedrooms                 0.926537        1.000000    0.875470   \n",
       "population                     0.857065        0.875470    1.000000   \n",
       "households                     0.918598        0.975399    0.906755   \n",
       "median_income                  0.198503       -0.008176    0.001507   \n",
       "median_house_value             0.132935        0.045016   -0.026510   \n",
       "ocean_proximity_<1H OCEAN     -0.003761        0.016430    0.070638   \n",
       "ocean_proximity_INLAND         0.026056       -0.005436   -0.021222   \n",
       "ocean_proximity_ISLAND        -0.003845        0.000106   -0.007110   \n",
       "ocean_proximity_NEAR BAY      -0.030272       -0.026993   -0.065972   \n",
       "ocean_proximity_NEAR OCEAN    -0.002043        0.008543   -0.013104   \n",
       "\n",
       "                            households  median_income  median_house_value  \\\n",
       "longitude                     0.055051      -0.015037           -0.045245   \n",
       "latitude                     -0.070745      -0.077902           -0.142022   \n",
       "housing_median_age           -0.299953      -0.122381            0.102921   \n",
       "total_rooms                   0.918598       0.198503            0.132935   \n",
       "total_bedrooms                0.975399      -0.008176            0.045016   \n",
       "population                    0.906755       0.001507           -0.026510   \n",
       "households                    1.000000       0.010733            0.062050   \n",
       "median_income                 0.010733       1.000000            0.691939   \n",
       "median_house_value            0.062050       0.691939            1.000000   \n",
       "ocean_proximity_<1H OCEAN     0.039076       0.169082            0.258422   \n",
       "ocean_proximity_INLAND       -0.037887      -0.234465           -0.482116   \n",
       "ocean_proximity_ISLAND       -0.005639      -0.008213            0.022703   \n",
       "ocean_proximity_NEAR BAY     -0.016623       0.052390            0.156818   \n",
       "ocean_proximity_NEAR OCEAN    0.010554       0.026184            0.138722   \n",
       "\n",
       "                            ocean_proximity_<1H OCEAN  ocean_proximity_INLAND  \\\n",
       "longitude                                    0.320463               -0.054817   \n",
       "latitude                                    -0.445941                0.349470   \n",
       "housing_median_age                           0.041136               -0.237656   \n",
       "total_rooms                                 -0.003761                0.026056   \n",
       "total_bedrooms                               0.016430               -0.005436   \n",
       "population                                   0.070638               -0.021222   \n",
       "households                                   0.039076               -0.037887   \n",
       "median_income                                0.169082               -0.234465   \n",
       "median_house_value                           0.258422               -0.482116   \n",
       "ocean_proximity_<1H OCEAN                    1.000000               -0.608532   \n",
       "ocean_proximity_INLAND                      -0.608532                1.000000   \n",
       "ocean_proximity_ISLAND                      -0.012872               -0.009819   \n",
       "ocean_proximity_NEAR BAY                    -0.315986               -0.241027   \n",
       "ocean_proximity_NEAR OCEAN                  -0.341866               -0.260768   \n",
       "\n",
       "                            ocean_proximity_ISLAND  ocean_proximity_NEAR BAY  \\\n",
       "longitude                                 0.008859                 -0.478376   \n",
       "latitude                                 -0.015373                  0.362652   \n",
       "housing_median_age                        0.017388                  0.265520   \n",
       "total_rooms                              -0.003845                 -0.030272   \n",
       "total_bedrooms                            0.000106                 -0.026993   \n",
       "population                               -0.007110                 -0.065972   \n",
       "households                               -0.005639                 -0.016623   \n",
       "median_income                            -0.008213                  0.052390   \n",
       "median_house_value                        0.022703                  0.156818   \n",
       "ocean_proximity_<1H OCEAN                -0.012872                 -0.315986   \n",
       "ocean_proximity_INLAND                   -0.009819                 -0.241027   \n",
       "ocean_proximity_ISLAND                    1.000000                 -0.005098   \n",
       "ocean_proximity_NEAR BAY                 -0.005098                  1.000000   \n",
       "ocean_proximity_NEAR OCEAN               -0.005516                 -0.135406   \n",
       "\n",
       "                            ocean_proximity_NEAR OCEAN  \n",
       "longitude                                     0.049655  \n",
       "latitude                                     -0.164337  \n",
       "housing_median_age                            0.019206  \n",
       "total_rooms                                  -0.002043  \n",
       "total_bedrooms                                0.008543  \n",
       "population                                   -0.013104  \n",
       "households                                    0.010554  \n",
       "median_income                                 0.026184  \n",
       "median_house_value                            0.138722  \n",
       "ocean_proximity_<1H OCEAN                    -0.341866  \n",
       "ocean_proximity_INLAND                       -0.260768  \n",
       "ocean_proximity_ISLAND                       -0.005516  \n",
       "ocean_proximity_NEAR BAY                     -0.135406  \n",
       "ocean_proximity_NEAR OCEAN                    1.000000  "
      ]
     },
     "execution_count": 15,
     "metadata": {},
     "output_type": "execute_result"
    }
   ],
   "source": [
    "training_set.corr()"
   ]
  },
  {
   "cell_type": "code",
   "execution_count": 16,
   "metadata": {
    "scrolled": true
   },
   "outputs": [
    {
     "data": {
      "image/png": "[encoded data removed]",
      "text/plain": [
       "<Figure size 1440x1440 with 2 Axes>"
      ]
     },
     "metadata": {
      "needs_background": "light"
     },
     "output_type": "display_data"
    }
   ],
   "source": [
    "import seaborn as sns\n",
    "corr=training_set.corr()\n",
    "plt.figure(figsize=(20, 20))\n",
    "sns.heatmap(corr, vmax=.8, linewidths=0.01,\n",
    "            square=True,annot=True,cmap='YlGnBu',linecolor=\"white\")\n",
    "plt.title('Correlation between features');"
   ]
  },
  {
   "cell_type": "code",
   "execution_count": 17,
   "metadata": {},
   "outputs": [
    {
     "data": {
      "text/html": [
       "<div>\n",
       "<style scoped>\n",
       "    .dataframe tbody tr th:only-of-type {\n",
       "        vertical-align: middle;\n",
       "    }\n",
       "\n",
       "    .dataframe tbody tr th {\n",
       "        vertical-align: top;\n",
       "    }\n",
       "\n",
       "    .dataframe thead th {\n",
       "        text-align: right;\n",
       "    }\n",
       "</style>\n",
       "<table border=\"1\" class=\"dataframe\">\n",
       "  <thead>\n",
       "    <tr style=\"text-align: right;\">\n",
       "      <th></th>\n",
       "      <th>longitude</th>\n",
       "      <th>latitude</th>\n",
       "      <th>housing_median_age</th>\n",
       "      <th>total_rooms</th>\n",
       "      <th>total_bedrooms</th>\n",
       "      <th>population</th>\n",
       "      <th>households</th>\n",
       "      <th>median_income</th>\n",
       "      <th>median_house_value</th>\n",
       "      <th>ocean_proximity_&lt;1H OCEAN</th>\n",
       "      <th>ocean_proximity_INLAND</th>\n",
       "      <th>ocean_proximity_ISLAND</th>\n",
       "      <th>ocean_proximity_NEAR BAY</th>\n",
       "      <th>ocean_proximity_NEAR OCEAN</th>\n",
       "    </tr>\n",
       "  </thead>\n",
       "  <tbody>\n",
       "    <tr>\n",
       "      <th>longitude</th>\n",
       "      <td>NaN</td>\n",
       "      <td>-0.925427</td>\n",
       "      <td>NaN</td>\n",
       "      <td>NaN</td>\n",
       "      <td>NaN</td>\n",
       "      <td>NaN</td>\n",
       "      <td>NaN</td>\n",
       "      <td>NaN</td>\n",
       "      <td>NaN</td>\n",
       "      <td>NaN</td>\n",
       "      <td>NaN</td>\n",
       "      <td>NaN</td>\n",
       "      <td>NaN</td>\n",
       "      <td>NaN</td>\n",
       "    </tr>\n",
       "    <tr>\n",
       "      <th>latitude</th>\n",
       "      <td>-0.925427</td>\n",
       "      <td>NaN</td>\n",
       "      <td>NaN</td>\n",
       "      <td>NaN</td>\n",
       "      <td>NaN</td>\n",
       "      <td>NaN</td>\n",
       "      <td>NaN</td>\n",
       "      <td>NaN</td>\n",
       "      <td>NaN</td>\n",
       "      <td>NaN</td>\n",
       "      <td>NaN</td>\n",
       "      <td>NaN</td>\n",
       "      <td>NaN</td>\n",
       "      <td>NaN</td>\n",
       "    </tr>\n",
       "    <tr>\n",
       "      <th>total_rooms</th>\n",
       "      <td>NaN</td>\n",
       "      <td>NaN</td>\n",
       "      <td>NaN</td>\n",
       "      <td>NaN</td>\n",
       "      <td>0.926537</td>\n",
       "      <td>0.857065</td>\n",
       "      <td>0.918598</td>\n",
       "      <td>NaN</td>\n",
       "      <td>NaN</td>\n",
       "      <td>NaN</td>\n",
       "      <td>NaN</td>\n",
       "      <td>NaN</td>\n",
       "      <td>NaN</td>\n",
       "      <td>NaN</td>\n",
       "    </tr>\n",
       "    <tr>\n",
       "      <th>total_bedrooms</th>\n",
       "      <td>NaN</td>\n",
       "      <td>NaN</td>\n",
       "      <td>NaN</td>\n",
       "      <td>0.926537</td>\n",
       "      <td>NaN</td>\n",
       "      <td>0.875470</td>\n",
       "      <td>0.975399</td>\n",
       "      <td>NaN</td>\n",
       "      <td>NaN</td>\n",
       "      <td>NaN</td>\n",
       "      <td>NaN</td>\n",
       "      <td>NaN</td>\n",
       "      <td>NaN</td>\n",
       "      <td>NaN</td>\n",
       "    </tr>\n",
       "    <tr>\n",
       "      <th>population</th>\n",
       "      <td>NaN</td>\n",
       "      <td>NaN</td>\n",
       "      <td>NaN</td>\n",
       "      <td>0.857065</td>\n",
       "      <td>0.875470</td>\n",
       "      <td>NaN</td>\n",
       "      <td>0.906755</td>\n",
       "      <td>NaN</td>\n",
       "      <td>NaN</td>\n",
       "      <td>NaN</td>\n",
       "      <td>NaN</td>\n",
       "      <td>NaN</td>\n",
       "      <td>NaN</td>\n",
       "      <td>NaN</td>\n",
       "    </tr>\n",
       "    <tr>\n",
       "      <th>households</th>\n",
       "      <td>NaN</td>\n",
       "      <td>NaN</td>\n",
       "      <td>NaN</td>\n",
       "      <td>0.918598</td>\n",
       "      <td>0.975399</td>\n",
       "      <td>0.906755</td>\n",
       "      <td>NaN</td>\n",
       "      <td>NaN</td>\n",
       "      <td>NaN</td>\n",
       "      <td>NaN</td>\n",
       "      <td>NaN</td>\n",
       "      <td>NaN</td>\n",
       "      <td>NaN</td>\n",
       "      <td>NaN</td>\n",
       "    </tr>\n",
       "  </tbody>\n",
       "</table>\n",
       "</div>"
      ],
      "text/plain": [
       "                longitude  latitude  housing_median_age  total_rooms  \\\n",
       "longitude             NaN -0.925427                 NaN          NaN   \n",
       "latitude        -0.925427       NaN                 NaN          NaN   \n",
       "total_rooms           NaN       NaN                 NaN          NaN   \n",
       "total_bedrooms        NaN       NaN                 NaN     0.926537   \n",
       "population            NaN       NaN                 NaN     0.857065   \n",
       "households            NaN       NaN                 NaN     0.918598   \n",
       "\n",
       "                total_bedrooms  population  households  median_income  \\\n",
       "longitude                  NaN         NaN         NaN            NaN   \n",
       "latitude                   NaN         NaN         NaN            NaN   \n",
       "total_rooms           0.926537    0.857065    0.918598            NaN   \n",
       "total_bedrooms             NaN    0.875470    0.975399            NaN   \n",
       "population            0.875470         NaN    0.906755            NaN   \n",
       "households            0.975399    0.906755         NaN            NaN   \n",
       "\n",
       "                median_house_value  ocean_proximity_<1H OCEAN  \\\n",
       "longitude                      NaN                        NaN   \n",
       "latitude                       NaN                        NaN   \n",
       "total_rooms                    NaN                        NaN   \n",
       "total_bedrooms                 NaN                        NaN   \n",
       "population                     NaN                        NaN   \n",
       "households                     NaN                        NaN   \n",
       "\n",
       "                ocean_proximity_INLAND  ocean_proximity_ISLAND  \\\n",
       "longitude                          NaN                     NaN   \n",
       "latitude                           NaN                     NaN   \n",
       "total_rooms                        NaN                     NaN   \n",
       "total_bedrooms                     NaN                     NaN   \n",
       "population                         NaN                     NaN   \n",
       "households                         NaN                     NaN   \n",
       "\n",
       "                ocean_proximity_NEAR BAY  ocean_proximity_NEAR OCEAN  \n",
       "longitude                            NaN                         NaN  \n",
       "latitude                             NaN                         NaN  \n",
       "total_rooms                          NaN                         NaN  \n",
       "total_bedrooms                       NaN                         NaN  \n",
       "population                           NaN                         NaN  \n",
       "households                           NaN                         NaN  "
      ]
     },
     "execution_count": 17,
     "metadata": {},
     "output_type": "execute_result"
    }
   ],
   "source": [
    "corr[((corr > 0.75) | (corr < -0.75)) & (corr != 1.0)].dropna(axis='index', how='all')"
   ]
  },
  {
   "cell_type": "code",
   "execution_count": 18,
   "metadata": {},
   "outputs": [
    {
     "data": {
      "text/plain": [
       "array([[0.67928287, 0.12166489, 0.09803922, ..., 0.        , 0.        ,\n",
       "        0.        ],\n",
       "       [0.87350598, 0.02454642, 0.07843137, ..., 1.        , 0.        ,\n",
       "        0.        ],\n",
       "       [0.687251  , 0.14727855, 0.37254902, ..., 1.        , 0.        ,\n",
       "        0.        ],\n",
       "       ...,\n",
       "       [0.57370518, 0.17075774, 0.54901961, ..., 0.        , 0.        ,\n",
       "        0.        ],\n",
       "       [0.19023904, 0.55923159, 1.        , ..., 0.        , 0.        ,\n",
       "        1.        ],\n",
       "       [0.59262948, 0.18036286, 0.66666667, ..., 0.        , 0.        ,\n",
       "        0.        ]])"
      ]
     },
     "execution_count": 18,
     "metadata": {},
     "output_type": "execute_result"
    }
   ],
   "source": [
    "X_train = training_set.drop(columns=['median_house_value', 'ocean_proximity_NEAR OCEAN']).values\n",
    "X_train"
   ]
  },
  {
   "cell_type": "code",
   "execution_count": 19,
   "metadata": {},
   "outputs": [
    {
     "data": {
      "text/plain": [
       "array([[0.30268595, 0.65462274, 0.29411765, ..., 1.        , 0.        ,\n",
       "        0.        ],\n",
       "       [0.18698347, 0.55685441, 1.        , ..., 0.        , 0.        ,\n",
       "        1.        ],\n",
       "       [0.24793388, 0.54622742, 0.05882353, ..., 1.        , 0.        ,\n",
       "        0.        ],\n",
       "       ...,\n",
       "       [0.19008264, 0.53772582, 0.49019608, ..., 0.        , 0.        ,\n",
       "        0.        ],\n",
       "       [0.7231405 , 0.16790648, 0.31372549, ..., 1.        , 0.        ,\n",
       "        0.        ],\n",
       "       [0.18595041, 0.54835282, 0.88235294, ..., 0.        , 0.        ,\n",
       "        0.        ]])"
      ]
     },
     "execution_count": 19,
     "metadata": {},
     "output_type": "execute_result"
    }
   ],
   "source": [
    "X_test=test_set.drop(columns=['median_house_value', 'ocean_proximity_NEAR OCEAN']).values\n",
    "X_test"
   ]
  },
  {
   "cell_type": "code",
   "execution_count": 20,
   "metadata": {},
   "outputs": [
    {
     "data": {
      "text/plain": [
       "((6193, 12), (14447, 12))"
      ]
     },
     "execution_count": 20,
     "metadata": {},
     "output_type": "execute_result"
    }
   ],
   "source": [
    "X_test.shape, X_train.shape"
   ]
  },
  {
   "cell_type": "code",
   "execution_count": 21,
   "metadata": {},
   "outputs": [
    {
     "data": {
      "text/plain": [
       "array([0.96556509, 0.19608373, 0.20391875, ..., 0.73133925, 0.99999794,\n",
       "       0.33917592])"
      ]
     },
     "execution_count": 21,
     "metadata": {},
     "output_type": "execute_result"
    }
   ],
   "source": [
    "y_train= training_set['median_house_value'].values\n",
    "y_train"
   ]
  },
  {
   "cell_type": "code",
   "execution_count": 22,
   "metadata": {},
   "outputs": [
    {
     "data": {
      "text/plain": [
       "array([0.2288671 , 0.67360753, 0.55154618, ..., 0.9317508 , 0.11876446,\n",
       "       0.44350539])"
      ]
     },
     "execution_count": 22,
     "metadata": {},
     "output_type": "execute_result"
    }
   ],
   "source": [
    "y_test= test_set['median_house_value'].values\n",
    "y_test"
   ]
  },
  {
   "cell_type": "code",
   "execution_count": 23,
   "metadata": {},
   "outputs": [
    {
     "data": {
      "text/plain": [
       "array([[0.67928287, 0.87350598, 0.687251  , ..., 0.57370518, 0.19023904,\n",
       "        0.59262948],\n",
       "       [0.12166489, 0.02454642, 0.14727855, ..., 0.17075774, 0.55923159,\n",
       "        0.18036286],\n",
       "       [0.09803922, 0.07843137, 0.37254902, ..., 0.54901961, 1.        ,\n",
       "        0.66666667],\n",
       "       ...,\n",
       "       [0.        , 1.        , 1.        , ..., 0.        , 0.        ,\n",
       "        0.        ],\n",
       "       [0.        , 0.        , 0.        , ..., 0.        , 0.        ,\n",
       "        0.        ],\n",
       "       [0.        , 0.        , 0.        , ..., 0.        , 1.        ,\n",
       "        0.        ]])"
      ]
     },
     "execution_count": 23,
     "metadata": {},
     "output_type": "execute_result"
    }
   ],
   "source": [
    "X_train_t = X_train.T\n",
    "X_train_t"
   ]
  },
  {
   "cell_type": "code",
   "execution_count": 24,
   "metadata": {},
   "outputs": [
    {
     "data": {
      "text/plain": [
       "array([[3.87124204e+03, 1.65090405e+03, 3.64365645e+03, 4.70246639e+02,\n",
       "        5.88306884e+02, 2.84659056e+02, 5.76173044e+02, 1.60365972e+03,\n",
       "        3.52124900e+03, 2.11460857e+03, 1.80079681e+00, 3.34626494e+02],\n",
       "       [1.65090405e+03, 2.29351321e+03, 2.56310649e+03, 3.10293010e+02,\n",
       "        3.79649721e+02, 1.77258944e+02, 3.72959441e+02, 1.06805423e+03,\n",
       "        1.36834578e+03, 2.03254109e+03, 2.52934899e-01, 9.00461046e+02],\n",
       "       [3.64365645e+03, 2.56310649e+03, 5.08201346e+03, 4.51940001e+02,\n",
       "        5.76755570e+02, 2.78007410e+02, 5.72338786e+02, 1.76052253e+03,\n",
       "        3.53211765e+03, 2.07815686e+03, 2.50980392e+00, 1.16403922e+03],\n",
       "       [4.70246639e+02, 3.10293010e+02, 4.51940001e+02, 1.10144314e+02,\n",
       "        1.29421384e+02, 6.11131728e+01, 1.26215560e+02, 2.47085633e+02,\n",
       "        4.28605321e+02, 3.17060507e+02, 1.56544077e-01, 1.00129254e+02],\n",
       "       [5.88306884e+02, 3.79649721e+02, 5.76755570e+02, 1.29421384e+02,\n",
       "        1.61434745e+02, 7.47159437e+01, 1.56479145e+02, 2.79838227e+02,\n",
       "        5.42152426e+02, 3.79461877e+02, 2.51551831e-01, 1.26007776e+02],\n",
       "       [2.84659056e+02, 1.77258944e+02, 2.78007410e+02, 6.11131728e+01,\n",
       "        7.47159437e+01, 3.81906764e+01, 7.40418555e+01, 1.34574145e+02,\n",
       "        2.72362026e+02, 1.78216414e+02, 7.18109707e-02, 5.44435911e+01],\n",
       "       [5.76173044e+02, 3.72959441e+02, 5.72338786e+02, 1.26215560e+02,\n",
       "        1.56479145e+02, 7.40418555e+01, 1.54517123e+02, 2.77629342e+02,\n",
       "        5.43580990e+02, 3.59674560e+02, 1.72175629e-01, 1.27072850e+02],\n",
       "       [1.60365972e+03, 1.06805423e+03, 1.76052253e+03, 2.47085633e+02,\n",
       "        2.79838227e+02, 1.34574145e+02, 2.77629342e+02, 1.03547517e+03,\n",
       "        1.65452580e+03, 8.60605723e+02, 4.74621040e-01, 4.06016600e+02],\n",
       "       [3.52124900e+03, 1.36834578e+03, 3.53211765e+03, 4.28605321e+02,\n",
       "        5.42152426e+02, 2.72362026e+02, 5.43580990e+02, 1.65452580e+03,\n",
       "        6.41100000e+03, 0.00000000e+00, 0.00000000e+00, 0.00000000e+00],\n",
       "       [2.11460857e+03, 2.03254109e+03, 2.07815686e+03, 3.17060507e+02,\n",
       "        3.79461877e+02, 1.78216414e+02, 3.59674560e+02, 8.60605723e+02,\n",
       "        0.00000000e+00, 4.58000000e+03, 0.00000000e+00, 0.00000000e+00],\n",
       "       [1.80079681e+00, 2.52934899e-01, 2.50980392e+00, 1.56544077e-01,\n",
       "        2.51551831e-01, 7.18109707e-02, 1.72175629e-01, 4.74621040e-01,\n",
       "        0.00000000e+00, 0.00000000e+00, 3.00000000e+00, 0.00000000e+00],\n",
       "       [3.34626494e+02, 9.00461046e+02, 1.16403922e+03, 1.00129254e+02,\n",
       "        1.26007776e+02, 5.44435911e+01, 1.27072850e+02, 4.06016600e+02,\n",
       "        0.00000000e+00, 0.00000000e+00, 0.00000000e+00, 1.60700000e+03]])"
      ]
     },
     "execution_count": 24,
     "metadata": {},
     "output_type": "execute_result"
    }
   ],
   "source": [
    "Xxt = X_train_t@X_train\n",
    "Xxt"
   ]
  },
  {
   "cell_type": "code",
   "execution_count": 25,
   "metadata": {},
   "outputs": [
    {
     "data": {
      "text/plain": [
       "((12, 12), (14447, 12), (12, 14447))"
      ]
     },
     "execution_count": 25,
     "metadata": {},
     "output_type": "execute_result"
    }
   ],
   "source": [
    "Xxt.shape, X_train.shape, X_train_t.shape"
   ]
  },
  {
   "cell_type": "code",
   "execution_count": 26,
   "metadata": {},
   "outputs": [
    {
     "name": "stdout",
     "output_type": "stream",
     "text": [
      "[[1. 0. 0. 0. 0. 0. 0. 0. 0. 0. 0. 0.]\n",
      " [0. 1. 0. 0. 0. 0. 0. 0. 0. 0. 0. 0.]\n",
      " [0. 0. 1. 0. 0. 0. 0. 0. 0. 0. 0. 0.]\n",
      " [0. 0. 0. 1. 0. 0. 0. 0. 0. 0. 0. 0.]\n",
      " [0. 0. 0. 0. 1. 0. 0. 0. 0. 0. 0. 0.]\n",
      " [0. 0. 0. 0. 0. 1. 0. 0. 0. 0. 0. 0.]\n",
      " [0. 0. 0. 0. 0. 0. 1. 0. 0. 0. 0. 0.]\n",
      " [0. 0. 0. 0. 0. 0. 0. 1. 0. 0. 0. 0.]\n",
      " [0. 0. 0. 0. 0. 0. 0. 0. 1. 0. 0. 0.]\n",
      " [0. 0. 0. 0. 0. 0. 0. 0. 0. 1. 0. 0.]\n",
      " [0. 0. 0. 0. 0. 0. 0. 0. 0. 0. 1. 0.]\n",
      " [0. 0. 0. 0. 0. 0. 0. 0. 0. 0. 0. 1.]]\n"
     ]
    }
   ],
   "source": [
    "I = np.identity(12, dtype = float) \n",
    "print(I)"
   ]
  },
  {
   "cell_type": "code",
   "execution_count": 27,
   "metadata": {},
   "outputs": [
    {
     "data": {
      "text/plain": [
       "((12, 12), (12, 12))"
      ]
     },
     "execution_count": 27,
     "metadata": {},
     "output_type": "execute_result"
    }
   ],
   "source": [
    "Xxt.shape, I.shape"
   ]
  },
  {
   "cell_type": "code",
   "execution_count": 28,
   "metadata": {},
   "outputs": [],
   "source": [
    "alpha = 0.01"
   ]
  },
  {
   "cell_type": "code",
   "execution_count": 29,
   "metadata": {},
   "outputs": [
    {
     "data": {
      "text/plain": [
       "array([[3.87125204e+03, 1.65090405e+03, 3.64365645e+03, 4.70246639e+02,\n",
       "        5.88306884e+02, 2.84659056e+02, 5.76173044e+02, 1.60365972e+03,\n",
       "        3.52124900e+03, 2.11460857e+03, 1.80079681e+00, 3.34626494e+02],\n",
       "       [1.65090405e+03, 2.29352321e+03, 2.56310649e+03, 3.10293010e+02,\n",
       "        3.79649721e+02, 1.77258944e+02, 3.72959441e+02, 1.06805423e+03,\n",
       "        1.36834578e+03, 2.03254109e+03, 2.52934899e-01, 9.00461046e+02],\n",
       "       [3.64365645e+03, 2.56310649e+03, 5.08202346e+03, 4.51940001e+02,\n",
       "        5.76755570e+02, 2.78007410e+02, 5.72338786e+02, 1.76052253e+03,\n",
       "        3.53211765e+03, 2.07815686e+03, 2.50980392e+00, 1.16403922e+03],\n",
       "       [4.70246639e+02, 3.10293010e+02, 4.51940001e+02, 1.10154314e+02,\n",
       "        1.29421384e+02, 6.11131728e+01, 1.26215560e+02, 2.47085633e+02,\n",
       "        4.28605321e+02, 3.17060507e+02, 1.56544077e-01, 1.00129254e+02],\n",
       "       [5.88306884e+02, 3.79649721e+02, 5.76755570e+02, 1.29421384e+02,\n",
       "        1.61444745e+02, 7.47159437e+01, 1.56479145e+02, 2.79838227e+02,\n",
       "        5.42152426e+02, 3.79461877e+02, 2.51551831e-01, 1.26007776e+02],\n",
       "       [2.84659056e+02, 1.77258944e+02, 2.78007410e+02, 6.11131728e+01,\n",
       "        7.47159437e+01, 3.82006764e+01, 7.40418555e+01, 1.34574145e+02,\n",
       "        2.72362026e+02, 1.78216414e+02, 7.18109707e-02, 5.44435911e+01],\n",
       "       [5.76173044e+02, 3.72959441e+02, 5.72338786e+02, 1.26215560e+02,\n",
       "        1.56479145e+02, 7.40418555e+01, 1.54527123e+02, 2.77629342e+02,\n",
       "        5.43580990e+02, 3.59674560e+02, 1.72175629e-01, 1.27072850e+02],\n",
       "       [1.60365972e+03, 1.06805423e+03, 1.76052253e+03, 2.47085633e+02,\n",
       "        2.79838227e+02, 1.34574145e+02, 2.77629342e+02, 1.03548517e+03,\n",
       "        1.65452580e+03, 8.60605723e+02, 4.74621040e-01, 4.06016600e+02],\n",
       "       [3.52124900e+03, 1.36834578e+03, 3.53211765e+03, 4.28605321e+02,\n",
       "        5.42152426e+02, 2.72362026e+02, 5.43580990e+02, 1.65452580e+03,\n",
       "        6.41101000e+03, 0.00000000e+00, 0.00000000e+00, 0.00000000e+00],\n",
       "       [2.11460857e+03, 2.03254109e+03, 2.07815686e+03, 3.17060507e+02,\n",
       "        3.79461877e+02, 1.78216414e+02, 3.59674560e+02, 8.60605723e+02,\n",
       "        0.00000000e+00, 4.58001000e+03, 0.00000000e+00, 0.00000000e+00],\n",
       "       [1.80079681e+00, 2.52934899e-01, 2.50980392e+00, 1.56544077e-01,\n",
       "        2.51551831e-01, 7.18109707e-02, 1.72175629e-01, 4.74621040e-01,\n",
       "        0.00000000e+00, 0.00000000e+00, 3.01000000e+00, 0.00000000e+00],\n",
       "       [3.34626494e+02, 9.00461046e+02, 1.16403922e+03, 1.00129254e+02,\n",
       "        1.26007776e+02, 5.44435911e+01, 1.27072850e+02, 4.06016600e+02,\n",
       "        0.00000000e+00, 0.00000000e+00, 0.00000000e+00, 1.60701000e+03]])"
      ]
     },
     "execution_count": 29,
     "metadata": {},
     "output_type": "execute_result"
    }
   ],
   "source": [
    "#J = x_t*x + alpha*I\n",
    "J = Xxt + I*alpha\n",
    "J"
   ]
  },
  {
   "cell_type": "code",
   "execution_count": 30,
   "metadata": {},
   "outputs": [
    {
     "data": {
      "text/plain": [
       "(12, 12)"
      ]
     },
     "execution_count": 30,
     "metadata": {},
     "output_type": "execute_result"
    }
   ],
   "source": [
    "J.shape"
   ]
  },
  {
   "cell_type": "code",
   "execution_count": 31,
   "metadata": {},
   "outputs": [
    {
     "data": {
      "text/plain": [
       "array([[ 3.28795588e-03,  2.23794485e-03, -1.24631501e-03,\n",
       "         6.69059198e-03, -8.59191362e-03, -3.18893853e-03,\n",
       "         1.38252492e-03, -2.20317282e-03, -7.30793003e-04,\n",
       "        -1.26753216e-03, -4.01466312e-04, -2.23691940e-04],\n",
       "       [ 2.23794485e-03,  3.41017037e-03, -1.11690272e-03,\n",
       "         4.75220153e-03, -5.33274567e-03, -4.26163945e-04,\n",
       "        -9.65865434e-04, -1.91235725e-03, -6.14901238e-04,\n",
       "        -1.47524115e-03, -1.28687225e-04, -8.71782790e-04],\n",
       "       [-1.24631501e-03, -1.11690272e-03,  1.38442903e-03,\n",
       "         2.03090964e-03,  1.36060131e-03, -2.54935176e-04,\n",
       "        -1.41606020e-03,  1.70831547e-04, -3.84505414e-06,\n",
       "         2.78618755e-04, -4.74063886e-04, -2.73234222e-04],\n",
       "       [ 6.69059198e-03,  4.75220153e-03,  2.03090964e-03,\n",
       "         2.63250393e-01, -1.56201434e-01, -8.15311828e-02,\n",
       "        -1.64230351e-02, -2.35042709e-02,  7.23884464e-04,\n",
       "        -2.52321229e-03, -1.41864111e-04,  3.17574996e-04],\n",
       "       [-8.59191362e-03, -5.33274567e-03,  1.36060131e-03,\n",
       "        -1.56201434e-01,  4.46980690e-01,  8.75525765e-02,\n",
       "        -3.61657202e-01,  1.71928995e-02,  2.59006095e-04,\n",
       "         1.26036214e-03, -8.89000244e-03, -2.36438729e-04],\n",
       "       [-3.18893853e-03, -4.26163945e-04, -2.54935176e-04,\n",
       "        -8.15311828e-02,  8.75525765e-02,  4.08098882e-01,\n",
       "        -2.12189687e-01,  8.09968547e-03, -1.40679748e-03,\n",
       "        -5.70855066e-04,  2.03690007e-04,  2.08788785e-04],\n",
       "       [ 1.38252492e-03, -9.65865434e-04, -1.41606020e-03,\n",
       "        -1.64230351e-02, -3.61657202e-01, -2.12189687e-01,\n",
       "         4.91247858e-01, -2.02071060e-03, -2.07427915e-04,\n",
       "         1.59170753e-03,  8.79430510e-03, -4.85351292e-04],\n",
       "       [-2.20317282e-03, -1.91235725e-03,  1.70831547e-04,\n",
       "        -2.35042709e-02,  1.71928995e-02,  8.09968547e-03,\n",
       "        -2.02071060e-03,  6.27943840e-03, -1.51761948e-04,\n",
       "         6.54624084e-04,  5.41133166e-05, -1.78181892e-04],\n",
       "       [-7.30793003e-04, -6.14901238e-04, -3.84505414e-06,\n",
       "         7.23884464e-04,  2.59006095e-04, -1.40679748e-03,\n",
       "        -2.07427915e-04, -1.51761948e-04,  7.36952127e-04,\n",
       "         6.40014723e-04,  5.02154046e-04,  5.36500548e-04],\n",
       "       [-1.26753216e-03, -1.47524115e-03,  2.78618755e-04,\n",
       "        -2.52321229e-03,  1.26036214e-03, -5.70855066e-04,\n",
       "         1.59170753e-03,  6.54624084e-04,  6.40014723e-04,\n",
       "         1.17629143e-03,  4.95222250e-04,  6.75219286e-04],\n",
       "       [-4.01466312e-04, -1.28687225e-04, -4.74063886e-04,\n",
       "        -1.41864111e-04, -8.89000244e-03,  2.03690007e-04,\n",
       "         8.79430510e-03,  5.41133166e-05,  5.02154046e-04,\n",
       "         4.95222250e-04,  3.33106095e-01,  4.89035106e-04],\n",
       "       [-2.23691940e-04, -8.71782790e-04, -2.73234222e-04,\n",
       "         3.17574996e-04, -2.36438729e-04,  2.08788785e-04,\n",
       "        -4.85351292e-04, -1.78181892e-04,  5.36500548e-04,\n",
       "         6.75219286e-04,  4.89035106e-04,  1.43033471e-03]])"
      ]
     },
     "execution_count": 31,
     "metadata": {},
     "output_type": "execute_result"
    }
   ],
   "source": [
    "from numpy import linalg as LA\n",
    "J_inv = LA.inv(J)\n",
    "J_inv"
   ]
  },
  {
   "cell_type": "code",
   "execution_count": 32,
   "metadata": {},
   "outputs": [
    {
     "data": {
      "text/plain": [
       "array([ 0.06145482,  0.06706834,  0.15270436, -0.65327593,  0.79860731,\n",
       "       -2.62056803,  1.33767788,  1.25119743, -0.01693146, -0.15921774,\n",
       "        0.35321183, -0.01533444])"
      ]
     },
     "execution_count": 32,
     "metadata": {},
     "output_type": "execute_result"
    }
   ],
   "source": [
    "Bhat_ridge = (J_inv@X_train_t)@y_train\n",
    "Bhat_ridge"
   ]
  },
  {
   "cell_type": "code",
   "execution_count": 33,
   "metadata": {},
   "outputs": [
    {
     "data": {
      "text/plain": [
       "array([-0.02166865,  0.33785483,  0.24064977, ...,  0.48954215,\n",
       "       -0.19007271,  0.25174333])"
      ]
     },
     "execution_count": 33,
     "metadata": {},
     "output_type": "execute_result"
    }
   ],
   "source": [
    "y_pred_ridge = X_test@Bhat_ridge\n",
    "y_pred_ridge"
   ]
  },
  {
   "cell_type": "code",
   "execution_count": 34,
   "metadata": {},
   "outputs": [
    {
     "data": {
      "text/plain": [
       "(6193,)"
      ]
     },
     "execution_count": 34,
     "metadata": {},
     "output_type": "execute_result"
    }
   ],
   "source": [
    "y_pred_ridge.shape"
   ]
  },
  {
   "cell_type": "code",
   "execution_count": 35,
   "metadata": {},
   "outputs": [],
   "source": [
    "alpha_vals=[0.01,0.5,2,5,40,100,200,250,300]"
   ]
  },
  {
   "cell_type": "code",
   "execution_count": 98,
   "metadata": {},
   "outputs": [],
   "source": [
    "def ridge_train(alpha_vals): \n",
    "    y_pred_ridge_train = X_train @ (((LA.inv((X_train_t@X_train)+alpha_vals*I))@X_train_t)@y_train)\n",
    "    return y_pred_ridge_train"
   ]
  },
  {
   "cell_type": "code",
   "execution_count": 99,
   "metadata": {},
   "outputs": [],
   "source": [
    "def mse_train(alpha_vals):\n",
    "    mse_train=np.square((ridge_train(alpha_vals))-(y_train)).mean()\n",
    "    return mse_train"
   ]
  },
  {
   "cell_type": "code",
   "execution_count": 100,
   "metadata": {},
   "outputs": [
    {
     "data": {
      "text/latex": [
       "$\\displaystyle \\left( 0.0207657547360625, \\  0.020814646717502043, \\  0.021098715567952196, \\  0.02153162734122549, \\  0.022772741336936048, \\  0.024257249271938966, \\  0.02688157723928303, \\  0.028111393998831648, \\  0.029258688828803055\\right)$"
      ],
      "text/plain": [
       "(0.0207657547360625, 0.020814646717502043, 0.021098715567952196, 0.02153162734\n",
       "122549, 0.022772741336936048, 0.024257249271938966, 0.02688157723928303, 0.028\n",
       "111393998831648, 0.029258688828803055)"
      ]
     },
     "execution_count": 100,
     "metadata": {},
     "output_type": "execute_result"
    }
   ],
   "source": [
    "mse1t=mse_train(0.01)\n",
    "mse2t=mse_train(0.5)\n",
    "mse3t=mse_train(2)\n",
    "mse4t=mse_train(5)\n",
    "mse5t=mse_train(40)\n",
    "mse6t=mse_train(100) \n",
    "mse7t=mse_train(200)\n",
    "mse8t=mse_train(250)\n",
    "mse9t=mse_train(300)\n",
    "mse1t, mse2t, mse3t, mse4t, mse5t, mse6t, mse7t, mse8t, mse9t"
   ]
  },
  {
   "cell_type": "code",
   "execution_count": 101,
   "metadata": {},
   "outputs": [
    {
     "data": {
      "text/latex": [
       "$\\displaystyle 0.0207657547360625$"
      ],
      "text/plain": [
       "0.0207657547360625"
      ]
     },
     "execution_count": 101,
     "metadata": {},
     "output_type": "execute_result"
    }
   ],
   "source": [
    "min(mse1t, mse2t, mse3t, mse4t, mse5t, mse6t, mse7t, mse8t, mse9t) #alpha = 0.01"
   ]
  },
  {
   "cell_type": "code",
   "execution_count": 36,
   "metadata": {},
   "outputs": [],
   "source": [
    "def ridge(alpha_vals): \n",
    "    y_pred_r = X_test @ (((LA.inv((X_train_t@X_train) + alpha_vals*I)) @ X_train_t) @ y_train)\n",
    "    return y_pred_r"
   ]
  },
  {
   "cell_type": "code",
   "execution_count": 37,
   "metadata": {},
   "outputs": [
    {
     "data": {
      "text/plain": [
       "(array([-0.02166865,  0.33785483,  0.24064977, ...,  0.48954215,\n",
       "        -0.19007271,  0.25174333]),\n",
       " array([ 0.01749247,  0.36053769,  0.27924969, ...,  0.51704728,\n",
       "        -0.13659738,  0.30020916]),\n",
       " array([ 0.08269887,  0.39532221,  0.3426625 , ...,  0.56135183,\n",
       "        -0.05240744,  0.37640654]),\n",
       " array([0.13605017, 0.42227872, 0.39229057, ..., 0.5951144 , 0.01431366,\n",
       "        0.43526305]),\n",
       " array([0.20697895, 0.46064714, 0.42566807, ..., 0.60607475, 0.11117537,\n",
       "        0.4925673 ]),\n",
       " array([0.21754125, 0.47275748, 0.39183092, ..., 0.56177354, 0.13951839,\n",
       "        0.47589894]),\n",
       " array([0.22120874, 0.48184186, 0.34912782, ..., 0.50429424, 0.16181933,\n",
       "        0.44804936]),\n",
       " array([0.22173913, 0.4839371 , 0.33344321, ..., 0.48238852, 0.16891088,\n",
       "        0.4369917 ]),\n",
       " array([0.22196534, 0.48499687, 0.32033805, ..., 0.46375342, 0.17452072,\n",
       "        0.42746398]))"
      ]
     },
     "execution_count": 37,
     "metadata": {},
     "output_type": "execute_result"
    }
   ],
   "source": [
    "y_pred_ridge_1=ridge(0.01)\n",
    "y_pred_ridge_2=ridge(0.5)\n",
    "y_pred_ridge_3=ridge(2)\n",
    "y_pred_ridge_4=ridge(5)\n",
    "y_pred_ridge_5=ridge(40)\n",
    "y_pred_ridge_6=ridge(100)\n",
    "y_pred_ridge_7=ridge(200)\n",
    "y_pred_ridge_8=ridge(250)\n",
    "y_pred_ridge_9=ridge(300)\n",
    "y_pred_ridge_1, y_pred_ridge_2, y_pred_ridge_3, y_pred_ridge_4, y_pred_ridge_5, y_pred_ridge_6, y_pred_ridge_7, y_pred_ridge_8, y_pred_ridge_9"
   ]
  },
  {
   "cell_type": "code",
   "execution_count": 38,
   "metadata": {},
   "outputs": [
    {
     "data": {
      "image/png": "[encoded data removed]",
      "text/plain": [
       "<Figure size 432x288 with 1 Axes>"
      ]
     },
     "metadata": {
      "needs_background": "light"
     },
     "output_type": "display_data"
    }
   ],
   "source": [
    "plt.scatter(y_pred_ridge_1, y_test,  color='red')\n",
    "plt.scatter(y_pred_ridge_7, y_test,  color='black')\n",
    "plt.show()"
   ]
  },
  {
   "cell_type": "code",
   "execution_count": 39,
   "metadata": {},
   "outputs": [],
   "source": [
    "def mse(alpha_vals):\n",
    "    mse=np.square((ridge(alpha_vals))-(y_test)).mean()\n",
    "    return mse"
   ]
  },
  {
   "cell_type": "code",
   "execution_count": 40,
   "metadata": {
    "scrolled": true
   },
   "outputs": [
    {
     "data": {
      "text/plain": [
       "(0.07161059394916328,\n",
       " 0.05479514356213789,\n",
       " 0.035199285061326906,\n",
       " 0.0261799313373646,\n",
       " 0.023511811444529046,\n",
       " 0.025047242989288628,\n",
       " 0.027617881260518205,\n",
       " 0.02881146418182209,\n",
       " 0.02992410356824179)"
      ]
     },
     "execution_count": 40,
     "metadata": {},
     "output_type": "execute_result"
    }
   ],
   "source": [
    "mse1=mse(0.01)\n",
    "mse2=mse(0.5)\n",
    "mse3=mse(2)\n",
    "mse4=mse(5)\n",
    "mse5=mse(40)\n",
    "mse6=mse(100) \n",
    "mse7=mse(200)\n",
    "mse8=mse(250)\n",
    "mse9=mse(300)\n",
    "mse1, mse2, mse3, mse4, mse5, mse6, mse7, mse8, mse9"
   ]
  },
  {
   "cell_type": "code",
   "execution_count": 41,
   "metadata": {},
   "outputs": [
    {
     "data": {
      "text/plain": [
       "0.023511811444529046"
      ]
     },
     "execution_count": 41,
     "metadata": {},
     "output_type": "execute_result"
    }
   ],
   "source": [
    "min(mse1, mse2, mse3, mse4, mse5, mse6, mse7, mse8, mse9) #alpha = 40"
   ]
  },
  {
   "cell_type": "code",
   "execution_count": 42,
   "metadata": {},
   "outputs": [],
   "source": [
    "def rsq(alpha_vals):\n",
    "    ess = np.sum(((ridge(alpha_vals)) - ((ridge(alpha_vals)).mean()))**2)\n",
    "    rss = np.sum((y_test - (ridge(alpha_vals)))**2)\n",
    "    tss = rss + ess\n",
    "    rsq = ess/tss\n",
    "    return rsq"
   ]
  },
  {
   "cell_type": "code",
   "execution_count": 43,
   "metadata": {},
   "outputs": [
    {
     "data": {
      "text/plain": [
       "(0.4352137489818596,\n",
       " 0.46737103869554303,\n",
       " 0.5296763466829998,\n",
       " 0.5746065484442783,\n",
       " 0.5540220930299979,\n",
       " 0.49016574312056266,\n",
       " 0.41280022973594116,\n",
       " 0.3841574122554508,\n",
       " 0.36037070097087)"
      ]
     },
     "execution_count": 43,
     "metadata": {},
     "output_type": "execute_result"
    }
   ],
   "source": [
    "rsq1=rsq(0.01)\n",
    "rsq2=rsq(0.5)\n",
    "rsq3=rsq(2)\n",
    "rsq4=rsq(5)\n",
    "rsq5=rsq(40)\n",
    "rsq6=rsq(100)\n",
    "rsq7=rsq(200)\n",
    "rsq8=rsq(250)\n",
    "rsq9=rsq(300)\n",
    "rsq1, rsq2, rsq3, rsq4, rsq5, rsq6, rsq7, rsq8, rsq9"
   ]
  },
  {
   "cell_type": "code",
   "execution_count": 44,
   "metadata": {},
   "outputs": [
    {
     "data": {
      "text/plain": [
       "0.5746065484442783"
      ]
     },
     "execution_count": 44,
     "metadata": {},
     "output_type": "execute_result"
    }
   ],
   "source": [
    "max(rsq1, rsq2, rsq3, rsq4, rsq5, rsq6, rsq7, rsq8, rsq9) #alpha = 5"
   ]
  },
  {
   "cell_type": "code",
   "execution_count": 45,
   "metadata": {},
   "outputs": [
    {
     "data": {
      "image/png": "[encoded data removed]",
      "text/plain": [
       "<Figure size 432x288 with 1 Axes>"
      ]
     },
     "metadata": {
      "needs_background": "light"
     },
     "output_type": "display_data"
    }
   ],
   "source": [
    "sns.lineplot(x=alpha_vals,y=[mse1,mse2,mse3,mse4,mse5,mse6,mse7,mse8,mse9] )\n",
    "plt.show()"
   ]
  },
  {
   "cell_type": "code",
   "execution_count": 46,
   "metadata": {},
   "outputs": [
    {
     "data": {
      "image/png": "[encoded data removed]",
      "text/plain": [
       "<Figure size 432x288 with 1 Axes>"
      ]
     },
     "metadata": {
      "needs_background": "light"
     },
     "output_type": "display_data"
    }
   ],
   "source": [
    "sns.lineplot(x=alpha_vals,y=[rsq1,rsq2,rsq3,rsq4,rsq5,rsq6,rsq7,rsq8,rsq9] )\n",
    "plt.show()"
   ]
  },
  {
   "cell_type": "code",
   "execution_count": 102,
   "metadata": {},
   "outputs": [
    {
     "data": {
      "image/png": "[encoded data removed]",
      "text/plain": [
       "<Figure size 432x288 with 1 Axes>"
      ]
     },
     "metadata": {
      "needs_background": "light"
     },
     "output_type": "display_data"
    }
   ],
   "source": [
    "sns.lineplot(x=alpha_vals[0:9], y=[mse1, mse2, mse3, mse4, mse5, mse6, mse7, mse8, mse9], color='black')\n",
    "sns.lineplot(x=alpha_vals[0:9], y=[mse1t, mse2t, mse3t, mse4t, mse5t, mse6t, mse7t, mse8t, mse9t], color='red')\n",
    "plt.xlabel=(\"alpha values\")\n",
    "plt.ylabel=(\"MSE training/test\")\n",
    "plt.show()"
   ]
  },
  {
   "cell_type": "code",
   "execution_count": 56,
   "metadata": {},
   "outputs": [],
   "source": [
    "from pandas import Series, DataFrame\n",
    "from sympy import init_printing, Matrix, symbols, Rational\n",
    "import sympy as sym\n",
    "from warnings import filterwarnings\n",
    "init_printing(use_latex = 'mathjax')\n",
    "filterwarnings('ignore')"
   ]
  },
  {
   "cell_type": "code",
   "execution_count": 57,
   "metadata": {},
   "outputs": [
    {
     "data": {
      "text/latex": [
       "$\\displaystyle \\left( \\left( 12, \\  12\\right), \\  \\left( 12\\right), \\  \\left( 12, \\  14447\\right)\\right)$"
      ],
      "text/plain": [
       "((12, 12), (12,), (12, 14447))"
      ]
     },
     "execution_count": 57,
     "metadata": {},
     "output_type": "execute_result"
    }
   ],
   "source": [
    "U, s, Vt = LA.svd(X_train_t, full_matrices=False)\n",
    "U.shape, s.shape, Vt.shape"
   ]
  },
  {
   "cell_type": "code",
   "execution_count": 58,
   "metadata": {},
   "outputs": [
    {
     "data": {
      "text/latex": [
       "$\\displaystyle \\left[\\begin{array}{cccccccccccc}123.41 & 0.0 & 0.0 & 0.0 & 0.0 & 0.0 & 0.0 & 0.0 & 0.0 & 0.0 & 0.0 & 0.0\\\\0.0 & 74.15 & 0.0 & 0.0 & 0.0 & 0.0 & 0.0 & 0.0 & 0.0 & 0.0 & 0.0 & 0.0\\\\0.0 & 0.0 & 49.81 & 0.0 & 0.0 & 0.0 & 0.0 & 0.0 & 0.0 & 0.0 & 0.0 & 0.0\\\\0.0 & 0.0 & 0.0 & 30.38 & 0.0 & 0.0 & 0.0 & 0.0 & 0.0 & 0.0 & 0.0 & 0.0\\\\0.0 & 0.0 & 0.0 & 0.0 & 24.59 & 0.0 & 0.0 & 0.0 & 0.0 & 0.0 & 0.0 & 0.0\\\\0.0 & 0.0 & 0.0 & 0.0 & 0.0 & 17.69 & 0.0 & 0.0 & 0.0 & 0.0 & 0.0 & 0.0\\\\0.0 & 0.0 & 0.0 & 0.0 & 0.0 & 0.0 & 13.53 & 0.0 & 0.0 & 0.0 & 0.0 & 0.0\\\\0.0 & 0.0 & 0.0 & 0.0 & 0.0 & 0.0 & 0.0 & 10.24 & 0.0 & 0.0 & 0.0 & 0.0\\\\0.0 & 0.0 & 0.0 & 0.0 & 0.0 & 0.0 & 0.0 & 0.0 & 1.77 & 0.0 & 0.0 & 0.0\\\\0.0 & 0.0 & 0.0 & 0.0 & 0.0 & 0.0 & 0.0 & 0.0 & 0.0 & 1.73 & 0.0 & 0.0\\\\0.0 & 0.0 & 0.0 & 0.0 & 0.0 & 0.0 & 0.0 & 0.0 & 0.0 & 0.0 & 1.7 & 0.0\\\\0.0 & 0.0 & 0.0 & 0.0 & 0.0 & 0.0 & 0.0 & 0.0 & 0.0 & 0.0 & 0.0 & 1.02\\end{array}\\right]$"
      ],
      "text/plain": [
       "⎡123.41   0.0    0.0    0.0    0.0    0.0    0.0    0.0   0.0   0.0   0.0  0.0\n",
       "⎢                                                                             \n",
       "⎢ 0.0    74.15   0.0    0.0    0.0    0.0    0.0    0.0   0.0   0.0   0.0  0.0\n",
       "⎢                                                                             \n",
       "⎢ 0.0     0.0   49.81   0.0    0.0    0.0    0.0    0.0   0.0   0.0   0.0  0.0\n",
       "⎢                                                                             \n",
       "⎢ 0.0     0.0    0.0   30.38   0.0    0.0    0.0    0.0   0.0   0.0   0.0  0.0\n",
       "⎢                                                                             \n",
       "⎢ 0.0     0.0    0.0    0.0   24.59   0.0    0.0    0.0   0.0   0.0   0.0  0.0\n",
       "⎢                                                                             \n",
       "⎢ 0.0     0.0    0.0    0.0    0.0   17.69   0.0    0.0   0.0   0.0   0.0  0.0\n",
       "⎢                                                                             \n",
       "⎢ 0.0     0.0    0.0    0.0    0.0    0.0   13.53   0.0   0.0   0.0   0.0  0.0\n",
       "⎢                                                                             \n",
       "⎢ 0.0     0.0    0.0    0.0    0.0    0.0    0.0   10.24  0.0   0.0   0.0  0.0\n",
       "⎢                                                                             \n",
       "⎢ 0.0     0.0    0.0    0.0    0.0    0.0    0.0    0.0   1.77  0.0   0.0  0.0\n",
       "⎢                                                                             \n",
       "⎢ 0.0     0.0    0.0    0.0    0.0    0.0    0.0    0.0   0.0   1.73  0.0  0.0\n",
       "⎢                                                                             \n",
       "⎢ 0.0     0.0    0.0    0.0    0.0    0.0    0.0    0.0   0.0   0.0   1.7  0.0\n",
       "⎢                                                                             \n",
       "⎣ 0.0     0.0    0.0    0.0    0.0    0.0    0.0    0.0   0.0   0.0   0.0  1.0\n",
       "\n",
       " ⎤\n",
       " ⎥\n",
       " ⎥\n",
       " ⎥\n",
       " ⎥\n",
       " ⎥\n",
       " ⎥\n",
       " ⎥\n",
       " ⎥\n",
       " ⎥\n",
       " ⎥\n",
       " ⎥\n",
       " ⎥\n",
       " ⎥\n",
       " ⎥\n",
       " ⎥\n",
       " ⎥\n",
       " ⎥\n",
       " ⎥\n",
       " ⎥\n",
       " ⎥\n",
       " ⎥\n",
       "2⎦"
      ]
     },
     "execution_count": 58,
     "metadata": {},
     "output_type": "execute_result"
    }
   ],
   "source": [
    "Matrix(np.diag(np.round(s, decimals=2)))"
   ]
  },
  {
   "cell_type": "code",
   "execution_count": 59,
   "metadata": {},
   "outputs": [
    {
     "data": {
      "text/plain": [
       "array([123.40858621,  74.15022593,  49.80974561,  30.38399101,\n",
       "        24.58817085,  17.68937172,  13.52626997,  10.24105638,\n",
       "         1.76617646,   1.73359553,   1.70043033,   1.02493168])"
      ]
     },
     "execution_count": 59,
     "metadata": {},
     "output_type": "execute_result"
    }
   ],
   "source": [
    "s #check that matrix diaganol is equal to s"
   ]
  },
  {
   "cell_type": "code",
   "execution_count": 60,
   "metadata": {},
   "outputs": [
    {
     "data": {
      "text/latex": [
       "$\\displaystyle \\left[\\begin{matrix}21.1651020957118\\\\-1431.25401936603\\\\-337.463896923095\\\\-76.3868120922876\\\\-77.812882449581\\\\-25.0666583936429\\\\-60.6212993496145\\\\5.99300426863084\\\\3484.73993078859\\\\-3964.56921170162\\\\-0.220516258755892\\\\-436.521179392271\\end{matrix}\\right]$"
      ],
      "text/plain": [
       "⎡ 21.1651020957118 ⎤\n",
       "⎢                  ⎥\n",
       "⎢-1431.25401936603 ⎥\n",
       "⎢                  ⎥\n",
       "⎢-337.463896923095 ⎥\n",
       "⎢                  ⎥\n",
       "⎢-76.3868120922876 ⎥\n",
       "⎢                  ⎥\n",
       "⎢ -77.812882449581 ⎥\n",
       "⎢                  ⎥\n",
       "⎢-25.0666583936429 ⎥\n",
       "⎢                  ⎥\n",
       "⎢-60.6212993496145 ⎥\n",
       "⎢                  ⎥\n",
       "⎢ 5.99300426863084 ⎥\n",
       "⎢                  ⎥\n",
       "⎢ 3484.73993078859 ⎥\n",
       "⎢                  ⎥\n",
       "⎢-3964.56921170162 ⎥\n",
       "⎢                  ⎥\n",
       "⎢-0.220516258755892⎥\n",
       "⎢                  ⎥\n",
       "⎣-436.521179392271 ⎦"
      ]
     },
     "execution_count": 60,
     "metadata": {},
     "output_type": "execute_result"
    }
   ],
   "source": [
    "Matrix(X_train_t @ X_train @ U[:,1])"
   ]
  },
  {
   "cell_type": "code",
   "execution_count": 61,
   "metadata": {},
   "outputs": [
    {
     "data": {
      "text/latex": [
       "$\\displaystyle \\left[\\begin{matrix}21.1651020957122\\\\-1431.25401936603\\\\-337.463896923097\\\\-76.3868120922883\\\\-77.8128824495815\\\\-25.0666583936429\\\\-60.6212993496145\\\\5.99300426863097\\\\3484.73993078859\\\\-3964.56921170162\\\\-0.22051625875589\\\\-436.521179392271\\end{matrix}\\right]$"
      ],
      "text/plain": [
       "⎡21.1651020957122 ⎤\n",
       "⎢                 ⎥\n",
       "⎢-1431.25401936603⎥\n",
       "⎢                 ⎥\n",
       "⎢-337.463896923097⎥\n",
       "⎢                 ⎥\n",
       "⎢-76.3868120922883⎥\n",
       "⎢                 ⎥\n",
       "⎢-77.8128824495815⎥\n",
       "⎢                 ⎥\n",
       "⎢-25.0666583936429⎥\n",
       "⎢                 ⎥\n",
       "⎢-60.6212993496145⎥\n",
       "⎢                 ⎥\n",
       "⎢5.99300426863097 ⎥\n",
       "⎢                 ⎥\n",
       "⎢3484.73993078859 ⎥\n",
       "⎢                 ⎥\n",
       "⎢-3964.56921170162⎥\n",
       "⎢                 ⎥\n",
       "⎢-0.22051625875589⎥\n",
       "⎢                 ⎥\n",
       "⎣-436.521179392271⎦"
      ]
     },
     "execution_count": 61,
     "metadata": {},
     "output_type": "execute_result"
    }
   ],
   "source": [
    "Matrix(s[1]*s[1]*U[:,1]) #check, oppure Matrix(np.square(s[1]*U[:,1]))"
   ]
  },
  {
   "cell_type": "code",
   "execution_count": 62,
   "metadata": {},
   "outputs": [
    {
     "data": {
      "text/latex": [
       "$\\displaystyle \\left[\\begin{matrix}-0.46851015729557 & 0.00384942099342387 & -0.213134971420541 & -0.567634968957645 & -0.378339066116873 & 0.0635012469460104\\\\-0.294203867103475 & -0.260310545356927 & 0.273004070390765 & 0.614913710438377 & 0.0649928446387953 & 0.309567586551182\\\\-0.53626237734605 & -0.0613765340447643 & 0.361213640461359 & -0.325195323997007 & 0.649266904723179 & -0.00880901922557592\\\\-0.0624602644434141 & -0.0138929165925615 & -0.00505665695124885 & 0.0153873496517124 & -0.152549520412829 & 0.140131409152755\\\\-0.0777814850923119 & -0.0141522843549583 & -0.00369320759177663 & 0.00809461153559901 & -0.161372629425555 & 0.11231697239269\\\\-0.0376304994215048 & -0.00455901987238802 & -0.00460820837788366 & 0.00341923128705197 & -0.0728789840359187 & 0.0496487471859456\\\\-0.0767306017817636 & -0.0110255505175339 & -0.000485482471653072 & 0.00964209975790781 & -0.154436151167581 & 0.113120118553369\\\\-0.224133933050168 & 0.00108998276223862 & 0.0579123188555206 & 0.0291554185688486 & -0.304993562403468 & 0.653146467774502\\\\-0.503271441141784 & 0.633790046725906 & -0.251664956319309 & 0.408287063549247 & -0.0497214780987086 & -0.310375865555632\\\\-0.279787634201705 & -0.721059406394163 & -0.429107802547891 & 0.161117411903975 & -0.0605529927896288 & -0.338373526147332\\\\-0.000158646240526073 & -4.01065826192343 \\cdot 10^{-5} & 0.000249057096726815 & -0.00180686133099732 & 0.00120284535784131 & 0.00178686279744921\\\\-0.0855031409195649 & -0.0793926617706781 & 0.706175354612032 & -0.00150586393678009 & -0.503440368419808 & -0.463801149604493\\end{matrix}\\right]$"
      ],
      "text/plain": [
       "⎡  -0.46851015729557    0.00384942099342387    -0.213134971420541     -0.56763\n",
       "⎢                                                                             \n",
       "⎢ -0.294203867103475     -0.260310545356927     0.273004070390765     0.614913\n",
       "⎢                                                                             \n",
       "⎢  -0.53626237734605    -0.0613765340447643     0.361213640461359     -0.32519\n",
       "⎢                                                                             \n",
       "⎢ -0.0624602644434141   -0.0138929165925615   -0.00505665695124885    0.015387\n",
       "⎢                                                                             \n",
       "⎢ -0.0777814850923119   -0.0141522843549583   -0.00369320759177663   0.0080946\n",
       "⎢                                                                             \n",
       "⎢ -0.0376304994215048   -0.00455901987238802  -0.00460820837788366   0.0034192\n",
       "⎢                                                                             \n",
       "⎢ -0.0767306017817636   -0.0110255505175339   -0.000485482471653072  0.0096420\n",
       "⎢                                                                             \n",
       "⎢ -0.224133933050168    0.00108998276223862    0.0579123188555206     0.029155\n",
       "⎢                                                                             \n",
       "⎢ -0.503271441141784     0.633790046725906     -0.251664956319309     0.408287\n",
       "⎢                                                                             \n",
       "⎢ -0.279787634201705     -0.721059406394163    -0.429107802547891     0.161117\n",
       "⎢                                                                             \n",
       "⎢-0.000158646240526073  -4.01065826192343e-5  0.000249057096726815   -0.001806\n",
       "⎢                                                                             \n",
       "⎣ -0.0855031409195649   -0.0793926617706781     0.706175354612032    -0.001505\n",
       "\n",
       "4968957645   -0.378339066116873    0.0635012469460104 ⎤\n",
       "                                                      ⎥\n",
       "710438377    0.0649928446387953    0.309567586551182  ⎥\n",
       "                                                      ⎥\n",
       "5323997007    0.649266904723179   -0.00880901922557592⎥\n",
       "                                                      ⎥\n",
       "3496517124   -0.152549520412829    0.140131409152755  ⎥\n",
       "                                                      ⎥\n",
       "1153559901   -0.161372629425555     0.11231697239269  ⎥\n",
       "                                                      ⎥\n",
       "3128705197   -0.0728789840359187   0.0496487471859456 ⎥\n",
       "                                                      ⎥\n",
       "9975790781   -0.154436151167581    0.113120118553369  ⎥\n",
       "                                                      ⎥\n",
       "4185688486   -0.304993562403468    0.653146467774502  ⎥\n",
       "                                                      ⎥\n",
       "063549247    -0.0497214780987086   -0.310375865555632 ⎥\n",
       "                                                      ⎥\n",
       "411903975    -0.0605529927896288   -0.338373526147332 ⎥\n",
       "                                                      ⎥\n",
       "86133099732  0.00120284535784131  0.00178686279744921 ⎥\n",
       "                                                      ⎥\n",
       "86393678009  -0.503440368419808    -0.463801149604493 ⎦"
      ]
     },
     "execution_count": 62,
     "metadata": {},
     "output_type": "execute_result"
    }
   ],
   "source": [
    "P = U[:,:6]\n",
    "Matrix(P)"
   ]
  },
  {
   "cell_type": "code",
   "execution_count": 63,
   "metadata": {},
   "outputs": [],
   "source": [
    "R = P.T @ X_train_t"
   ]
  },
  {
   "cell_type": "code",
   "execution_count": 64,
   "metadata": {},
   "outputs": [
    {
     "data": {
      "text/latex": [
       "$\\displaystyle \\left( \\left( 6, \\  12\\right), \\  \\left( 12, \\  14447\\right), \\  \\left( 6, \\  14447\\right)\\right)$"
      ],
      "text/plain": [
       "((6, 12), (12, 14447), (6, 14447))"
      ]
     },
     "execution_count": 64,
     "metadata": {},
     "output_type": "execute_result"
    }
   ],
   "source": [
    "P.T.shape, X_train_t.shape, R.shape"
   ]
  },
  {
   "cell_type": "code",
   "execution_count": 65,
   "metadata": {},
   "outputs": [],
   "source": [
    "covariance_matrix = np.cov(X_train_t)"
   ]
  },
  {
   "cell_type": "code",
   "execution_count": 66,
   "metadata": {},
   "outputs": [
    {
     "name": "stdout",
     "output_type": "stream",
     "text": [
      "Eigenvector: \n",
      " [[-1.03959798e-01 -2.75330884e-01  5.41407668e-01  2.72050881e-02\n",
      "  -2.89564203e-01 -5.69783200e-03 -3.58488651e-02  7.28820236e-01\n",
      "   1.67680056e-02 -4.30745119e-02  2.52777195e-02 -2.00841172e-02]\n",
      " [ 1.96325002e-01  2.06465601e-01 -6.49245766e-01 -2.16065134e-03\n",
      "   2.13379761e-01 -3.66784040e-02  4.79770660e-03  6.68980449e-01\n",
      "   1.08158750e-02 -4.23467428e-02  2.39815789e-02 -1.96031409e-02]\n",
      " [-5.57807783e-02  2.45656929e-01  9.48787563e-02  9.30504235e-01\n",
      "   7.08610673e-02  1.27868779e-01  1.99918420e-01  1.88193839e-02\n",
      "  -9.58565248e-04  1.92767762e-03 -5.08132747e-04  1.70779765e-03]\n",
      " [ 1.30815484e-03 -1.25820598e-02  3.25293774e-04 -1.04125572e-01\n",
      "  -2.49765341e-02  2.04188924e-02  4.81973122e-01  5.82861973e-02\n",
      "   1.65739146e-01  2.56484147e-01 -4.31755087e-01  6.87455870e-01]\n",
      " [-1.42546925e-03 -1.30855922e-02  7.82001726e-03 -1.07780244e-01\n",
      "  -3.00347823e-02 -9.02804418e-02  5.76166522e-01  3.18096670e-02\n",
      "  -6.09956731e-01  3.45253489e-01  1.62028859e-02 -3.93200866e-01]\n",
      " [-3.03759436e-03 -9.15677444e-03  3.37498717e-03 -4.73454629e-02\n",
      "  -1.54437260e-02 -3.94710440e-02  2.66643432e-01 -3.39547609e-02\n",
      "  -3.86978207e-01 -7.95139498e-01  1.95164105e-01  3.21741889e-01]\n",
      " [-4.24725303e-03 -9.72944315e-03  5.45590284e-03 -1.03303848e-01\n",
      "  -2.64163749e-02 -8.11857377e-02  5.62007239e-01 -3.31020681e-02\n",
      "   6.70527571e-01 -1.96527038e-01  2.58094973e-01 -3.31822090e-01]\n",
      " [-4.60360556e-02  2.62103172e-02 -1.62266796e-02 -1.59403717e-01\n",
      "   1.31362016e-02  9.78855820e-01  7.15036473e-02  3.34932191e-02\n",
      "  -1.89990054e-02 -2.45666541e-02  4.03705884e-02 -6.60358939e-02]\n",
      " [-7.34949648e-01 -3.05649336e-01 -4.65951744e-01  1.14459529e-01\n",
      "  -3.68091294e-01 -9.23734982e-03 -2.45994734e-03 -2.44978081e-02\n",
      "   2.90050212e-04  4.31318735e-03 -3.75159178e-03  2.88650180e-05]\n",
      " [ 6.32554215e-01 -5.17550508e-01 -2.42394327e-01  2.19644257e-01\n",
      "  -4.52867534e-01  8.33865129e-02  2.28339431e-02 -1.11386008e-01\n",
      "  -7.85189679e-04  4.67478468e-03 -9.14004170e-04 -4.91696477e-03]\n",
      " [ 2.34828763e-05  2.50872621e-04  1.73242416e-03  7.17500597e-04\n",
      "   2.25242973e-03 -6.11652428e-04  4.69129620e-04 -4.51976333e-03\n",
      "   1.90578897e-02 -3.73964127e-01 -8.40095529e-01 -3.92425095e-01]\n",
      " [ 7.14927244e-02  6.77305246e-01 -1.09969944e-02 -1.06256518e-01\n",
      "  -7.22758793e-01 -1.89076029e-02 -4.32114083e-02 -1.11819192e-02\n",
      "  -1.79134005e-04 -8.30843053e-04 -1.85446913e-03  9.05644923e-04]] \n",
      "\n",
      "Eigenvalues: \n",
      " [3.91790914e-01 1.75763053e-01 6.46965416e-02 5.47249491e-02\n",
      " 2.98354052e-02 1.55372705e-02 9.98893564e-03 1.22228305e-03\n",
      " 7.25879501e-05 1.97627339e-04 2.09301734e-04 2.06675932e-04] \n",
      "\n"
     ]
    }
   ],
   "source": [
    "eigen_values, eigen_vectors = np.linalg.eig(covariance_matrix)\n",
    "print(\"Eigenvector: \\n\",eigen_vectors,\"\\n\")\n",
    "print(\"Eigenvalues: \\n\", eigen_values, \"\\n\")"
   ]
  },
  {
   "cell_type": "code",
   "execution_count": 67,
   "metadata": {},
   "outputs": [
    {
     "name": "stdout",
     "output_type": "stream",
     "text": [
      "[52.642695162689016, 23.616272161369515, 8.692902764603563, 7.3530771520237455, 4.008812066371591, 2.087653812275437, 1.3421559198216775, 0.16423115394426913, 0.009753226018510886, 0.026554050632430846, 0.028122672079150503, 0.02776985817108706]\n"
     ]
    }
   ],
   "source": [
    "variance_explained = []\n",
    "for i in eigen_values:\n",
    "     variance_explained.append((i/sum(eigen_values))*100)\n",
    "        \n",
    "print(variance_explained)"
   ]
  },
  {
   "cell_type": "code",
   "execution_count": 68,
   "metadata": {},
   "outputs": [
    {
     "name": "stdout",
     "output_type": "stream",
     "text": [
      "[ 52.64269516  76.25896732  84.95187009  92.30494724  96.31375931\n",
      "  98.40141312  99.74356904  99.90780019  99.91755342  99.94410747\n",
      "  99.97223014 100.        ]\n"
     ]
    }
   ],
   "source": [
    "cumulative_variance_explained = np.cumsum(variance_explained)\n",
    "print(cumulative_variance_explained)"
   ]
  },
  {
   "cell_type": "code",
   "execution_count": 69,
   "metadata": {},
   "outputs": [
    {
     "data": {
      "image/png": "[encoded data removed]",
      "text/plain": [
       "<Figure size 432x288 with 1 Axes>"
      ]
     },
     "metadata": {
      "needs_background": "light"
     },
     "output_type": "display_data"
    }
   ],
   "source": [
    "sns.lineplot(x = [1, 2, 3, 4, 5, 6, 7, 8, 9, 10, 11, 12], y=cumulative_variance_explained)\n",
    "plt.xlabel = (\"Number of components\")\n",
    "plt.ylabel = (\"Cumulative explained variance\")\n",
    "plt.title = (\"Explained variance vs Number of components\")"
   ]
  },
  {
   "cell_type": "code",
   "execution_count": 70,
   "metadata": {},
   "outputs": [
    {
     "data": {
      "text/latex": [
       "$\\displaystyle \\left( \\left( 12, \\  12\\right), \\  \\left( 12\\right), \\  \\left( 12, \\  6193\\right)\\right)$"
      ],
      "text/plain": [
       "((12, 12), (12,), (12, 6193))"
      ]
     },
     "execution_count": 70,
     "metadata": {},
     "output_type": "execute_result"
    }
   ],
   "source": [
    "U_test, s_test, Vt_test = LA.svd(X_test.T, full_matrices=False)\n",
    "U_test.shape, s_test.shape, Vt_test.shape"
   ]
  },
  {
   "cell_type": "code",
   "execution_count": 71,
   "metadata": {},
   "outputs": [
    {
     "data": {
      "text/latex": [
       "$\\displaystyle \\left[\\begin{array}{cccccccccccc}82.02 & 0.0 & 0.0 & 0.0 & 0.0 & 0.0 & 0.0 & 0.0 & 0.0 & 0.0 & 0.0 & 0.0\\\\0.0 & 48.58 & 0.0 & 0.0 & 0.0 & 0.0 & 0.0 & 0.0 & 0.0 & 0.0 & 0.0 & 0.0\\\\0.0 & 0.0 & 32.41 & 0.0 & 0.0 & 0.0 & 0.0 & 0.0 & 0.0 & 0.0 & 0.0 & 0.0\\\\0.0 & 0.0 & 0.0 & 20.19 & 0.0 & 0.0 & 0.0 & 0.0 & 0.0 & 0.0 & 0.0 & 0.0\\\\0.0 & 0.0 & 0.0 & 0.0 & 17.38 & 0.0 & 0.0 & 0.0 & 0.0 & 0.0 & 0.0 & 0.0\\\\0.0 & 0.0 & 0.0 & 0.0 & 0.0 & 12.09 & 0.0 & 0.0 & 0.0 & 0.0 & 0.0 & 0.0\\\\0.0 & 0.0 & 0.0 & 0.0 & 0.0 & 0.0 & 10.46 & 0.0 & 0.0 & 0.0 & 0.0 & 0.0\\\\0.0 & 0.0 & 0.0 & 0.0 & 0.0 & 0.0 & 0.0 & 7.28 & 0.0 & 0.0 & 0.0 & 0.0\\\\0.0 & 0.0 & 0.0 & 0.0 & 0.0 & 0.0 & 0.0 & 0.0 & 2.56 & 0.0 & 0.0 & 0.0\\\\0.0 & 0.0 & 0.0 & 0.0 & 0.0 & 0.0 & 0.0 & 0.0 & 0.0 & 1.5 & 0.0 & 0.0\\\\0.0 & 0.0 & 0.0 & 0.0 & 0.0 & 0.0 & 0.0 & 0.0 & 0.0 & 0.0 & 1.41 & 0.0\\\\0.0 & 0.0 & 0.0 & 0.0 & 0.0 & 0.0 & 0.0 & 0.0 & 0.0 & 0.0 & 0.0 & 0.85\\end{array}\\right]$"
      ],
      "text/plain": [
       "⎡82.02   0.0    0.0    0.0    0.0    0.0    0.0   0.0   0.0   0.0  0.0   0.0 ⎤\n",
       "⎢                                                                            ⎥\n",
       "⎢ 0.0   48.58   0.0    0.0    0.0    0.0    0.0   0.0   0.0   0.0  0.0   0.0 ⎥\n",
       "⎢                                                                            ⎥\n",
       "⎢ 0.0    0.0   32.41   0.0    0.0    0.0    0.0   0.0   0.0   0.0  0.0   0.0 ⎥\n",
       "⎢                                                                            ⎥\n",
       "⎢ 0.0    0.0    0.0   20.19   0.0    0.0    0.0   0.0   0.0   0.0  0.0   0.0 ⎥\n",
       "⎢                                                                            ⎥\n",
       "⎢ 0.0    0.0    0.0    0.0   17.38   0.0    0.0   0.0   0.0   0.0  0.0   0.0 ⎥\n",
       "⎢                                                                            ⎥\n",
       "⎢ 0.0    0.0    0.0    0.0    0.0   12.09   0.0   0.0   0.0   0.0  0.0   0.0 ⎥\n",
       "⎢                                                                            ⎥\n",
       "⎢ 0.0    0.0    0.0    0.0    0.0    0.0   10.46  0.0   0.0   0.0  0.0   0.0 ⎥\n",
       "⎢                                                                            ⎥\n",
       "⎢ 0.0    0.0    0.0    0.0    0.0    0.0    0.0   7.28  0.0   0.0  0.0   0.0 ⎥\n",
       "⎢                                                                            ⎥\n",
       "⎢ 0.0    0.0    0.0    0.0    0.0    0.0    0.0   0.0   2.56  0.0  0.0   0.0 ⎥\n",
       "⎢                                                                            ⎥\n",
       "⎢ 0.0    0.0    0.0    0.0    0.0    0.0    0.0   0.0   0.0   1.5  0.0   0.0 ⎥\n",
       "⎢                                                                            ⎥\n",
       "⎢ 0.0    0.0    0.0    0.0    0.0    0.0    0.0   0.0   0.0   0.0  1.41  0.0 ⎥\n",
       "⎢                                                                            ⎥\n",
       "⎣ 0.0    0.0    0.0    0.0    0.0    0.0    0.0   0.0   0.0   0.0  0.0   0.85⎦"
      ]
     },
     "execution_count": 71,
     "metadata": {},
     "output_type": "execute_result"
    }
   ],
   "source": [
    "Matrix(np.diag(np.round(s_test, decimals=2)))"
   ]
  },
  {
   "cell_type": "code",
   "execution_count": 72,
   "metadata": {},
   "outputs": [],
   "source": [
    "cov_matrix = np.cov(X_test.T)"
   ]
  },
  {
   "cell_type": "code",
   "execution_count": 73,
   "metadata": {},
   "outputs": [
    {
     "name": "stdout",
     "output_type": "stream",
     "text": [
      "Eigenvector: \n",
      " [[-1.03959798e-01 -2.75330884e-01  5.41407668e-01  2.72050881e-02\n",
      "  -2.89564203e-01 -5.69783200e-03 -3.58488651e-02  7.28820236e-01\n",
      "   1.67680056e-02 -4.30745119e-02  2.52777195e-02 -2.00841172e-02]\n",
      " [ 1.96325002e-01  2.06465601e-01 -6.49245766e-01 -2.16065134e-03\n",
      "   2.13379761e-01 -3.66784040e-02  4.79770660e-03  6.68980449e-01\n",
      "   1.08158750e-02 -4.23467428e-02  2.39815789e-02 -1.96031409e-02]\n",
      " [-5.57807783e-02  2.45656929e-01  9.48787563e-02  9.30504235e-01\n",
      "   7.08610673e-02  1.27868779e-01  1.99918420e-01  1.88193839e-02\n",
      "  -9.58565248e-04  1.92767762e-03 -5.08132747e-04  1.70779765e-03]\n",
      " [ 1.30815484e-03 -1.25820598e-02  3.25293774e-04 -1.04125572e-01\n",
      "  -2.49765341e-02  2.04188924e-02  4.81973122e-01  5.82861973e-02\n",
      "   1.65739146e-01  2.56484147e-01 -4.31755087e-01  6.87455870e-01]\n",
      " [-1.42546925e-03 -1.30855922e-02  7.82001726e-03 -1.07780244e-01\n",
      "  -3.00347823e-02 -9.02804418e-02  5.76166522e-01  3.18096670e-02\n",
      "  -6.09956731e-01  3.45253489e-01  1.62028859e-02 -3.93200866e-01]\n",
      " [-3.03759436e-03 -9.15677444e-03  3.37498717e-03 -4.73454629e-02\n",
      "  -1.54437260e-02 -3.94710440e-02  2.66643432e-01 -3.39547609e-02\n",
      "  -3.86978207e-01 -7.95139498e-01  1.95164105e-01  3.21741889e-01]\n",
      " [-4.24725303e-03 -9.72944315e-03  5.45590284e-03 -1.03303848e-01\n",
      "  -2.64163749e-02 -8.11857377e-02  5.62007239e-01 -3.31020681e-02\n",
      "   6.70527571e-01 -1.96527038e-01  2.58094973e-01 -3.31822090e-01]\n",
      " [-4.60360556e-02  2.62103172e-02 -1.62266796e-02 -1.59403717e-01\n",
      "   1.31362016e-02  9.78855820e-01  7.15036473e-02  3.34932191e-02\n",
      "  -1.89990054e-02 -2.45666541e-02  4.03705884e-02 -6.60358939e-02]\n",
      " [-7.34949648e-01 -3.05649336e-01 -4.65951744e-01  1.14459529e-01\n",
      "  -3.68091294e-01 -9.23734982e-03 -2.45994734e-03 -2.44978081e-02\n",
      "   2.90050212e-04  4.31318735e-03 -3.75159178e-03  2.88650180e-05]\n",
      " [ 6.32554215e-01 -5.17550508e-01 -2.42394327e-01  2.19644257e-01\n",
      "  -4.52867534e-01  8.33865129e-02  2.28339431e-02 -1.11386008e-01\n",
      "  -7.85189679e-04  4.67478468e-03 -9.14004170e-04 -4.91696477e-03]\n",
      " [ 2.34828763e-05  2.50872621e-04  1.73242416e-03  7.17500597e-04\n",
      "   2.25242973e-03 -6.11652428e-04  4.69129620e-04 -4.51976333e-03\n",
      "   1.90578897e-02 -3.73964127e-01 -8.40095529e-01 -3.92425095e-01]\n",
      " [ 7.14927244e-02  6.77305246e-01 -1.09969944e-02 -1.06256518e-01\n",
      "  -7.22758793e-01 -1.89076029e-02 -4.32114083e-02 -1.11819192e-02\n",
      "  -1.79134005e-04 -8.30843053e-04 -1.85446913e-03  9.05644923e-04]] \n",
      "\n",
      "Eigenvalues: \n",
      " [3.91790914e-01 1.75763053e-01 6.46965416e-02 5.47249491e-02\n",
      " 2.98354052e-02 1.55372705e-02 9.98893564e-03 1.22228305e-03\n",
      " 7.25879501e-05 1.97627339e-04 2.09301734e-04 2.06675932e-04] \n",
      "\n"
     ]
    }
   ],
   "source": [
    "eigen_values_test, eigen_vectors_test = np.linalg.eig(cov_matrix)\n",
    "print(\"Eigenvector: \\n\",eigen_vectors,\"\\n\")\n",
    "print(\"Eigenvalues: \\n\", eigen_values, \"\\n\")"
   ]
  },
  {
   "cell_type": "code",
   "execution_count": 74,
   "metadata": {},
   "outputs": [
    {
     "name": "stdout",
     "output_type": "stream",
     "text": [
      "[51.52561962651725, 22.935965530933807, 8.72287419772061, 7.786781083280066, 4.135052649468532, 2.4981295143178976, 1.976365885706844, 0.18535837452785972, 0.1302125166568234, 0.01515276942036757, 0.04623849238485328, 0.0422493590650966]\n"
     ]
    }
   ],
   "source": [
    "var_explained = []\n",
    "for i in eigen_values_test:\n",
    "     var_explained.append((i/sum(eigen_values_test))*100)\n",
    "        \n",
    "print(var_explained)"
   ]
  },
  {
   "cell_type": "code",
   "execution_count": 75,
   "metadata": {},
   "outputs": [
    {
     "name": "stdout",
     "output_type": "stream",
     "text": [
      "[ 51.52561963  74.46158516  83.18445936  90.97124044  95.10629309\n",
      "  97.6044226   99.58078849  99.76614686  99.89635938  99.91151215\n",
      "  99.95775064 100.        ]\n"
     ]
    }
   ],
   "source": [
    "cum_var_explained = np.cumsum(var_explained)\n",
    "print(cum_var_explained)"
   ]
  },
  {
   "cell_type": "code",
   "execution_count": 76,
   "metadata": {},
   "outputs": [
    {
     "data": {
      "image/png": "[encoded data removed]",
      "text/plain": [
       "<Figure size 432x288 with 1 Axes>"
      ]
     },
     "metadata": {
      "needs_background": "light"
     },
     "output_type": "display_data"
    }
   ],
   "source": [
    "sns.lineplot(x = [1, 2, 3, 4, 5, 6, 7, 8, 9, 10, 11, 12], y=cum_var_explained)\n",
    "plt.xlabel = (\"Number of components\")\n",
    "plt.ylabel = (\"Cumulative explained variance\")\n",
    "plt.title = (\"Explained variance vs Number of components\")"
   ]
  },
  {
   "cell_type": "code",
   "execution_count": 77,
   "metadata": {},
   "outputs": [
    {
     "data": {
      "text/latex": [
       "$\\displaystyle \\left[\\begin{matrix}-0.465171095388184 & 0.0122462636439978 & -0.221311423395272 & 0.569567542964355 & 0.340470794864052 & 0.027917952456201\\\\-0.294943010720157 & -0.261182286983546 & 0.279464165345634 & -0.604551332292216 & -0.0660709835737357 & -0.287412058694008\\\\-0.535631446127491 & -0.0531934984606493 & 0.356842760096779 & 0.329217127923058 & -0.616506074355281 & -0.108686822489426\\\\-0.0858720811279727 & -0.0187795571301926 & -0.00397522427740039 & -0.0295326567848353 & 0.24891540100142 & -0.263123302520548\\\\-0.0918072169626923 & -0.0159514636877147 & -0.00183917188793811 & -0.0189294137287954 & 0.240732300804864 & -0.246327038356876\\\\-0.109024636529237 & -0.0125266275322818 & -0.0115645665525197 & -0.0223095597183845 & 0.264973065850598 & -0.263132944967971\\\\-0.0939853668889154 & -0.0122598662944326 & 0.00172456670971862 & -0.0223246540692959 & 0.239480027153217 & -0.252369129321282\\\\-0.2185089754026 & 0.00370807477217576 & 0.0651491547589478 & -0.0277339032993213 & 0.24177961963316 & -0.346694985193344\\\\-0.490356709629034 & 0.636176530176892 & -0.249951814877587 & -0.415364477434578 & 0.00598645229881908 & 0.322269317739579\\\\-0.279500038531243 & -0.719308508708979 & -0.42636119448306 & -0.161610568919575 & 0.0150170336771494 & 0.360772514704742\\\\-0.000228455078446388 & -4.98222649349562 \\cdot 10^{-5} & 0.000337541611527036 & 0.00264984356172685 & -0.00138226694590389 & -0.00250069460742023\\\\-0.0829760667807384 & -0.0758346324961506 & 0.70492841921432 & 0.00884081377427479 & 0.439819909367184 & 0.536417820354376\\end{matrix}\\right]$"
      ],
      "text/plain": [
       "⎡ -0.465171095388184     0.0122462636439978    -0.221311423395272    0.5695675\n",
       "⎢                                                                             \n",
       "⎢ -0.294943010720157     -0.261182286983546    0.279464165345634    -0.6045513\n",
       "⎢                                                                             \n",
       "⎢ -0.535631446127491    -0.0531934984606493    0.356842760096779     0.3292171\n",
       "⎢                                                                             \n",
       "⎢ -0.0858720811279727   -0.0187795571301926   -0.00397522427740039  -0.0295326\n",
       "⎢                                                                             \n",
       "⎢ -0.0918072169626923   -0.0159514636877147   -0.00183917188793811  -0.0189294\n",
       "⎢                                                                             \n",
       "⎢ -0.109024636529237    -0.0125266275322818   -0.0115645665525197   -0.0223095\n",
       "⎢                                                                             \n",
       "⎢ -0.0939853668889154   -0.0122598662944326   0.00172456670971862   -0.0223246\n",
       "⎢                                                                             \n",
       "⎢  -0.2185089754026     0.00370807477217576    0.0651491547589478   -0.0277339\n",
       "⎢                                                                             \n",
       "⎢ -0.490356709629034     0.636176530176892     -0.249951814877587   -0.4153644\n",
       "⎢                                                                             \n",
       "⎢ -0.279500038531243     -0.719308508708979    -0.42636119448306    -0.1616105\n",
       "⎢                                                                             \n",
       "⎢-0.000228455078446388  -4.98222649349562e-5  0.000337541611527036  0.00264984\n",
       "⎢                                                                             \n",
       "⎣ -0.0829760667807384   -0.0758346324961506     0.70492841921432    0.00884081\n",
       "\n",
       "42964355    0.340470794864052     0.027917952456201  ⎤\n",
       "                                                     ⎥\n",
       "32292216   -0.0660709835737357    -0.287412058694008 ⎥\n",
       "                                                     ⎥\n",
       "27923058    -0.616506074355281    -0.108686822489426 ⎥\n",
       "                                                     ⎥\n",
       "567848353    0.24891540100142     -0.263123302520548 ⎥\n",
       "                                                     ⎥\n",
       "137287954   0.240732300804864     -0.246327038356876 ⎥\n",
       "                                                     ⎥\n",
       "597183845   0.264973065850598     -0.263132944967971 ⎥\n",
       "                                                     ⎥\n",
       "540692959   0.239480027153217     -0.252369129321282 ⎥\n",
       "                                                     ⎥\n",
       "032993213    0.24177961963316     -0.346694985193344 ⎥\n",
       "                                                     ⎥\n",
       "77434578   0.00598645229881908    0.322269317739579  ⎥\n",
       "                                                     ⎥\n",
       "68919575    0.0150170336771494    0.360772514704742  ⎥\n",
       "                                                     ⎥\n",
       "356172685  -0.00138226694590389  -0.00250069460742023⎥\n",
       "                                                     ⎥\n",
       "377427479   0.439819909367184     0.536417820354376  ⎦"
      ]
     },
     "execution_count": 77,
     "metadata": {},
     "output_type": "execute_result"
    }
   ],
   "source": [
    "P_test = U_test[:,:6]\n",
    "Matrix(P_test)"
   ]
  },
  {
   "cell_type": "code",
   "execution_count": 78,
   "metadata": {},
   "outputs": [],
   "source": [
    "R_test = P_test.T @ X_test.T"
   ]
  },
  {
   "cell_type": "code",
   "execution_count": 79,
   "metadata": {},
   "outputs": [
    {
     "data": {
      "text/latex": [
       "$\\displaystyle \\left( \\left( 6, \\  12\\right), \\  \\left( 12, \\  6193\\right), \\  \\left( 6, \\  6193\\right)\\right)$"
      ],
      "text/plain": [
       "((6, 12), (12, 6193), (6, 6193))"
      ]
     },
     "execution_count": 79,
     "metadata": {},
     "output_type": "execute_result"
    }
   ],
   "source": [
    "P_test.T.shape, X_test.T.shape, R_test.shape"
   ]
  },
  {
   "cell_type": "code",
   "execution_count": 80,
   "metadata": {},
   "outputs": [
    {
     "data": {
      "text/plain": [
       "<matplotlib.collections.PathCollection at 0x2b165ee7208>"
      ]
     },
     "execution_count": 80,
     "metadata": {},
     "output_type": "execute_result"
    },
    {
     "data": {
      "image/png": "[encoded data removed]",
      "text/plain": [
       "<Figure size 432x288 with 1 Axes>"
      ]
     },
     "metadata": {
      "needs_background": "light"
     },
     "output_type": "display_data"
    }
   ],
   "source": [
    "plt.scatter(R_test[0,:], R_test[1,:], c=y_test)"
   ]
  },
  {
   "cell_type": "code",
   "execution_count": 81,
   "metadata": {},
   "outputs": [
    {
     "name": "stdout",
     "output_type": "stream",
     "text": [
      "[[1. 0. 0. 0. 0. 0.]\n",
      " [0. 1. 0. 0. 0. 0.]\n",
      " [0. 0. 1. 0. 0. 0.]\n",
      " [0. 0. 0. 1. 0. 0.]\n",
      " [0. 0. 0. 0. 1. 0.]\n",
      " [0. 0. 0. 0. 0. 1.]]\n"
     ]
    }
   ],
   "source": [
    "I2 = np.identity(6, dtype = float) \n",
    "print(I2)"
   ]
  },
  {
   "cell_type": "code",
   "execution_count": 103,
   "metadata": {},
   "outputs": [],
   "source": [
    "def ridge_pca_train(alpha_vals): \n",
    "    y_pred_ridge_pca_train = R.T @ (((LA.inv((R @ R.T) + alpha_vals*I2)) @ R) @ y_train)\n",
    "    return y_pred_ridge_pca_train"
   ]
  },
  {
   "cell_type": "code",
   "execution_count": 104,
   "metadata": {},
   "outputs": [
    {
     "data": {
      "text/plain": [
       "(array([0.77139568, 0.30891137, 0.24565   , ..., 0.57614451, 0.4653137 ,\n",
       "        0.50135519]),\n",
       " array([0.77091374, 0.30881119, 0.24567781, ..., 0.57600529, 0.46543767,\n",
       "        0.50134871]),\n",
       " array([0.76944649, 0.30850549, 0.24576196, ..., 0.57558138, 0.46581379,\n",
       "        0.50132881]),\n",
       " array([0.76654802, 0.30789829, 0.24592582, ..., 0.57474371, 0.46655097,\n",
       "        0.50128857]),\n",
       " array([0.73591025, 0.30121053, 0.24746219, ..., 0.56586237, 0.47383909,\n",
       "        0.50077985]),\n",
       " array([0.69398011, 0.29125636, 0.24896557, ..., 0.55357695, 0.48208457,\n",
       "        0.49976288]),\n",
       " array([0.64321416, 0.27801134, 0.2498227 , ..., 0.53830465, 0.48861071,\n",
       "        0.49776307]),\n",
       " array([0.62367344, 0.27260081, 0.24986678, ..., 0.5322275 , 0.48982847,\n",
       "        0.4966577 ]),\n",
       " array([0.60684865, 0.26782623, 0.24977734, ..., 0.52686342, 0.49016832,\n",
       "        0.4954992 ]))"
      ]
     },
     "execution_count": 104,
     "metadata": {},
     "output_type": "execute_result"
    }
   ],
   "source": [
    "ridge_pca_train(0.01), ridge_pca_train(0.5), ridge_pca_train(2), ridge_pca_train(5), ridge_pca_train(40), ridge_pca_train(100), ridge_pca_train(200), ridge_pca_train(250), ridge_pca_train(300)"
   ]
  },
  {
   "cell_type": "code",
   "execution_count": 106,
   "metadata": {},
   "outputs": [
    {
     "data": {
      "text/latex": [
       "$\\displaystyle \\left( 14447\\right)$"
      ],
      "text/plain": [
       "(14447,)"
      ]
     },
     "execution_count": 106,
     "metadata": {},
     "output_type": "execute_result"
    }
   ],
   "source": [
    "ridge_pca_train(0.01).shape"
   ]
  },
  {
   "cell_type": "code",
   "execution_count": 105,
   "metadata": {},
   "outputs": [],
   "source": [
    "def mse_pca_train(alpha_vals):\n",
    "    mse_pca_train=np.square((ridge_pca_train(alpha_vals))-(y_train)).mean()\n",
    "    return mse_pca_train"
   ]
  },
  {
   "cell_type": "code",
   "execution_count": 107,
   "metadata": {},
   "outputs": [
    {
     "data": {
      "text/latex": [
       "$\\displaystyle \\left( 0.026377206621249656, \\  0.026377257526995688, \\  0.026378013969333796, \\  0.026382161462116815, \\  0.026636681734919287, \\  0.027578012141737315, \\  0.029555747334621938, \\  0.030541071197364385, \\  0.03148257300371203\\right)$"
      ],
      "text/plain": [
       "(0.026377206621249656, 0.026377257526995688, 0.026378013969333796, 0.026382161\n",
       "462116815, 0.026636681734919287, 0.027578012141737315, 0.029555747334621938, 0\n",
       ".030541071197364385, 0.03148257300371203)"
      ]
     },
     "execution_count": 107,
     "metadata": {},
     "output_type": "execute_result"
    }
   ],
   "source": [
    "mse1_pca_train=mse_pca_train(0.01)\n",
    "mse2_pca_train=mse_pca_train(0.5)\n",
    "mse3_pca_train=mse_pca_train(2)\n",
    "mse4_pca_train=mse_pca_train(5)\n",
    "mse5_pca_train=mse_pca_train(40)\n",
    "mse6_pca_train=mse_pca_train(100) \n",
    "mse7_pca_train=mse_pca_train(200)\n",
    "mse8_pca_train=mse_pca_train(250)\n",
    "mse9_pca_train=mse_pca_train(300)\n",
    "mse1_pca_train, mse2_pca_train, mse3_pca_train, mse4_pca_train, mse5_pca_train, mse6_pca_train, mse7_pca_train, mse8_pca_train, mse9_pca_train"
   ]
  },
  {
   "cell_type": "code",
   "execution_count": 108,
   "metadata": {},
   "outputs": [
    {
     "data": {
      "text/latex": [
       "$\\displaystyle 0.026377206621249656$"
      ],
      "text/plain": [
       "0.026377206621249656"
      ]
     },
     "execution_count": 108,
     "metadata": {},
     "output_type": "execute_result"
    }
   ],
   "source": [
    "min(mse1_pca_train, mse2_pca_train, mse3_pca_train, mse4_pca_train, mse5_pca_train, mse6_pca_train, mse7_pca_train, mse8_pca_train, mse9_pca_train) # alpha = 0.01"
   ]
  },
  {
   "cell_type": "code",
   "execution_count": 109,
   "metadata": {},
   "outputs": [
    {
     "data": {
      "text/latex": [
       "$\\displaystyle \\left( \\left( 6, \\  6193\\right), \\  \\left( 6, \\  14447\\right), \\  \\left( 14447, \\  6\\right), \\  \\left( 14447\\right)\\right)$"
      ],
      "text/plain": [
       "((6, 6193), (6, 14447), (14447, 6), (14447,))"
      ]
     },
     "execution_count": 109,
     "metadata": {},
     "output_type": "execute_result"
    }
   ],
   "source": [
    "R_test.shape, R.shape, R.T.shape, y_train.shape"
   ]
  },
  {
   "cell_type": "code",
   "execution_count": 110,
   "metadata": {},
   "outputs": [],
   "source": [
    "def ridge_pca(alpha_vals): \n",
    "    y_pred_ridge_pca = R_test.T @ (((LA.inv((R @ R.T) + alpha_vals*I2)) @ R) @ y_train)\n",
    "    return y_pred_ridge_pca"
   ]
  },
  {
   "cell_type": "code",
   "execution_count": 111,
   "metadata": {},
   "outputs": [
    {
     "data": {
      "text/plain": [
       "(array([ 0.16924233,  0.66835139, -0.01453616, ..., -0.07515723,\n",
       "         0.23497747,  0.09456884]),\n",
       " array([ 0.16932066,  0.66816064, -0.01431146, ..., -0.07457741,\n",
       "         0.23487152,  0.09508548]),\n",
       " array([ 0.16955905,  0.66757944, -0.01362723, ..., -0.07281424,\n",
       "         0.23455   ,  0.09665572]),\n",
       " array([ 0.17002963,  0.6664292 , -0.01227488, ..., -0.06934041,\n",
       "         0.23391952,  0.0997458 ]),\n",
       " array([ 0.17497361,  0.65407778,  0.00207555, ..., -0.03339872,\n",
       "         0.22764661,  0.13141219]),\n",
       " array([0.1816365 , 0.63643364, 0.02188137, ..., 0.01328148, 0.22030572,\n",
       "        0.1715467 ]),\n",
       " array([0.18949211, 0.61333382, 0.04610018, ..., 0.065302  , 0.21356604,\n",
       "        0.21444349]),\n",
       " array([0.19243196, 0.60370887, 0.0554763 , ..., 0.08380801, 0.21165875,\n",
       "        0.22905261]),\n",
       " array([0.19491337, 0.59498713, 0.06356101, ..., 0.09897625, 0.21034138,\n",
       "        0.2406817 ]))"
      ]
     },
     "execution_count": 111,
     "metadata": {},
     "output_type": "execute_result"
    }
   ],
   "source": [
    "ridge_pca(0.01), ridge_pca(0.5), ridge_pca(2), ridge_pca(5), ridge_pca(40), ridge_pca(100), ridge_pca(200), ridge_pca(250), ridge_pca(300)"
   ]
  },
  {
   "cell_type": "code",
   "execution_count": 112,
   "metadata": {},
   "outputs": [
    {
     "data": {
      "text/latex": [
       "$\\displaystyle \\left( 6193\\right)$"
      ],
      "text/plain": [
       "(6193,)"
      ]
     },
     "execution_count": 112,
     "metadata": {},
     "output_type": "execute_result"
    }
   ],
   "source": [
    "ridge_pca(0.01).shape"
   ]
  },
  {
   "cell_type": "code",
   "execution_count": 113,
   "metadata": {},
   "outputs": [],
   "source": [
    "def mse_pca(alpha_vals):\n",
    "    mse_pca=np.square((ridge_pca(alpha_vals))-(y_test)).mean()\n",
    "    return mse_pca"
   ]
  },
  {
   "cell_type": "code",
   "execution_count": 114,
   "metadata": {},
   "outputs": [
    {
     "data": {
      "text/latex": [
       "$\\displaystyle \\left( 0.11087005932715507, \\  0.1107492717985946, \\  0.11038236065679213, \\  0.1096611731579172, \\  0.10232973403795637, \\  0.09314308854347274, \\  0.08329600664887975, \\  0.07987356301785199, \\  0.07709170696908337\\right)$"
      ],
      "text/plain": [
       "(0.11087005932715507, 0.1107492717985946, 0.11038236065679213, 0.1096611731579\n",
       "172, 0.10232973403795637, 0.09314308854347274, 0.08329600664887975, 0.07987356\n",
       "301785199, 0.07709170696908337)"
      ]
     },
     "execution_count": 114,
     "metadata": {},
     "output_type": "execute_result"
    }
   ],
   "source": [
    "mse1_pca=mse_pca(0.01)\n",
    "mse2_pca=mse_pca(0.5)\n",
    "mse3_pca=mse_pca(2)\n",
    "mse4_pca=mse_pca(5)\n",
    "mse5_pca=mse_pca(40)\n",
    "mse6_pca=mse_pca(100) \n",
    "mse7_pca=mse_pca(200)\n",
    "mse8_pca=mse_pca(250)\n",
    "mse9_pca=mse_pca(300)\n",
    "mse1_pca, mse2_pca, mse3_pca, mse4_pca, mse5_pca, mse6_pca, mse7_pca, mse8_pca, mse9_pca"
   ]
  },
  {
   "cell_type": "code",
   "execution_count": 115,
   "metadata": {},
   "outputs": [
    {
     "data": {
      "text/latex": [
       "$\\displaystyle 0.07709170696908337$"
      ],
      "text/plain": [
       "0.07709170696908337"
      ]
     },
     "execution_count": 115,
     "metadata": {},
     "output_type": "execute_result"
    }
   ],
   "source": [
    "min(mse1_pca, mse2_pca, mse3_pca, mse4_pca, mse5_pca, mse6_pca, mse7_pca, mse8_pca, mse9_pca) # alpha =300"
   ]
  },
  {
   "cell_type": "code",
   "execution_count": 116,
   "metadata": {},
   "outputs": [
    {
     "data": {
      "image/png": "[encoded data removed]",
      "text/plain": [
       "<Figure size 432x288 with 1 Axes>"
      ]
     },
     "metadata": {
      "needs_background": "light"
     },
     "output_type": "display_data"
    }
   ],
   "source": [
    "sns.lineplot(x=alpha_vals, y=[mse1,mse2,mse3,mse4,mse5,mse6,mse7,mse8,mse9], color='black')\n",
    "sns.lineplot(x=alpha_vals, y=[mse1_pca, mse2_pca,mse3_pca, mse4_pca, mse5_pca, mse6_pca, mse7_pca, mse8_pca, mse9_pca], color='red')\n",
    "plt.show()"
   ]
  },
  {
   "cell_type": "code",
   "execution_count": 97,
   "metadata": {},
   "outputs": [
    {
     "data": {
      "image/png": "[encoded data removed]",
      "text/plain": [
       "<Figure size 432x288 with 1 Axes>"
      ]
     },
     "metadata": {
      "needs_background": "light"
     },
     "output_type": "display_data"
    }
   ],
   "source": [
    "sns.lineplot(x=alpha_vals, y=[mse1_pca,mse2_pca,mse3_pca,mse4_pca,mse5_pca,mse6_pca,mse7_pca,mse8_pca,mse9_pca], color='black')\n",
    "sns.lineplot(x=alpha_vals, y=[mse1_pca_train, mse2_pca_train,mse3_pca_train, mse4_pca_train, mse5_pca_train, mse6_pca_train, mse7_pca_train, mse8_pca_train, mse9_pca_train], color='red')\n",
    "plt.show()"
   ]
  }
 ],
 "metadata": {
  "kernelspec": {
   "display_name": "Python 3",
   "language": "python",
   "name": "python3"
  },
  "language_info": {
   "codemirror_mode": {
    "name": "ipython",
    "version": 3
   },
   "file_extension": ".py",
   "mimetype": "text/x-python",
   "name": "python",
   "nbconvert_exporter": "python",
   "pygments_lexer": "ipython3",
   "version": "3.7.3"
  }
 },
 "nbformat": 4,
 "nbformat_minor": 2
}
